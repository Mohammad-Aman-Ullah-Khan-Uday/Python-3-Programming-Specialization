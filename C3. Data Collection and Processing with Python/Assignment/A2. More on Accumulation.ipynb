{
 "cells": [
  {
   "cell_type": "markdown",
   "id": "1e4b497d",
   "metadata": {
    "deletable": false,
    "editable": false,
    "nbgrader": {
     "cell_type": "markdown",
     "checksum": "2f6171f18a35a40a959c95fa47cd844b",
     "grade": false,
     "grade_id": "cell-de0f6a17f40250e8",
     "locked": true,
     "schema_version": 3,
     "solution": false,
     "task": false
    }
   },
   "source": [
    "# Assignment 2\n",
    "\n",
    "More on Accumulation"
   ]
  },
  {
   "cell_type": "markdown",
   "id": "7297be40",
   "metadata": {
    "deletable": false,
    "editable": false,
    "nbgrader": {
     "cell_type": "markdown",
     "checksum": "1240b6bcc7e90aa9ebfbb65812e82efc",
     "grade": false,
     "grade_id": "cell-c031aa3bb3f5023b",
     "locked": true,
     "schema_version": 3,
     "solution": false,
     "task": false
    }
   },
   "source": [
    "Write code that **uses `map`** to assign to the variable `map_testing` all the elements from `lst_check`, prepending the string `\"Fruit: \"` to the beginning of each element. *Note: be sure to use `list` to convert the result from `map` into a list.*"
   ]
  },
  {
   "cell_type": "code",
   "execution_count": 15,
   "id": "f9ea208d",
   "metadata": {
    "deletable": false,
    "nbgrader": {
     "cell_type": "code",
     "checksum": "6850e073df526d4b4ddf157243a0b455",
     "grade": false,
     "grade_id": "cell-33f705472409f897",
     "locked": false,
     "schema_version": 3,
     "solution": true,
     "task": false
    },
    "tags": []
   },
   "outputs": [
    {
     "name": "stdout",
     "output_type": "stream",
     "text": [
      "['Fruit: plums', 'Fruit: watermelon', 'Fruit: kiwi', 'Fruit: strawberries', 'Fruit: blueberries', 'Fruit: peaches', 'Fruit: apples', 'Fruit: mangos', 'Fruit: papaya']\n"
     ]
    }
   ],
   "source": [
    "lst_check = ['plums', 'watermelon', 'kiwi', 'strawberries', 'blueberries', 'peaches', 'apples', 'mangos', 'papaya']\n",
    "\n",
    "map_testing = list(map(lambda x: f\"Fruit: {x}\", lst_check))\n",
    "\n",
    "print(map_testing)\n"
   ]
  },
  {
   "cell_type": "code",
   "execution_count": 16,
   "id": "e458b5d0",
   "metadata": {
    "deletable": false,
    "editable": false,
    "nbgrader": {
     "cell_type": "code",
     "checksum": "7c4d1d4a98e28878ed0cc9a43d9cfde2",
     "grade": true,
     "grade_id": "cell-9270b9c7ad936d05",
     "locked": true,
     "points": 1,
     "schema_version": 3,
     "solution": false,
     "task": false
    },
    "tags": []
   },
   "outputs": [],
   "source": [
    "assert 'Fruit: plums' in map_testing\n",
    "assert 'Fruit: kiwi' in map_testing\n"
   ]
  },
  {
   "cell_type": "markdown",
   "id": "8316c90c",
   "metadata": {
    "deletable": false,
    "editable": false,
    "nbgrader": {
     "cell_type": "markdown",
     "checksum": "241d316e514163f047712ed0e92a83cb",
     "grade": false,
     "grade_id": "cell-4979a1a68999daf8",
     "locked": true,
     "schema_version": 3,
     "solution": false,
     "task": false
    }
   },
   "source": [
    "Below, we have provided a list of strings called `countries`. **Use `filter`** to produce a list called `b_countries` that only contains the strings from countries that begin with `'B'`. *Note: be sure to use `list` to convert the result from `filter` into a list.*"
   ]
  },
  {
   "cell_type": "code",
   "execution_count": 17,
   "id": "267fad28",
   "metadata": {
    "deletable": false,
    "nbgrader": {
     "cell_type": "code",
     "checksum": "4ccc85f6915343dbe1ac0521d0b64419",
     "grade": false,
     "grade_id": "cell-728dbbed11e70922",
     "locked": false,
     "schema_version": 3,
     "solution": true,
     "task": false
    },
    "tags": []
   },
   "outputs": [
    {
     "name": "stdout",
     "output_type": "stream",
     "text": [
      "['Brazil', 'Botswana', 'Britain', 'Bangladesh', 'Belarus', 'Belgium']\n"
     ]
    }
   ],
   "source": [
    "countries = ['Canada', 'Mexico', 'Brazil', 'Chile', 'Denmark', 'Botswana', 'Spain', 'Britain', 'Portugal', 'Russia', 'Thailand', 'Bangladesh', 'Nigeria', 'Argentina', 'Belarus', 'Laos', 'Australia', 'Panama', 'Egypt', 'Morocco', 'Switzerland', 'Belgium']\n",
    "\n",
    "b_countries = list(filter(lambda strn: strn[0] == 'B', countries))\n",
    "\n",
    "print(b_countries)"
   ]
  },
  {
   "cell_type": "code",
   "execution_count": 18,
   "id": "73e840b4",
   "metadata": {
    "deletable": false,
    "editable": false,
    "nbgrader": {
     "cell_type": "code",
     "checksum": "139d674cbc80ef1aabd69f45a09d5573",
     "grade": true,
     "grade_id": "cell-a3a6ce379963c355",
     "locked": true,
     "points": 1,
     "schema_version": 3,
     "solution": false,
     "task": false
    }
   },
   "outputs": [],
   "source": [
    "assert 'Brazil' in b_countries\n",
    "assert 'Canada' not in b_countries\n"
   ]
  },
  {
   "cell_type": "markdown",
   "id": "18c675f3",
   "metadata": {
    "deletable": false,
    "editable": false,
    "nbgrader": {
     "cell_type": "markdown",
     "checksum": "fc5c8be818ff29304599f4ad584967f4",
     "grade": false,
     "grade_id": "cell-264567fb3201d331",
     "locked": true,
     "schema_version": 3,
     "solution": false,
     "task": false
    }
   },
   "source": [
    "Below, we have provided a list of tuples that contain the names of Game of Thrones characters. The first item in each tuple is their last (family) name. The second item is their first (given) name. Using a **list comprehension**, create a list of strings called `first_names` that contains only the first names of everyone in the original list."
   ]
  },
  {
   "cell_type": "code",
   "execution_count": 19,
   "id": "d19b0f75",
   "metadata": {
    "deletable": false,
    "nbgrader": {
     "cell_type": "code",
     "checksum": "762d66bd95b2169fff24978e5e8f9b10",
     "grade": false,
     "grade_id": "cell-6d4a02615ad9dc17",
     "locked": false,
     "schema_version": 3,
     "solution": true,
     "task": false
    },
    "tags": []
   },
   "outputs": [
    {
     "name": "stdout",
     "output_type": "stream",
     "text": [
      "['Jon', 'Cersei', 'Arya', 'Robb', 'Jamie', 'Daenerys', 'Sansa', 'Margaery', 'Eddard', 'Tyrion', 'Joffrey', 'Ramsey', 'Peter']\n"
     ]
    }
   ],
   "source": [
    "people = [('Snow', 'Jon'), ('Lannister', 'Cersei'), ('Stark', 'Arya'), ('Stark', 'Robb'), ('Lannister', 'Jamie'), ('Targaryen', 'Daenerys'), ('Stark', 'Sansa'), ('Tyrell', 'Margaery'), ('Stark', 'Eddard'), ('Lannister', 'Tyrion'), ('Baratheon', 'Joffrey'), ('Bolton', 'Ramsey'), ('Baelish', 'Peter')]\n",
    "first_names=[name[1] for name in people]\n",
    "print(first_names)"
   ]
  },
  {
   "cell_type": "code",
   "execution_count": 20,
   "id": "763171e6",
   "metadata": {
    "deletable": false,
    "editable": false,
    "nbgrader": {
     "cell_type": "code",
     "checksum": "a3cee59f521e184b48bf316b99ac7da3",
     "grade": true,
     "grade_id": "cell-1d94c540a0067985",
     "locked": true,
     "points": 1,
     "schema_version": 3,
     "solution": false,
     "task": false
    },
    "tags": []
   },
   "outputs": [],
   "source": [
    "assert 'Jon'  in first_names\n",
    "assert 'Snow' not in first_names\n"
   ]
  },
  {
   "cell_type": "markdown",
   "id": "ee109e79",
   "metadata": {
    "deletable": false,
    "editable": false,
    "nbgrader": {
     "cell_type": "markdown",
     "checksum": "75a82f9855c2e4b64565da3ec5ef10be",
     "grade": false,
     "grade_id": "cell-f4d8b0d752042ae5",
     "locked": true,
     "schema_version": 3,
     "solution": false,
     "task": false
    }
   },
   "source": [
    "Use a **list comprehension** to create a list called `lst2` that \"doubles\" each element in the list, `lst`. Use `* 2` to \"double\" numbers (`5 * 2 == 10`), strings (`\"xyz\" * 2 == \"xyzxyz\"`), and lists (`['a', 'b'] * 2 == ['a', 'b', 'a', 'b']`)."
   ]
  },
  {
   "cell_type": "code",
   "execution_count": 21,
   "id": "c2856236",
   "metadata": {
    "deletable": false,
    "nbgrader": {
     "cell_type": "code",
     "checksum": "b8dec3f4b5e384d9dc70ad5bc15fbf00",
     "grade": false,
     "grade_id": "cell-3d3befbc2c890e0a",
     "locked": false,
     "schema_version": 3,
     "solution": true,
     "task": false
    },
    "tags": []
   },
   "outputs": [
    {
     "name": "stdout",
     "output_type": "stream",
     "text": [
      "[['hi', 'bye', 'hi', 'bye'], 'hellohello', 'goodbyegoodbye', [9, 2, 9, 2], 8]\n"
     ]
    }
   ],
   "source": [
    "lst = [[\"hi\", \"bye\"], \"hello\", \"goodbye\", [9, 2], 4]\n",
    "lst2 =[element*2 for element in lst]\n",
    "print(lst2)"
   ]
  },
  {
   "cell_type": "code",
   "execution_count": 22,
   "id": "7606562b",
   "metadata": {
    "deletable": false,
    "editable": false,
    "nbgrader": {
     "cell_type": "code",
     "checksum": "27c2d53df838b9dd67001e87ade350db",
     "grade": true,
     "grade_id": "cell-f1ef42d126ceaad3",
     "locked": true,
     "points": 1,
     "schema_version": 3,
     "solution": false,
     "task": false
    },
    "tags": []
   },
   "outputs": [],
   "source": [
    "assert \"hellohello\" in lst2\n"
   ]
  },
  {
   "cell_type": "markdown",
   "id": "0412c821",
   "metadata": {
    "deletable": false,
    "editable": false,
    "nbgrader": {
     "cell_type": "markdown",
     "checksum": "9675cfd8f7bde687465163f75f79edaa",
     "grade": false,
     "grade_id": "cell-1ae990a7b50b7ee6",
     "locked": true,
     "schema_version": 3,
     "solution": false,
     "task": false
    }
   },
   "source": [
    "Below, we have provided a list of tuples that contain students' names and their final grades in PYTHON 101. Using a **list comprehension**, create a new list `passed` that contains the *names* of students who passed the class (had a final grade of `70` or greater). `passed` should be a list of strings (names without final grades) in the same order as `students`."
   ]
  },
  {
   "cell_type": "code",
   "execution_count": 23,
   "id": "eddfa0de",
   "metadata": {
    "deletable": false,
    "nbgrader": {
     "cell_type": "code",
     "checksum": "8d0f93681d77dc2e245aaf9b37e76bca",
     "grade": false,
     "grade_id": "cell-0026cd972495389b",
     "locked": false,
     "schema_version": 3,
     "solution": true,
     "task": false
    },
    "tags": []
   },
   "outputs": [
    {
     "name": "stdout",
     "output_type": "stream",
     "text": [
      "['Tamara', 'Carl', 'Bob', 'Sue']\n"
     ]
    }
   ],
   "source": [
    "students = [('Tamara', 95), ('Linda', 63), ('Carl', 70), ('Bob', 100), ('Raymond', 50), ('Sue', 75)]\n",
    "passed=[num[0] for num in students if num[1]>=70]\n",
    "print(passed)"
   ]
  },
  {
   "cell_type": "code",
   "execution_count": 24,
   "id": "a0982b3f",
   "metadata": {
    "deletable": false,
    "editable": false,
    "nbgrader": {
     "cell_type": "code",
     "checksum": "20bd6347ab48a780e00d040e2d4ca388",
     "grade": true,
     "grade_id": "cell-7365646af3677b07",
     "locked": true,
     "points": 1,
     "schema_version": 3,
     "solution": false,
     "task": false
    },
    "tags": []
   },
   "outputs": [],
   "source": [
    "assert 'Tamara' in passed\n",
    "assert 'Linda' not in passed\n"
   ]
  },
  {
   "cell_type": "markdown",
   "id": "6be51b12",
   "metadata": {
    "deletable": false,
    "editable": false,
    "nbgrader": {
     "cell_type": "markdown",
     "checksum": "0a902bf08d4b46dfa02058bc6aeaab7f",
     "grade": false,
     "grade_id": "cell-dc51ab5708c14221",
     "locked": true,
     "schema_version": 3,
     "solution": false,
     "task": false
    }
   },
   "source": [
    "Write code using `zip` and `filter` so that these lists (`l1` and `l2`) are combined into one big list of pairs and assigned to the variable `opposites` if both elements of the pair are longer than `3` characters. *Note: be sure to use `list` to convert the result into a list.*"
   ]
  },
  {
   "cell_type": "code",
   "execution_count": 25,
   "id": "92660ad2",
   "metadata": {
    "deletable": false,
    "nbgrader": {
     "cell_type": "code",
     "checksum": "d85d603a074aabc07b266dc0ebad02bf",
     "grade": false,
     "grade_id": "cell-4a5785241c831a5a",
     "locked": false,
     "schema_version": 3,
     "solution": true,
     "task": false
    },
    "tags": []
   },
   "outputs": [
    {
     "name": "stdout",
     "output_type": "stream",
     "text": [
      "<zip object at 0x7956e6ce1a40>\n",
      "[('left', 'right'), ('front', 'back')]\n"
     ]
    }
   ],
   "source": [
    "l1 = ['left', 'up', 'front']\n",
    "l2 = ['right', 'down', 'back']\n",
    "l3 = zip(l1, l2)\n",
    "print(l3)\n",
    "opposites = list(filter(lambda s: len(s[0])>3 and len(s[1])>3, l3))\n",
    "print(opposites)"
   ]
  },
  {
   "cell_type": "code",
   "execution_count": 26,
   "id": "b31bcabb",
   "metadata": {
    "deletable": false,
    "editable": false,
    "nbgrader": {
     "cell_type": "code",
     "checksum": "a2374390bec9b1a54e3e5e50ee3edd40",
     "grade": true,
     "grade_id": "cell-077fa8cd007e9e9c",
     "locked": true,
     "points": 1,
     "schema_version": 3,
     "solution": false,
     "task": false
    },
    "tags": []
   },
   "outputs": [],
   "source": [
    "assert ('left', 'right') in opposites\n",
    "# omit if either word is shorter than 3 characters...\n",
    "assert ('up', 'down') not in opposites\n"
   ]
  },
  {
   "cell_type": "markdown",
   "id": "2f621d83",
   "metadata": {
    "deletable": false,
    "editable": false,
    "nbgrader": {
     "cell_type": "markdown",
     "checksum": "67a9bd0dc5a34c4602bf7753ba379868",
     "grade": false,
     "grade_id": "cell-3f48ff59524b6887",
     "locked": true,
     "schema_version": 3,
     "solution": false,
     "task": false
    }
   },
   "source": [
    "Below, we have provided a `species` list and a `population` list. **Use `zip`** to combine these lists into one list of tuples called `pop_info`. From this list, create a new list called `endangered` that contains the names of species whose populations are below `2500`."
   ]
  },
  {
   "cell_type": "code",
   "execution_count": 27,
   "id": "30386f26",
   "metadata": {
    "deletable": false,
    "nbgrader": {
     "cell_type": "code",
     "checksum": "4d298245fb6af6cf14ad336fc773430a",
     "grade": false,
     "grade_id": "cell-5fcdbdf62ecae78e",
     "locked": false,
     "schema_version": 3,
     "solution": true,
     "task": false
    },
    "tags": []
   },
   "outputs": [
    {
     "name": "stdout",
     "output_type": "stream",
     "text": [
      "[('golden retriever', 10000), ('white tailed deer', 90000), ('black rhino', 1000), ('brown squirrel', 2000000), ('field mouse', 500000), ('orangutan', 500), ('sumatran elephant', 1200), ('rainbow trout', 8000), ('black bear', 12000), ('blue whale', 2300), ('water moccasin', 7500), ('giant panda', 100), ('green turtle', 1800), ('blue jay', 9500), ('japanese beetle', 125000)]\n",
      "['black rhino', 'orangutan', 'sumatran elephant', 'blue whale', 'giant panda', 'green turtle']\n"
     ]
    }
   ],
   "source": [
    "species = ['golden retriever', 'white tailed deer', 'black rhino', 'brown squirrel', 'field mouse', 'orangutan', 'sumatran elephant', 'rainbow trout', 'black bear', 'blue whale', 'water moccasin', 'giant panda', 'green turtle', 'blue jay', 'japanese beetle']\n",
    "\n",
    "population = [10000, 90000, 1000, 2000000, 500000, 500, 1200, 8000, 12000, 2300, 7500, 100, 1800, 9500, 125000]\n",
    "pop_info = list(zip(species,population))\n",
    "print(pop_info)\n",
    "endangered = [name[0] for name in pop_info if name[1]<2500]\n",
    "print(endangered)"
   ]
  },
  {
   "cell_type": "code",
   "execution_count": 28,
   "id": "47c7338a",
   "metadata": {
    "deletable": false,
    "editable": false,
    "nbgrader": {
     "cell_type": "code",
     "checksum": "17de11cf2367815df41766f98693adbb",
     "grade": true,
     "grade_id": "cell-78396308d9912e18",
     "locked": true,
     "points": 1,
     "schema_version": 3,
     "solution": false,
     "task": false
    },
    "tags": []
   },
   "outputs": [],
   "source": [
    "assert ('golden retriever', 10000) in pop_info\n",
    "assert 'golden retriever' not in endangered\n",
    "assert 'black rhino' in endangered\n"
   ]
  }
 ],
 "metadata": {
  "kernelspec": {
   "display_name": "Python 3 (ipykernel)",
   "language": "python",
   "name": "python3"
  },
  "language_info": {
   "codemirror_mode": {
    "name": "ipython",
    "version": 3
   },
   "file_extension": ".py",
   "mimetype": "text/x-python",
   "name": "python",
   "nbconvert_exporter": "python",
   "pygments_lexer": "ipython3",
   "version": "3.11.6"
  }
 },
 "nbformat": 4,
 "nbformat_minor": 5
}
