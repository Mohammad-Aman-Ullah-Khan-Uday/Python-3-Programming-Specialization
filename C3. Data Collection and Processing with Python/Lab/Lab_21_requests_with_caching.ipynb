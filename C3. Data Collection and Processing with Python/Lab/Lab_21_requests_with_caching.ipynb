{
 "cells": [
  {
   "cell_type": "markdown",
   "metadata": {},
   "source": [
    "# Request Data with Cache"
   ]
  },
  {
   "cell_type": "code",
   "execution_count": null,
   "metadata": {},
   "outputs": [],
   "source": [
    "import requests_with_caching"
   ]
  },
  {
   "cell_type": "markdown",
   "metadata": {},
   "source": [
    "The textbook describes the `requests_with_caching` module. If you're interested, you can look at the code for it. It's all in the file requests_with_caching.py, which you'll find in the same folder where this notebook is:\n",
    "    - click on \"jupyter\" at the top of the page to get there\n",
    "    - don't edit the code in that file! \n",
    "\n",
    "You can also find the file where the contents of the cache are stored: `permanent_cache.txt`. \n",
    "    - After you run code that causes data to be added to the \"page-specific cache\", you can find the contents of that in the file `this_page_cache.txt`.\n",
    "    - You don't need to look at those files unless you think it will help you to understand what's going on. \n",
    "    \n",
    "In this section, we want to make sure you understand the purpose of caching, and how to recognize when you've succeeded or failed at fetching something from the cache."
   ]
  },
  {
   "cell_type": "markdown",
   "metadata": {},
   "source": [
    "1. What's the value of using a cache (aka caching)?\n",
    "\n",
    "2. Let's make some requests to iTunes using the `requests_with_caching module` instead of the vanilla `requests` module. For each of the queries below, look at the output window to determine whether: \n",
    "    - a) the query results were found in the permanent cache; \n",
    "    - b) the query results were found in the local cache; or \n",
    "    - c) the query had to go out to the actual web site to get a response. \n",
    "\n",
    "If the answer is c), examine the contents of the returned value (e.g., look at it's `.text` and `.url` attributes), and from that determine whether the query was successful at returning the information requested or not."
   ]
  },
  {
   "cell_type": "code",
   "execution_count": null,
   "metadata": {},
   "outputs": [],
   "source": [
    "parameters = {\"term\": \"Ann Arbor\", \"entity\": \"podcast\"}\n",
    "response1 = requests_with_caching.get(\"https://itunes.apple.com/search\", params = parameters)"
   ]
  },
  {
   "cell_type": "code",
   "execution_count": null,
   "metadata": {},
   "outputs": [],
   "source": [
    "parameters = {\"term\": \"Chicago\", \"entity\": \"podcast\"}\n",
    "response2 = requests_with_caching.get(\"https://itunes.apple.com/search\", params = parameters)"
   ]
  },
  {
   "cell_type": "code",
   "execution_count": null,
   "metadata": {},
   "outputs": [],
   "source": [
    "# same query again\n",
    "parameters = {\"term\": \"Chicago\", \"entity\": \"podcast\"}\n",
    "response3 = requests_with_caching.get(\"https://itunes.apple.com/search\", params = parameters)"
   ]
  },
  {
   "cell_type": "code",
   "execution_count": null,
   "metadata": {},
   "outputs": [],
   "source": [
    "parameters = {\"terrific\": \"Chicago\", \"entity\": \"podcast\"}\n",
    "response4 = requests_with_caching.get(\"https://itunes.apple.com/search\", params = parameters)"
   ]
  },
  {
   "cell_type": "code",
   "execution_count": null,
   "metadata": {},
   "outputs": [],
   "source": [
    "parameters = {\"terrific\": \"Chicago\", \"entity\": \"podcast\"}\n",
    "response5 = requests_with_caching.get(\"https://foo.bar/search\", params = parameters)"
   ]
  },
  {
   "cell_type": "markdown",
   "metadata": {},
   "source": [
    "If you ever want to clear out the page_specific cache, you can invoke `requests_with_caching.clear_cache()`. In the runestone environment, the equivalent thing happens automatically whenever you reload a runestone page. But here you have to do it explicitly. Note that the contents of the \"permanent cache\" are never cleared.\n",
    "\n",
    "- The permanent cache contains results of past queries that *we* did and want to make permanently available to you. \n",
    "- The page-specific cache contains results of past queries that *you* did; they are available until you call `.clear_cache()` (or, in Runestone, until you reload the page).\n",
    "\n",
    "3. Discuss with a partner what's going on in the following code."
   ]
  },
  {
   "cell_type": "code",
   "execution_count": null,
   "metadata": {},
   "outputs": [],
   "source": [
    "# same query as before repeated; what's different after clearing the cache?\n",
    "parameters = {\"term\": \"Chicago\", \"entity\": \"podcast\"}\n",
    "\n",
    "response6 = requests_with_caching.get(\"https://itunes.apple.com/search\", params = parameters)\n",
    "\n",
    "requests_with_caching.clear_cache()\n",
    "\n",
    "response7 = requests_with_caching.get(\"https://itunes.apple.com/search\", params = parameters)"
   ]
  },
  {
   "cell_type": "code",
   "execution_count": null,
   "metadata": {},
   "outputs": [],
   "source": [
    "# any impact on items found in permanent cache?\n",
    "parameters = {\"term\": \"Ann Arbor\", \"entity\": \"podcast\"}\n",
    "response8 = requests_with_caching.get(\"https://itunes.apple.com/search\", params = parameters)\n",
    "\n",
    "requests_with_caching.clear_cache()\n",
    "\n",
    "response9 = requests_with_caching.get(\"https://itunes.apple.com/search\", params = parameters)"
   ]
  },
  {
   "cell_type": "markdown",
   "metadata": {},
   "source": [
    "Now you should be conceptually ready to handle the end-of-course assignment in runestone. In runestone, it won't let you go to the actual server to get results, so if it doesn't find things in the permanent cache you won't get a result at all. All the data you need *is* in the permanent cache there, so it's just a matter of making the rigth queries."
   ]
  },
  {
   "cell_type": "code",
   "execution_count": null,
   "metadata": {},
   "outputs": [],
   "source": []
  }
 ],
 "metadata": {
  "kernelspec": {
   "display_name": "Python 3",
   "language": "python",
   "name": "python3"
  },
  "language_info": {
   "codemirror_mode": {
    "name": "ipython",
    "version": 3
   },
   "file_extension": ".py",
   "mimetype": "text/x-python",
   "name": "python",
   "nbconvert_exporter": "python",
   "pygments_lexer": "ipython3",
   "version": "3.7.3"
  }
 },
 "nbformat": 4,
 "nbformat_minor": 4
}
