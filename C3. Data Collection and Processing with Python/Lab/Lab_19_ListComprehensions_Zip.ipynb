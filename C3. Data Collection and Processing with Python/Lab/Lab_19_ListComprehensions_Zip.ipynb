{
 "cells": [
  {
   "cell_type": "markdown",
   "metadata": {},
   "source": [
    "# Review and List Comprehensions Warmup"
   ]
  },
  {
   "cell_type": "markdown",
   "metadata": {},
   "source": [
    "1. `map` and `filter` return iterators (list-like objects that aren't actually lists).\n",
    "    - What other functions/methods have we learned that create an iterator\n",
    "    - When do we need to cast them to lists by invoking `list()` and when can we just use them as sequences?\n",
    "\n",
    "\n",
    "The basic structure of a list comprehension expression:\n",
    "    - [<transformer_expression> for <loop_var> in <sequence> if <filtration_expression>].\n",
    "    - The last element, the filtration expression, is optional.\n",
    "\n",
    "2. In what order should you read the parts of a list comprehension expression to understand it?"
   ]
  },
  {
   "cell_type": "markdown",
   "metadata": {},
   "source": [
    "# Map with list comprehensions"
   ]
  },
  {
   "cell_type": "markdown",
   "metadata": {},
   "source": [
    "3. Recall the following functions that we defined in previous sessions, as alternative ways to double all the values in a list. This time, you should make a version that does the same thing with a list comprehension. Mark the correspondences between elements of the different ways of implementing it."
   ]
  },
  {
   "cell_type": "code",
   "execution_count": null,
   "metadata": {},
   "outputs": [],
   "source": [
    "nums = [4, 11, 6, 8, 23]"
   ]
  },
  {
   "cell_type": "code",
   "execution_count": null,
   "metadata": {},
   "outputs": [],
   "source": [
    "def doubler(lst):\n",
    "    new = []\n",
    "    for num in lst:\n",
    "        new.append(2*num)\n",
    "    return new"
   ]
  },
  {
   "cell_type": "code",
   "execution_count": null,
   "metadata": {},
   "outputs": [],
   "source": [
    "def num_doubled(num):\n",
    "    return 2*num\n",
    "\n",
    "def doubler_with_map(lst):\n",
    "    return map(num_doubled, lst)"
   ]
  },
  {
   "cell_type": "code",
   "execution_count": null,
   "metadata": {},
   "outputs": [],
   "source": [
    "def doubler_with_map_and_lambda(lst):\n",
    "    return map(lambda num: 2*num, lst)\n"
   ]
  },
  {
   "cell_type": "code",
   "execution_count": null,
   "metadata": {
    "scrolled": true
   },
   "outputs": [],
   "source": [
    "def doubler_with_list_comprehension(lst):\n",
    "    # your code here"
   ]
  },
  {
   "cell_type": "code",
   "execution_count": null,
   "metadata": {},
   "outputs": [],
   "source": [
    "assert doubler(nums) == [8, 22, 12, 16, 46]\n",
    "assert num_doubled(3) == 6\n",
    "assert list(doubler_with_map(nums)) == [8, 22, 12, 16, 46]\n",
    "assert doubler_with_list_comprehension(nums) == [8, 22, 12, 16, 46]"
   ]
  },
  {
   "cell_type": "markdown",
   "metadata": {},
   "source": [
    "# Filter with List Comprehensions"
   ]
  },
  {
   "cell_type": "markdown",
   "metadata": {},
   "source": [
    "4. Previously, you defined the following filtering functions. Today, make a version that does the same thing with a list comprehension."
   ]
  },
  {
   "cell_type": "code",
   "execution_count": null,
   "metadata": {},
   "outputs": [],
   "source": [
    "def snames(strings):\n",
    "    new = []\n",
    "    for s in strings:\n",
    "        if s[0] == \"S\":\n",
    "            new.append(s)\n",
    "    return new"
   ]
  },
  {
   "cell_type": "code",
   "execution_count": null,
   "metadata": {},
   "outputs": [],
   "source": [
    "def sname(s):\n",
    "    if s[0] == \"S\":\n",
    "        return True\n",
    "\n",
    "def snames_with_filter_and_sname(strings):\n",
    "    return list(filter(sname, strings))"
   ]
  },
  {
   "cell_type": "code",
   "execution_count": null,
   "metadata": {},
   "outputs": [],
   "source": [
    "def snames_with_filter_and_lambda(strings):\n",
    "    return list(filter(lambda s: s[0] == \"S\", strings))"
   ]
  },
  {
   "cell_type": "code",
   "execution_count": null,
   "metadata": {},
   "outputs": [],
   "source": [
    "def snames_with_list_comprehension(strings):\n",
    "    # your code here"
   ]
  },
  {
   "cell_type": "code",
   "execution_count": null,
   "metadata": {},
   "outputs": [],
   "source": [
    "names = [\"Jack\", \"Samantha\", \"Nelson\", \"Swathi\", \"Shu-fen\"]\n",
    "lastnames = [\"Vikander\", \"Anderson\", \"Tyler\", \"Anand\" ,\"Li\"]"
   ]
  },
  {
   "cell_type": "code",
   "execution_count": null,
   "metadata": {},
   "outputs": [],
   "source": [
    "assert snames_with_list_comprehension(names) == ['Samantha', 'Swathi', 'Shu-fen']\n",
    "assert snames_with_list_comprehension(lastnames) == []"
   ]
  },
  {
   "cell_type": "markdown",
   "metadata": {},
   "source": [
    "# Map and Filter Combined in a List Comprehension"
   ]
  },
  {
   "cell_type": "markdown",
   "metadata": {},
   "source": [
    "5. Below, we have provided a list of tuples that contain students’ names and their final grades in PYTHON 101. Using a list comprehension, create a new list passed that contains the *just the names* of students who passed the class (had a final grade of 70 or greater) and assign it to the variable `passing_students`."
   ]
  },
  {
   "cell_type": "code",
   "execution_count": null,
   "metadata": {},
   "outputs": [],
   "source": [
    "# names generated at https://www.name-generator.org.uk\n",
    "students = [('Sirisha Patel', 95), ('Magan Sharma', 63), ('Suchitra Mohammad', 100), ('Nico Kaur', 50), ('Tarala Aziz', 75)]"
   ]
  },
  {
   "cell_type": "markdown",
   "metadata": {},
   "source": [
    "### Tests"
   ]
  },
  {
   "cell_type": "code",
   "execution_count": null,
   "metadata": {},
   "outputs": [],
   "source": [
    "assert passing_students == ['Sirisha Patel', 'Suchitra Mohammad', 'Tarala Aziz']"
   ]
  },
  {
   "cell_type": "markdown",
   "metadata": {},
   "source": [
    "## Zip\n",
    "6.  Describe what `zip` does. The following animation may help.\n",
    "![Animation showing zip](Figures/zip.gif \"map\")\n"
   ]
  },
  {
   "cell_type": "code",
   "execution_count": null,
   "metadata": {},
   "outputs": [],
   "source": [
    "countries = [\"Canada\", \"Mexico\", \"United States\", \"Guatemala\", \"Nicaragua\", \"Honduras\", \"El Salvador\", \"Costa Rica\", \"Panama\"]\n",
    "codes = [1, 52, 1, 502, 505, 504, 503, 506, 507]"
   ]
  },
  {
   "cell_type": "markdown",
   "metadata": {},
   "source": [
    "7. Write a function that takes two inputs: a list of countries and a list of dialing codes. It should return a list of tuples, where the first element of the tuple is a country name and the second element is the country's dialing code. Call this function `country_codes`.\n",
    "\n",
    "Use manual accumulation; don't use zip. Note that you will have to iterate through the index values [0, 1, ...], pulling out the country name and country code from that index position in each of the two lists."
   ]
  },
  {
   "cell_type": "markdown",
   "metadata": {},
   "source": [
    "8. Write a second function, `country_codes_with_zip`, which does the same thing, but using zip. (Much easier, isn't it?)"
   ]
  },
  {
   "cell_type": "code",
   "execution_count": null,
   "metadata": {},
   "outputs": [],
   "source": [
    "assert country_codes(countries, codes)[3] == ('Guatemala', 502)\n",
    "assert country_codes_with_zip(countries, codes)[3] == ('Guatemala', 502)"
   ]
  },
  {
   "cell_type": "markdown",
   "metadata": {},
   "source": [
    "9. Below, we have provided a species list and a population list. Use zip to combine these lists into one list of tuples called pop_info. From this list, create a new list called `endangered` that contains the names of species whose populations are below 2500."
   ]
  },
  {
   "cell_type": "code",
   "execution_count": null,
   "metadata": {},
   "outputs": [],
   "source": [
    "species = ['golden retriever', 'white tailed deer', 'black rhino', 'brown squirrel', 'field mouse', 'orangutan', 'sumatran elephant', 'rainbow trout', 'black bear', 'blue whale', 'water moccasin', 'giant panda', 'green turtle', 'blue jay', 'japanese beetle']\n",
    "\n",
    "population = [10000, 90000, 1000, 2000000, 500000, 500, 1200, 8000, 12000, 2300, 7500, 100, 1800, 9500, 125000]\n"
   ]
  },
  {
   "cell_type": "code",
   "execution_count": null,
   "metadata": {},
   "outputs": [],
   "source": [
    "assert endangered == ['black rhino',\n",
    " 'orangutan',\n",
    " 'sumatran elephant',\n",
    " 'blue whale',\n",
    " 'giant panda',\n",
    " 'green turtle']"
   ]
  }
 ],
 "metadata": {
  "kernelspec": {
   "display_name": "Python 3",
   "language": "python",
   "name": "python3"
  },
  "language_info": {
   "codemirror_mode": {
    "name": "ipython",
    "version": 3
   },
   "file_extension": ".py",
   "mimetype": "text/x-python",
   "name": "python",
   "nbconvert_exporter": "python",
   "pygments_lexer": "ipython3",
   "version": "3.7.3"
  }
 },
 "nbformat": 4,
 "nbformat_minor": 4
}
