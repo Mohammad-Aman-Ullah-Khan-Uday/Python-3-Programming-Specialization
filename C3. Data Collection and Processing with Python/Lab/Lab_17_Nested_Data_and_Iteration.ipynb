{
 "cells": [
  {
   "cell_type": "markdown",
   "metadata": {},
   "source": [
    "# JavaScript Object Notation (JSON)"
   ]
  },
  {
   "cell_type": "markdown",
   "metadata": {},
   "source": [
    "JSON is a commonly used format for returning objects from API calls (e.g., when we get data from Twitter, Instagram, Facebook, etc). Below, we have provided a hypothetical string `userProfilesString` in JSON format that contains information about 5 user profiles. "
   ]
  },
  {
   "cell_type": "code",
   "execution_count": null,
   "metadata": {},
   "outputs": [],
   "source": [
    "import json\n",
    "userProfilesString = '{\"profiles\": \\n{\"Iman\"\\n\\n: {\"tweets\": 450, \"likes\": 2500, \"followers\": 190, \"following\": 300},\\n\\n\"Allan\"\\n\\n: {\"tweets\": 200, \"likes\": 700, \"followers\": 150, \"following\": 100},\\n\\n\"Xinyan\"\\n\\n: {\"tweets\": 1135, \"likes\": 3000, \"followers\": 400, \"following\": 230},\\n\\n\"Hao\"\\n\\n: {\"tweets\": 645, \"likes\": 800, \"followers\": 300, \"following\": 500},\\n\"Harman\"\\n\\n: {\"tweets\": 300, \"likes\": 1750, \"followers\": 200, \"following\": 400}}}'\n"
   ]
  },
  {
   "cell_type": "markdown",
   "metadata": {},
   "source": [
    "1. Read the `userProfilesString` string as a python object `userProfiles` using json functions. "
   ]
  },
  {
   "cell_type": "markdown",
   "metadata": {},
   "source": [
    "#### Suppose it's been 3 days since you got the Twitter profile data. In the past 3 days, the following twitter activity happened: \n",
    "- Iman tweeted 5 times and liked 5 tweets.\n",
    "- Allan tweeted once. \n",
    "- Xinyan tweeted 10 times, followed 17 people and got 25 new followers. "
   ]
  },
  {
   "cell_type": "markdown",
   "metadata": {},
   "source": [
    "2. Add the Twitter activity from the last 3 days to `userProfiles`\n",
    "\n",
    "3. Convert the updated `userProfiles` python object back to a string in JSON format\n",
    "\n",
    "4. Print the updated JSON string, sorted in alphabetical order, and in a human-readable format (hint: try indent=4)."
   ]
  },
  {
   "cell_type": "markdown",
   "metadata": {},
   "source": [
    "# Nested Dictionaries"
   ]
  },
  {
   "cell_type": "markdown",
   "metadata": {},
   "source": [
    "##### Below, we have a grocery store's inventory of all items in stock and their sale prices. Answer the following questions about the inventory, and help a buyer get all items on their grocery list."
   ]
  },
  {
   "cell_type": "code",
   "execution_count": null,
   "metadata": {},
   "outputs": [],
   "source": [
    "inventory = {\"Apples\": {\"Price\": 1.50, \"Stock\": 10},\n",
    "             \"Bananas\": {\"Price\": 1.00, \"Stock\": 12},\n",
    "             \"Eggs\": {\"Price\": 3.00, \"Stock\": 7},\n",
    "             \"Milk\": {\"Price\": 3.50, \"Stock\": 20},\n",
    "             \"Oranges\": {\"Price\": 0.75, \"Stock\": 35},\n",
    "             \"Avocados\": {\"Price\": 2.50, \"Stock\": 5}\n",
    "            }\n"
   ]
  },
  {
   "cell_type": "markdown",
   "metadata": {},
   "source": [
    "5. What is the price of an `avocado`? Can you print it using one line of code (no hardcoding)? \n",
    "\n",
    "6. How many milk cartons are in stock? Print using one line of code. \n",
    "\n",
    "7. Add a new item `Celery` to the inventory, which costs \\$1.25, and there are 15 bunches in stock.\n",
    "\n",
    "8. Print each item in the inventory in the following format:\n",
    "```\n",
    "Apples\n",
    "\tPrice: 1.5\n",
    "\tStock: 10\n",
    "Bananas\n",
    "\tPrice: 1.0\n",
    "\tStock: 12\n",
    "    ```\n",
    "\n",
    "9. A buyer comes to the grocery story with a `groceryList`. Complete the function definition we started in the cell below. It should check the inventory dictionary and the grocery list, and print for the buyer which items from their grocery list are available and which are not, and the total cost of available items. Update the inventory to reflect the sale of these items. \n",
    "\n",
    "For example, if \n",
    "- the `inventory` was \n",
    " ```{\"Cherries\": {\"Price\": 2.00, \"Stock\": 5}, \"Strawberries\": {\"Price\": 3.50, \"Stock\": 10}}```\n",
    "- the `groceryList` was `[\"Cherries\", \"Strawberries\", \"Apples\"]`\n",
    "- the output will be:\n",
    "```\n",
    "availableItems = ['Cherries', 'Strawberries']\n",
    "unavailableItems = ['Apples']\n",
    "totalCost = 5.5\n",
    "```"
   ]
  },
  {
   "cell_type": "code",
   "execution_count": null,
   "metadata": {},
   "outputs": [],
   "source": [
    "def process_shopping_list(inventory, groceryList=[\"Apples\", \"Eggs\", \"Milk\", \"Avocados\", \"Broccoli\", \"Celery\", \"Cherries\"]):\n",
    "    pass\n"
   ]
  }
 ],
 "metadata": {
  "kernelspec": {
   "display_name": "Python 3",
   "language": "python",
   "name": "python3"
  },
  "language_info": {
   "codemirror_mode": {
    "name": "ipython",
    "version": 3
   },
   "file_extension": ".py",
   "mimetype": "text/x-python",
   "name": "python",
   "nbconvert_exporter": "python",
   "pygments_lexer": "ipython3",
   "version": "3.7.3"
  }
 },
 "nbformat": 4,
 "nbformat_minor": 4
}
