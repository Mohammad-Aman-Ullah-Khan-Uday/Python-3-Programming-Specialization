{
 "cells": [
  {
   "cell_type": "code",
   "execution_count": 45,
   "metadata": {},
   "outputs": [],
   "source": [
    "def give_feedback(guess, correct_word):\n",
    "    # Give feedback about a guessed word for a Wordle-like game\n",
    "    # \"Y\", \"y\", and \"-\" are used to indicate correct letters in correct position, correct letters in wrong position, and incorrect letters, respectively\n",
    "    return []"
   ]
  },
  {
   "cell_type": "code",
   "execution_count": 54,
   "metadata": {},
   "outputs": [],
   "source": [
    "assert list(give_feedback(\"guess\", \"guess\")) == ['Y', 'Y', 'Y', 'Y', 'Y']\n",
    "assert list(give_feedback(\"abcde\", \"fghij\")) == ['-', '-', '-', '-', '-']\n",
    "assert list(give_feedback(\"abcde\", \"edcba\")) == ['y', 'y', 'Y', 'y', 'y']\n",
    "assert list(give_feedback(\"hello\", \"hails\")) == ['Y', '-', 'y', 'Y', '-']\n",
    "assert list(give_feedback(\"tests\", \"testy\")) == ['Y', 'Y', 'Y', 'Y', 'y']\n",
    "assert list(give_feedback(\"testy\", \"tests\")) == ['Y', 'Y', 'Y', 'Y', '-']\n"
   ]
  },
  {
   "cell_type": "code",
   "execution_count": 47,
   "metadata": {},
   "outputs": [],
   "source": [
    "# without zip, iterate through the index values\n",
    "def give_feedback(guess, correct_word):\n",
    "    # Give feedack about a guessed word for a Wordle-like game\n",
    "    feedback = []\n",
    "    for i in range(len(guess)):\n",
    "        guessed_let = guess[i]\n",
    "        correct_let = correct_word[i]\n",
    "        if guessed_let == correct_let:\n",
    "            feedback.append(\"Y\")\n",
    "        elif guessed_let in correct_word:\n",
    "            feedback.append(\"y\")\n",
    "        else:\n",
    "            feedback.append(\"-\")\n",
    "    return feedback"
   ]
  },
  {
   "cell_type": "code",
   "execution_count": 49,
   "metadata": {},
   "outputs": [],
   "source": [
    "# using zip, it's a little easier to understand\n",
    "def give_feedback(guess, correct_word):\n",
    "    # Give feedack about a guessed word for a Wordle-like game\n",
    "    feedback = []\n",
    "    for guessed_let, correct_let in zip(guess, correct_word):\n",
    "        if guessed_let == correct_let:\n",
    "            feedback.append(\"Y\")\n",
    "        elif guessed_let in correct_word:\n",
    "            feedback.append(\"y\")\n",
    "        else:\n",
    "            feedback.append(\"-\")\n",
    "    return feedback"
   ]
  },
  {
   "cell_type": "code",
   "execution_count": 51,
   "metadata": {},
   "outputs": [],
   "source": [
    "# with a list comprehension instead of manual accumulation\n",
    "\n",
    "def one_letter_feedback(guessed_let, correct_let, correct_word):\n",
    "    if guessed_let == correct_let:\n",
    "        return \"Y\"\n",
    "    elif guessed_let in correct_word:\n",
    "        return \"y\"\n",
    "    else:\n",
    "        return \"-\"\n",
    "\n",
    "def give_feedback(guess, correct_word):\n",
    "    # Give feedack about a guessed word for a Wordle-like game\n",
    "    return [one_letter_feedback(guessed_let, correct_let, correct_word) \n",
    "            for guessed_let, correct_let in zip(guess, correct_word)]"
   ]
  },
  {
   "cell_type": "code",
   "execution_count": null,
   "metadata": {},
   "outputs": [],
   "source": [
    "def give_feedback(guess, correct_word):\n",
    "    # Give feedack about a guessed word for a Wordle-like game\n",
    "    return [one_letter_feedback(guessed_let, correct_let, correct_word) \n",
    "            for guessed_let, correct_let in zip(guess, correct_word)]"
   ]
  }
 ],
 "metadata": {
  "kernelspec": {
   "display_name": "Python 3 (ipykernel)",
   "language": "python",
   "name": "python3"
  },
  "language_info": {
   "codemirror_mode": {
    "name": "ipython",
    "version": 3
   },
   "file_extension": ".py",
   "mimetype": "text/x-python",
   "name": "python",
   "nbconvert_exporter": "python",
   "pygments_lexer": "ipython3",
   "version": "3.11.6"
  }
 },
 "nbformat": 4,
 "nbformat_minor": 4
}
