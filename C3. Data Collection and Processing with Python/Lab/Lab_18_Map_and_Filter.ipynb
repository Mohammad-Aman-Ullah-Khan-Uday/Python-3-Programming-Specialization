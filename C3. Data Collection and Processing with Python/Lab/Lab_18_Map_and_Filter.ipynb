{
 "cells": [
  {
   "cell_type": "markdown",
   "metadata": {},
   "source": [
    "# DS 18: Map and Filter"
   ]
  },
  {
   "cell_type": "markdown",
   "metadata": {},
   "source": [
    "# Warmup\n"
   ]
  },
  {
   "cell_type": "markdown",
   "metadata": {},
   "source": [
    "1. What does `map` do? What is its syntax? This animation may help...\n",
    "![Animation showing map](Figures/map_illustration.gif \"map\")\n",
    "1. What is similar between the key argument in `sorted()` and the first argument passed to `map()`?\n",
    "1. What does `filter` do? What is its syntax? This animation may help...\n",
    "![Animation showing filter](Figures/filter.gif \"filter\")\n",
    "1. What is similar between the key argument in `sorted()` and the first argument passed to `filter()`?\n",
    "1. What is the difference between mapping and filtering?"
   ]
  },
  {
   "cell_type": "markdown",
   "metadata": {},
   "source": [
    "#  `map`"
   ]
  },
  {
   "cell_type": "code",
   "execution_count": null,
   "metadata": {},
   "outputs": [],
   "source": [
    "nums = [4, 11, 6, 8, 23]"
   ]
  },
  {
   "cell_type": "markdown",
   "metadata": {},
   "source": [
    "6. Write a function that takes one list as input and returns a copy of the original list with its elements doubled. Use manual accumulation (i.e., not map or a list comprehension). Call this function `doubler`.\n",
    "\n",
    "7. Write a new function called `num_doubled`, which takes one integer as input and returns this value, but doubled.\n",
    "\n",
    "8. Using the built-in map function and `num_doubled`, write  a function `doubler_with_map` that does what `doubler` does, but using `map` and `num_doubled`.\n",
    "\n",
    "9. Make a function `doubler_with_map_and_lambda` that does the same thing using an anonymous function rather than `num_doubled`."
   ]
  },
  {
   "cell_type": "code",
   "execution_count": null,
   "metadata": {},
   "outputs": [],
   "source": [
    "assert doubler(nums) == [8, 22, 12, 16, 46]\n",
    "assert num_doubled(3) == 6\n",
    "assert list(doubler_with_map(nums)) == [8, 22, 12, 16, 46]"
   ]
  },
  {
   "cell_type": "markdown",
   "metadata": {},
   "source": [
    "# `filter`"
   ]
  },
  {
   "cell_type": "markdown",
   "metadata": {},
   "source": [
    "10. Create a function called `snames` that takes one list of strings as input and returns a copy of it, that includes only the strings that start with `S`. Do manual accumulation; don't use filter or a list comprehension.\n",
    "\n",
    "2. Write a function called `sname` that takes one string as input and returns `True` if the string starts with `S`.\n",
    "\n",
    "3. Define a function `snames_with_filter_and_sname` that does the same thing as `snames` but uses `filter` and `sname`.\n",
    "\n",
    "4. Define a function `snames_with_filter_and_lambda` that does same thing but with an anonymous function."
   ]
  },
  {
   "cell_type": "code",
   "execution_count": null,
   "metadata": {},
   "outputs": [],
   "source": [
    "names = [\"Jack\", \"Samantha\", \"Nelson\", \"Swathi\", \"Shu-fen\"]\n",
    "lastnames = [\"Vikander\", \"Anderson\", \"Tyler\", \"Anand\" ,\"Li\"]"
   ]
  },
  {
   "cell_type": "code",
   "execution_count": null,
   "metadata": {},
   "outputs": [],
   "source": [
    "assert snames(names) == ['Samantha', 'Swathi', 'Shu-fen']\n",
    "assert snames_with_filter_and_sname(names) == ['Samantha', 'Swathi', 'Shu-fen']\n",
    "assert snames_with_filter_and_lambda(names) == ['Samantha', 'Swathi', 'Shu-fen']\n",
    "assert snames(lastnames) == []\n",
    "assert snames_with_filter_and_sname(lastnames) == []\n",
    "assert snames_with_filter_and_lambda(lastnames) == []"
   ]
  }
 ],
 "metadata": {
  "kernelspec": {
   "display_name": "Python 3",
   "language": "python",
   "name": "python3"
  },
  "language_info": {
   "codemirror_mode": {
    "name": "ipython",
    "version": 3
   },
   "file_extension": ".py",
   "mimetype": "text/x-python",
   "name": "python",
   "nbconvert_exporter": "python",
   "pygments_lexer": "ipython3",
   "version": "3.7.3"
  }
 },
 "nbformat": 4,
 "nbformat_minor": 4
}
