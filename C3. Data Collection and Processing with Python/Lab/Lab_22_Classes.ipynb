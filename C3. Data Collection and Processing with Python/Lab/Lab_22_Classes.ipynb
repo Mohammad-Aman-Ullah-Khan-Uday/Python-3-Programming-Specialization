{
 "cells": [
  {
   "cell_type": "markdown",
   "metadata": {},
   "source": [
    "# Warm-up"
   ]
  },
  {
   "cell_type": "markdown",
   "metadata": {},
   "source": [
    "1. What is an object (or instance)? What are some types of objects we have seen so far?\n",
    "\n",
    "2. What is a class? How is it different from an object/instance?"
   ]
  },
  {
   "cell_type": "markdown",
   "metadata": {},
   "source": [
    "# Group 1: The Anatomy of a Class"
   ]
  },
  {
   "cell_type": "markdown",
   "metadata": {},
   "source": [
    "#### We have provided code for a user-defined class below, taken from the textbook's Tamagotchi game. Please read through this code carefully (but don't edit it!), and answer the questions that follow. "
   ]
  },
  {
   "cell_type": "code",
   "execution_count": null,
   "metadata": {},
   "outputs": [],
   "source": [
    "from random import randrange\n",
    "\n",
    "class Pet:\n",
    "    boredom_decrement = 4\n",
    "    hunger_decrement = 6\n",
    "    boredom_threshold = 5\n",
    "    hunger_threshold = 10\n",
    "    sounds = ['Woof']\n",
    "    \n",
    "    def __init__(self, name = \"Kitty\"):\n",
    "        self.name = name\n",
    "        self.hunger = randrange(self.hunger_threshold)\n",
    "        self.boredom = randrange(self.boredom_threshold)\n",
    "        self.sounds = self.sounds[:]\n",
    "\n",
    "    def clock_tick(self):\n",
    "        self.boredom += 1\n",
    "        self.hunger += 1\n",
    "\n",
    "    def mood(self):\n",
    "        if self.hunger <= self.hunger_threshold and \\\n",
    "           self.boredom <= self.boredom_threshold:\n",
    "            return \"happy\"\n",
    "        elif self.hunger > self.hunger_threshold:\n",
    "            return \"hungry\"\n",
    "        else:\n",
    "            return \"bored\"\n",
    "\n",
    "    def __str__(self):\n",
    "        state = \"\\tI'm {}. I feel {}.\".format(self.name, self.mood())\n",
    "        return state\n",
    "\n",
    "    def hi(self):\n",
    "        random_sound = self.sounds[randrange(len(self.sounds))]\n",
    "        print('\\t\\t{} says {}'.format(self.name, \n",
    "                                      random_sound))\n",
    "        self.reduce_boredom()\n",
    "\n",
    "    def teach(self, word):\n",
    "        self.sounds.append(word)\n",
    "        self.reduce_boredom()\n",
    "\n",
    "    def feed(self):\n",
    "        self.reduce_hunger()\n",
    "\n",
    "    def reduce_hunger(self):\n",
    "        self.hunger = max(0, self.hunger - self.hunger_decrement)\n",
    "\n",
    "    def reduce_boredom(self):\n",
    "        self.boredom = max(0, self.boredom - self.boredom_decrement)"
   ]
  },
  {
   "cell_type": "markdown",
   "metadata": {},
   "source": [
    "3. What is the name of the class defined above? What are its instance variables, class variables, and methods? \n",
    "\n",
    "4. On which lines is the \"constructor\" defined? How do you know it's the constructor? Why does it have an argument named `self`?\n",
    "\n",
    "5. Write code to create an object of class Pet called \"Fido\", and bind this object to the variable name `p1`. "
   ]
  },
  {
   "cell_type": "code",
   "execution_count": null,
   "metadata": {},
   "outputs": [],
   "source": [
    "# Enter code for Q5 here\n"
   ]
  },
  {
   "cell_type": "markdown",
   "metadata": {},
   "source": [
    "6. What will print out when we run the code snippet `print(p1)`? Why?"
   ]
  },
  {
   "cell_type": "code",
   "execution_count": null,
   "metadata": {},
   "outputs": [],
   "source": [
    "print(p1)"
   ]
  },
  {
   "cell_type": "markdown",
   "metadata": {},
   "source": [
    "7. Which is the correct way to get Fido's current hunger level?\n",
    "    - `Fido.hunger`\n",
    "    - `\"Fido\".hunger`\n",
    "    - `p1.hunger`\n",
    "    - `p1.hunger()`\n",
    "    - `self.hunger`\n",
    "    - `self.Pet.hunger`"
   ]
  },
  {
   "cell_type": "markdown",
   "metadata": {},
   "source": [
    "8. What happens when we run the code `p1.feed()`?\n",
    "9. What will the value of self be on line 44?\n",
    "10. What does the max operation do on line 47?"
   ]
  },
  {
   "cell_type": "code",
   "execution_count": null,
   "metadata": {},
   "outputs": [],
   "source": [
    "p1.feed()"
   ]
  },
  {
   "cell_type": "markdown",
   "metadata": {},
   "source": [
    "11. What will happen when we run the code `p1.clock_tick()`?\n",
    "12. Write code that will make the clock tick 100 times for Fido. "
   ]
  },
  {
   "cell_type": "code",
   "execution_count": null,
   "metadata": {},
   "outputs": [],
   "source": [
    "# Enter code for Q12 here\n"
   ]
  },
  {
   "cell_type": "markdown",
   "metadata": {},
   "source": [
    "13. If Fido is both hungry and bored, what will print out? Do `print(p1)`. \n",
    "\n",
    "14. What happens when we run the code `p1.teach(\"Boo\")`?"
   ]
  },
  {
   "cell_type": "code",
   "execution_count": null,
   "metadata": {},
   "outputs": [],
   "source": [
    "p1.teach(\"Boo\")"
   ]
  },
  {
   "cell_type": "markdown",
   "metadata": {},
   "source": [
    "15. What will print when you run the following code snippet? Why? Try guessing before executing the code."
   ]
  },
  {
   "cell_type": "code",
   "execution_count": null,
   "metadata": {},
   "outputs": [],
   "source": [
    "for i in range(10):\n",
    "    p1.hi()"
   ]
  },
  {
   "cell_type": "markdown",
   "metadata": {},
   "source": [
    "# Group 2: Aliases and References for Objects"
   ]
  },
  {
   "cell_type": "markdown",
   "metadata": {},
   "source": [
    "16. Guess what will print for each of the print statements in the code snippet below:"
   ]
  },
  {
   "cell_type": "code",
   "execution_count": null,
   "metadata": {
    "scrolled": true
   },
   "outputs": [],
   "source": [
    "p2 = Pet(\"Astro\")\n",
    "p3 = Pet(\"Cosmo\")\n",
    "print(\"Same names? {}\".format(p2.name == p3.name))\n",
    "print(\"Same hunger? {}\".format(p2.hunger == p3.hunger))\n",
    "print(\"Same hunger threshold? {}\".format(p2.hunger_threshold == p3.hunger_threshold))"
   ]
  },
  {
   "cell_type": "markdown",
   "metadata": {},
   "source": [
    "17. What does line 14 do? `self.sounds = self.sounds[:]`"
   ]
  },
  {
   "cell_type": "markdown",
   "metadata": {},
   "source": [
    "18. Guess what will print for each of the statements in the code snippet below:"
   ]
  },
  {
   "cell_type": "code",
   "execution_count": null,
   "metadata": {},
   "outputs": [],
   "source": [
    "print(\"p2 and p3 same sounds attempt 1: {}\".format(p2.sounds == p3.sounds))\n",
    "print(\"p2 and p3 same sounds attempt 2: {}\".format(p2.sounds is p3.sounds))\n",
    "print(\"p1 and p2 same sounds attempt 1: {}\".format(p1.sounds == p2.sounds))\n",
    "print(\"p1 and p2 same sounds attempt 2: {}\".format(p1.sounds is p2.sounds))"
   ]
  },
  {
   "cell_type": "markdown",
   "metadata": {},
   "source": [
    "19. What happens when we replace the code on line 14 with `self.sounds = self.sounds`? Would the code snippet above in Q3 print the same outputs?"
   ]
  },
  {
   "cell_type": "markdown",
   "metadata": {},
   "source": [
    "# Group 3: Sorting with Classes"
   ]
  },
  {
   "cell_type": "code",
   "execution_count": null,
   "metadata": {},
   "outputs": [],
   "source": [
    "# RUN THIS CODE, BUT DON'T EDIT IT\n",
    "all_pets = []\n",
    "for name in [\"Mari\", \"Duke\", \"Cane\", \"Darcy\", \"Zozo\"]:\n",
    "    p = Pet(name)\n",
    "    all_pets.append(p)\n",
    "\n",
    "for pet in all_pets:\n",
    "    iterate = randrange(25,100)\n",
    "    for i in range(iterate):\n",
    "        pet.clock_tick()\n",
    "\n",
    "for pet in all_pets:\n",
    "    print(pet)"
   ]
  },
  {
   "cell_type": "markdown",
   "metadata": {},
   "source": [
    "20. It's time to feed the pets! Sort and print the list of pets above (stored in variable `all_pets`) by decreasing order of hunger. "
   ]
  },
  {
   "cell_type": "markdown",
   "metadata": {},
   "source": [
    "21. Define a new method for class Pet called `sort_order`, which returns the average of how bored and hungry a pet is as their sorting value. "
   ]
  },
  {
   "cell_type": "markdown",
   "metadata": {},
   "source": [
    "22. Use the `sort_order` method of class Pet to get a sorted list of `all_pets` in decreasing order of needing attention: the most bored or hungry pets demand immediate attention. "
   ]
  },
  {
   "cell_type": "markdown",
   "metadata": {},
   "source": [
    "23. Use list comprehension to get the list of pet names in sorted order in Q3. You only need one line of code to do this."
   ]
  },
  {
   "cell_type": "markdown",
   "metadata": {},
   "source": [
    "# Group 4: Pet Simulation (Bonus Challenge)"
   ]
  },
  {
   "cell_type": "code",
   "execution_count": null,
   "metadata": {},
   "outputs": [],
   "source": [
    "# RUN THIS, BUT DO NOT EDIT THIS CODE\n",
    "def play():\n",
    "    animals = {}\n",
    "    option = \"\"\n",
    "    base_prompt = \"\"\"\n",
    "        Quit\n",
    "        Adopt <petname_with_no_spaces_please>\n",
    "        Greet <petname>\n",
    "        Teach <petname> <word>\n",
    "        Feed <petname>\n",
    "\n",
    "        Choice: \"\"\"\n",
    "    feedback = \"\"\n",
    "    while True:\n",
    "        print(feedback)\n",
    "        feedback = \"\"\n",
    "        action = input(base_prompt)\n",
    "        words = action.split()\n",
    "        if len(words) > 0:\n",
    "            command = words[0]\n",
    "        else:\n",
    "            command = None\n",
    "        if command == \"Quit\":\n",
    "            print(\"Exiting...\")\n",
    "            return\n",
    "        elif command == \"Adopt\" and len(words) > 1:\n",
    "            name = words[1]\n",
    "            if name in animals:\n",
    "                feedback += \"You already have a pet with that name\\n\"\n",
    "            else:\n",
    "                animals[name] = (Pet(name))\n",
    "        elif command == \"Greet\" and len(words) > 1:\n",
    "            name = words[1]\n",
    "            try:\n",
    "                animals[name].hi()\n",
    "            except:\n",
    "                feedback += \"I didn't recognize that pet name. Please try again.\\n\"\n",
    "        elif command == \"Teach\" and len(words) > 2:\n",
    "            name = words[1]\n",
    "            word = words[2]\n",
    "            if name not in animals:\n",
    "                feedback += \"I didn't recognize that pet name. Please try again.\"\n",
    "            else:\n",
    "                pet = animals[name]\n",
    "                pet.teach(word)\n",
    "        elif command == \"Feed\" and len(words) > 1:\n",
    "            name = words[1]\n",
    "            try:\n",
    "                animals[name].feed()\n",
    "            except:\n",
    "                feedback += \"I didn't recognize that pet name. Please try again.\"\n",
    "        else:\n",
    "            feedback+= \"I didn't understand that. Please try again.\"\n",
    "\n",
    "        for pet in animals.values():\n",
    "            pet.clock_tick()\n",
    "            feedback += \"\\n\" + pet.__str__()"
   ]
  },
  {
   "cell_type": "markdown",
   "metadata": {},
   "source": [
    "24. Describe the contents of the variable `animals` when `play()` is executed."
   ]
  },
  {
   "cell_type": "markdown",
   "metadata": {},
   "source": [
    "25. What does line 31 do? "
   ]
  },
  {
   "cell_type": "markdown",
   "metadata": {},
   "source": [
    "26. What is in the variable feedback when it is printed on line 15?"
   ]
  },
  {
   "cell_type": "markdown",
   "metadata": {},
   "source": [
    "27. What do lines 55-57 do?"
   ]
  },
  {
   "cell_type": "code",
   "execution_count": null,
   "metadata": {},
   "outputs": [],
   "source": [
    "# Run this code to see how the simulation works from a user's (not programmer's) perspective\n",
    "play()"
   ]
  }
 ],
 "metadata": {
  "kernelspec": {
   "display_name": "Python 3",
   "language": "python",
   "name": "python3"
  },
  "language_info": {
   "codemirror_mode": {
    "name": "ipython",
    "version": 3
   },
   "file_extension": ".py",
   "mimetype": "text/x-python",
   "name": "python",
   "nbconvert_exporter": "python",
   "pygments_lexer": "ipython3",
   "version": "3.7.3"
  }
 },
 "nbformat": 4,
 "nbformat_minor": 4
}
