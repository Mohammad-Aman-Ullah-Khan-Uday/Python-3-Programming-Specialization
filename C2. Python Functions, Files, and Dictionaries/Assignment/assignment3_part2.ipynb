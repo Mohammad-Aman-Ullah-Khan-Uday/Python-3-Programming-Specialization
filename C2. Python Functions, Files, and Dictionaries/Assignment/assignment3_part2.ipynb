{
 "cells": [
  {
   "cell_type": "markdown",
   "id": "28f54549",
   "metadata": {
    "deletable": false,
    "editable": false,
    "nbgrader": {
     "cell_type": "markdown",
     "checksum": "531884dad71964b5a6d02bb8c158bef0",
     "grade": false,
     "grade_id": "cell-188aa4a22fef53a2",
     "locked": true,
     "schema_version": 3,
     "solution": false,
     "task": false
    }
   },
   "source": [
    "# Assignment 3 (part two)\n",
    "\n",
    "Tuples"
   ]
  },
  {
   "cell_type": "markdown",
   "id": "d4686c32",
   "metadata": {
    "deletable": false,
    "editable": false,
    "nbgrader": {
     "cell_type": "markdown",
     "checksum": "0bfeb70cdf5461bb2c4deb2cfb36004d",
     "grade": false,
     "grade_id": "cell-771f8da9f21869b8",
     "locked": true,
     "schema_version": 3,
     "solution": false,
     "task": false
    }
   },
   "source": [
    "Create a tuple called `olympics` with four elements: “Beijing”, “London”, “Rio”, “Tokyo”."
   ]
  },
  {
   "cell_type": "code",
   "execution_count": null,
   "id": "c31b1178",
   "metadata": {
    "deletable": false,
    "nbgrader": {
     "cell_type": "code",
     "checksum": "85cc725ab58e6b1074a525717e0f3a37",
     "grade": false,
     "grade_id": "cell-118789a275984971",
     "locked": false,
     "schema_version": 3,
     "solution": true,
     "task": false
    }
   },
   "outputs": [],
   "source": [
    "olympics = ('Beijing', 'London', 'Rio', 'Tokyo')\n",
    "\n",
    "print(type(olympics))\n"
   ]
  },
  {
   "cell_type": "code",
   "execution_count": null,
   "id": "2c8bf07f",
   "metadata": {
    "deletable": false,
    "editable": false,
    "nbgrader": {
     "cell_type": "code",
     "checksum": "b91706498cc59948b5a3893ada8bdf7b",
     "grade": true,
     "grade_id": "cell-0a9afa04f9ec9ddd",
     "locked": true,
     "points": 1,
     "schema_version": 3,
     "solution": false,
     "task": false
    }
   },
   "outputs": [],
   "source": []
  },
  {
   "cell_type": "markdown",
   "id": "da571eaf",
   "metadata": {
    "deletable": false,
    "editable": false,
    "nbgrader": {
     "cell_type": "markdown",
     "checksum": "8a23ef5955a719a2d9939ef3e975c32a",
     "grade": false,
     "grade_id": "cell-43eababb9f82ee33",
     "locked": true,
     "schema_version": 3,
     "solution": false,
     "task": false
    }
   },
   "source": [
    "The list below, `tuples_lst`, is a list of tuples. Create a list of the second elements of each tuple and assign this list to the variable `country`."
   ]
  },
  {
   "cell_type": "code",
   "execution_count": null,
   "id": "267cbb43",
   "metadata": {
    "deletable": false,
    "nbgrader": {
     "cell_type": "code",
     "checksum": "bd3b1f4672a84ce3af8cc169b62aa5ae",
     "grade": false,
     "grade_id": "cell-6fb845c10730ed1f",
     "locked": false,
     "schema_version": 3,
     "solution": true,
     "task": false
    }
   },
   "outputs": [],
   "source": [
    "tuples_lst = [('Beijing', 'China', 2008), ('London', 'England', 2012), ('Rio', 'Brazil', 2016, 'Current'), ('Tokyo', 'Japan', 2020, 'Future')]\n",
    "country=[]\n",
    "\n",
    "for tuple in tuples_lst:\n",
    "    country.append(tuple[1])\n",
    "    \n",
    "print(country)"
   ]
  },
  {
   "cell_type": "code",
   "execution_count": null,
   "id": "37526514",
   "metadata": {
    "deletable": false,
    "editable": false,
    "nbgrader": {
     "cell_type": "code",
     "checksum": "eb49c00bf2b8ae2df044f4a4b5de1839",
     "grade": true,
     "grade_id": "cell-81560edb22feb773",
     "locked": true,
     "points": 1,
     "schema_version": 3,
     "solution": false,
     "task": false
    }
   },
   "outputs": [],
   "source": []
  },
  {
   "cell_type": "markdown",
   "id": "4e645537",
   "metadata": {
    "deletable": false,
    "editable": false,
    "nbgrader": {
     "cell_type": "markdown",
     "checksum": "268095e8c324b3ed5a6f73724e547088",
     "grade": false,
     "grade_id": "cell-6deb3342aa3e86b8",
     "locked": true,
     "schema_version": 3,
     "solution": false,
     "task": false
    }
   },
   "source": [
    "With only one line of code, assign the variables `city`, `country`, and `year` to the values of the tuple olymp."
   ]
  },
  {
   "cell_type": "code",
   "execution_count": null,
   "id": "667d86fb",
   "metadata": {
    "deletable": false,
    "nbgrader": {
     "cell_type": "code",
     "checksum": "2ee9cda51f4408c96518b191683846f7",
     "grade": false,
     "grade_id": "cell-eec58bec632c8000",
     "locked": false,
     "schema_version": 3,
     "solution": true,
     "task": false
    }
   },
   "outputs": [],
   "source": [
    "olymp = ('Rio', 'Brazil', 2016)\n",
    "city,country,year=olymp[0],olymp[1],olymp[2]\n"
   ]
  },
  {
   "cell_type": "code",
   "execution_count": null,
   "id": "441f3175",
   "metadata": {
    "deletable": false,
    "editable": false,
    "nbgrader": {
     "cell_type": "code",
     "checksum": "6d34816a5e392c30b5dfb50fb18185d7",
     "grade": true,
     "grade_id": "cell-8409cbd7c95fe70f",
     "locked": true,
     "points": 1,
     "schema_version": 3,
     "solution": false,
     "task": false
    }
   },
   "outputs": [],
   "source": []
  },
  {
   "cell_type": "markdown",
   "id": "6aab7346",
   "metadata": {
    "deletable": false,
    "editable": false,
    "nbgrader": {
     "cell_type": "markdown",
     "checksum": "9df86ba6918f95f9561a65f648123efa",
     "grade": false,
     "grade_id": "cell-66eb268cc333e6d2",
     "locked": true,
     "schema_version": 3,
     "solution": false,
     "task": false
    }
   },
   "source": [
    "Define a function called `info` with five parameters: name, gender, age, bday_month, and hometown. The function should then return a tuple with all five parameters in that order."
   ]
  },
  {
   "cell_type": "code",
   "execution_count": null,
   "id": "acc5ccc8",
   "metadata": {
    "deletable": false,
    "nbgrader": {
     "cell_type": "code",
     "checksum": "1bafc0dcaf90871e41b11a15d29e9987",
     "grade": false,
     "grade_id": "cell-d667cac2ad0a5d0a",
     "locked": false,
     "schema_version": 3,
     "solution": true,
     "task": false
    }
   },
   "outputs": [],
   "source": [
    "def info(name, gender, age, bday_month, hometown):\n",
    "    return name, gender, age, bday_month, hometown"
   ]
  },
  {
   "cell_type": "code",
   "execution_count": null,
   "id": "9f7beb36",
   "metadata": {
    "deletable": false,
    "editable": false,
    "nbgrader": {
     "cell_type": "code",
     "checksum": "b09533a34e94a9e82fe1a2591d18576a",
     "grade": true,
     "grade_id": "cell-9844b20b62db5ffa",
     "locked": true,
     "points": 1,
     "schema_version": 3,
     "solution": false,
     "task": false
    }
   },
   "outputs": [],
   "source": []
  },
  {
   "cell_type": "markdown",
   "id": "2dc5d57e",
   "metadata": {
    "deletable": false,
    "editable": false,
    "nbgrader": {
     "cell_type": "markdown",
     "checksum": "71e31a95fd502b5d699b92083ef297bd",
     "grade": false,
     "grade_id": "cell-641fa8e41bdbdc0c",
     "locked": true,
     "schema_version": 3,
     "solution": false,
     "task": false
    }
   },
   "source": [
    "Given is the dictionary, `gold`, which shows the country and the number of gold medals they have earned so far in the 2016 Olympics. Define a function `get_num_medals` that returns a list and assign it to the variable `num_medals`, that contains only the number of medals for each country. You must use the .items() method. \n",
    "\n",
    "Note: The .items() method provides a list of tuples. Do not use .keys() method."
   ]
  },
  {
   "cell_type": "code",
   "execution_count": null,
   "id": "cc34f12f",
   "metadata": {
    "deletable": false,
    "nbgrader": {
     "cell_type": "code",
     "checksum": "a12117e2251557684212278b7542edcf",
     "grade": false,
     "grade_id": "cell-cafb99123b7d3ec8",
     "locked": false,
     "schema_version": 3,
     "solution": true,
     "task": false
    }
   },
   "outputs": [],
   "source": [
    "gold = {'USA':31, 'Great Britain':19, 'China':19, 'Germany':13, 'Russia':12, 'Japan':10, 'France':8, 'Italy':8}\n",
    "num_medals=[]\n",
    "\n",
    "for i in gold.items():\n",
    "    num_medals.append(i[1])\n",
    "    \n",
    "print(num_medals)"
   ]
  },
  {
   "cell_type": "code",
   "execution_count": null,
   "id": "a91e47b7",
   "metadata": {
    "deletable": false,
    "editable": false,
    "nbgrader": {
     "cell_type": "code",
     "checksum": "e5477f96d41d0964fbea245b7150c52c",
     "grade": true,
     "grade_id": "cell-1aedd8022270e745",
     "locked": true,
     "points": 1,
     "schema_version": 3,
     "solution": false,
     "task": false
    }
   },
   "outputs": [],
   "source": []
  }
 ],
 "metadata": {
  "kernelspec": {
   "display_name": "Python 3 (ipykernel)",
   "language": "python",
   "name": "python3"
  },
  "language_info": {
   "codemirror_mode": {
    "name": "ipython",
    "version": 3
   },
   "file_extension": ".py",
   "mimetype": "text/x-python",
   "name": "python",
   "nbconvert_exporter": "python",
   "pygments_lexer": "ipython3",
   "version": "3.11.6"
  }
 },
 "nbformat": 4,
 "nbformat_minor": 5
}
