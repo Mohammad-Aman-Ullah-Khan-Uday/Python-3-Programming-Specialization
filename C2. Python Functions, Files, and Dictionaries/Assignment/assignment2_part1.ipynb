{
 "cells": [
  {
   "cell_type": "markdown",
   "id": "78b29d8e",
   "metadata": {
    "deletable": false,
    "editable": false,
    "nbgrader": {
     "cell_type": "markdown",
     "checksum": "984370601338e737469f73c75fbe5bc2",
     "grade": false,
     "grade_id": "cell-a3fe143bf9a0125e",
     "locked": true,
     "schema_version": 3,
     "solution": false,
     "task": false
    }
   },
   "source": [
    "# Assignment 2 (part one)\n",
    "\n",
    "Dictionary Mechanics"
   ]
  },
  {
   "cell_type": "markdown",
   "id": "d28659b8",
   "metadata": {
    "deletable": false,
    "editable": false,
    "nbgrader": {
     "cell_type": "markdown",
     "checksum": "05cf45f021e32c162054e1c968eee6f6",
     "grade": false,
     "grade_id": "cell-bb7693f4003177cb",
     "locked": true,
     "schema_version": 3,
     "solution": false,
     "task": false
    }
   },
   "source": [
    "At the halfway point during the Rio Olympics, the United States had 70 medals, Great Britain had 38 medals, China had 45 medals, Russia had 30 medals, and Germany had 17 medals. Create a dictionary assigned to the variable `medal_count` with the country names as the keys and the number of medals the country had as each key’s value."
   ]
  },
  {
   "cell_type": "code",
   "execution_count": 1,
   "id": "916e1a1d",
   "metadata": {
    "deletable": false,
    "nbgrader": {
     "cell_type": "code",
     "checksum": "b1a54b65416e233788f0bd7cff80d014",
     "grade": false,
     "grade_id": "cell-05b0090b88bdbe3f",
     "locked": false,
     "schema_version": 3,
     "solution": true,
     "task": false
    },
    "tags": []
   },
   "outputs": [],
   "source": [
    "medal_count = {\n",
    "    'United States': 70,\n",
    "    'Great Britain': 38,\n",
    "    'China': 45,\n",
    "    'Russia': 30,\n",
    "    'Germany': 17\n",
    "}"
   ]
  },
  {
   "cell_type": "code",
   "execution_count": null,
   "id": "fb567258",
   "metadata": {
    "deletable": false,
    "editable": false,
    "nbgrader": {
     "cell_type": "code",
     "checksum": "1b80b02f67506e0b6fee79dfab43c207",
     "grade": true,
     "grade_id": "cell-d51a56efe6f54460",
     "locked": true,
     "points": 1,
     "schema_version": 3,
     "solution": false,
     "task": false
    }
   },
   "outputs": [],
   "source": []
  },
  {
   "cell_type": "markdown",
   "id": "86efe022",
   "metadata": {
    "deletable": false,
    "editable": false,
    "nbgrader": {
     "cell_type": "markdown",
     "checksum": "4ee73c4689d0cf6f80211ff82c99b393",
     "grade": false,
     "grade_id": "cell-9f395aac9af8d687",
     "locked": true,
     "schema_version": 3,
     "solution": false,
     "task": false
    }
   },
   "source": [
    "Given the dictionary `swimmers`, add an additional key-value pair to the dictionary with `\"Phelps\"` as the key and the integer `23` as the value. Do not rewrite the entire dictionary."
   ]
  },
  {
   "cell_type": "code",
   "execution_count": 2,
   "id": "23c21d25",
   "metadata": {
    "deletable": false,
    "nbgrader": {
     "cell_type": "code",
     "checksum": "febc0ad112a438393fc47df19e9e50da",
     "grade": false,
     "grade_id": "cell-5652f79cb486adbe",
     "locked": false,
     "schema_version": 3,
     "solution": true,
     "task": false
    },
    "tags": []
   },
   "outputs": [
    {
     "name": "stdout",
     "output_type": "stream",
     "text": [
      "{'Manuel': 4, 'Lochte': 12, 'Adrian': 7, 'Ledecky': 5, 'Dirado': 4, 'Phelps': 23}\n"
     ]
    }
   ],
   "source": [
    "swimmers = {'Manuel': 4, 'Lochte': 12, 'Adrian': 7, 'Ledecky': 5, 'Dirado': 4}\n",
    "\n",
    "swimmers['Phelps'] = 23\n",
    "\n",
    "print(swimmers)  "
   ]
  },
  {
   "cell_type": "code",
   "execution_count": null,
   "id": "88491d5e",
   "metadata": {
    "deletable": false,
    "editable": false,
    "nbgrader": {
     "cell_type": "code",
     "checksum": "f17de562e175e913ef0b9806d38e9be7",
     "grade": true,
     "grade_id": "cell-f9fdc3d3e6bebade",
     "locked": true,
     "points": 1,
     "schema_version": 3,
     "solution": false,
     "task": false
    }
   },
   "outputs": [],
   "source": []
  },
  {
   "cell_type": "markdown",
   "id": "8d619831",
   "metadata": {
    "deletable": false,
    "editable": false,
    "nbgrader": {
     "cell_type": "markdown",
     "checksum": "f1eace79399938a5bd2622d2a098a053",
     "grade": false,
     "grade_id": "cell-3fda89e3a466e365",
     "locked": true,
     "schema_version": 3,
     "solution": false,
     "task": false
    }
   },
   "source": [
    "Add the string “hockey” as a key to the dictionary `sports_periods` and assign it the value of 3. Do not rewrite the entire dictionary."
   ]
  },
  {
   "cell_type": "code",
   "execution_count": null,
   "id": "c378b4f0",
   "metadata": {
    "deletable": false,
    "nbgrader": {
     "cell_type": "code",
     "checksum": "5bd64188b2611bbcc24e98c306da84f1",
     "grade": false,
     "grade_id": "cell-12c7838581d8992d",
     "locked": false,
     "schema_version": 3,
     "solution": true,
     "task": false
    }
   },
   "outputs": [],
   "source": [
    "sports_periods = {'baseball': 9, 'basketball': 4, 'soccer': 4, 'cricket': 2}\n",
    "\n",
    "# Add the new key-value pair\n",
    "sports_periods['hockey'] = 3\n",
    "\n",
    "print(sports_periods)  # This will print the updated dictionary"
   ]
  },
  {
   "cell_type": "code",
   "execution_count": null,
   "id": "876f07e2",
   "metadata": {
    "deletable": false,
    "editable": false,
    "nbgrader": {
     "cell_type": "code",
     "checksum": "0b9f7067651474b4d591c7849d8ec7fa",
     "grade": true,
     "grade_id": "cell-20b4310a68080b2a",
     "locked": true,
     "points": 0,
     "schema_version": 3,
     "solution": false,
     "task": false
    }
   },
   "outputs": [],
   "source": []
  },
  {
   "cell_type": "markdown",
   "id": "b71701c9",
   "metadata": {
    "deletable": false,
    "editable": false,
    "nbgrader": {
     "cell_type": "markdown",
     "checksum": "e9647f1bb0456fb29cb2c315bbf1c613",
     "grade": false,
     "grade_id": "cell-df7092f39118ab53",
     "locked": true,
     "schema_version": 3,
     "solution": false,
     "task": false
    }
   },
   "source": [
    "The dictionary `golds` contains information about how many gold medals each country won in the 2016 Olympics. But today, Spain won 2 more gold medals. Update `golds` to reflect this information."
   ]
  },
  {
   "cell_type": "code",
   "execution_count": null,
   "id": "dfdcfa00",
   "metadata": {
    "deletable": false,
    "nbgrader": {
     "cell_type": "code",
     "checksum": "316105b7a8e0dbe7fab9e0323581c248",
     "grade": false,
     "grade_id": "cell-05a27af955f412e4",
     "locked": false,
     "schema_version": 3,
     "solution": true,
     "task": false
    }
   },
   "outputs": [],
   "source": [
    "golds = {'Italy': 12, 'USA': 33, 'Brazil': 15, 'China': 27, 'Spain': 19, 'Canada': 22, 'Argentina': 8, 'England': 29}\n",
    "\n",
    "golds['Spain'] += 2\n",
    "\n",
    "print(golds)  \n"
   ]
  },
  {
   "cell_type": "code",
   "execution_count": null,
   "id": "e9c3031e",
   "metadata": {
    "deletable": false,
    "editable": false,
    "nbgrader": {
     "cell_type": "code",
     "checksum": "f36b4a8be8571d8afeb09a129e1cec48",
     "grade": true,
     "grade_id": "cell-501ec98bb1a97463",
     "locked": true,
     "points": 1,
     "schema_version": 3,
     "solution": false,
     "task": false
    }
   },
   "outputs": [],
   "source": []
  },
  {
   "cell_type": "markdown",
   "id": "8992d461",
   "metadata": {
    "deletable": false,
    "editable": false,
    "nbgrader": {
     "cell_type": "markdown",
     "checksum": "d0560c27ca64b7426e3d4e2ea48a754c",
     "grade": false,
     "grade_id": "cell-4473331d4a6cb234",
     "locked": true,
     "schema_version": 3,
     "solution": false,
     "task": false
    }
   },
   "source": [
    "Create a list of the countries that are in the dictionary `golds`, and assign that list to the variable name `countries`. Do not hard code this."
   ]
  },
  {
   "cell_type": "code",
   "execution_count": null,
   "id": "91f26932",
   "metadata": {
    "deletable": false,
    "nbgrader": {
     "cell_type": "code",
     "checksum": "1e3668baf2ad7d5dd104c4e10f1e487e",
     "grade": false,
     "grade_id": "cell-34c71df47f7cb298",
     "locked": false,
     "schema_version": 3,
     "solution": true,
     "task": false
    }
   },
   "outputs": [],
   "source": [
    "golds = {'Italy': 12, 'USA': 33, 'Brazil': 15, 'China': 27, 'Spain': 19, 'Canada': 22, 'Argentina': 8, 'England': 29}\n",
    "\n",
    "countries = list(golds.keys())\n",
    "\n",
    "print(countries)  "
   ]
  },
  {
   "cell_type": "code",
   "execution_count": null,
   "id": "fac6fd78",
   "metadata": {
    "deletable": false,
    "editable": false,
    "nbgrader": {
     "cell_type": "code",
     "checksum": "cc4b415d518782d9b9174106fa5c9261",
     "grade": true,
     "grade_id": "cell-68a0dfa26962cec6",
     "locked": true,
     "points": 1,
     "schema_version": 3,
     "solution": false,
     "task": false
    }
   },
   "outputs": [],
   "source": []
  },
  {
   "cell_type": "markdown",
   "id": "a18bf052",
   "metadata": {
    "deletable": false,
    "editable": false,
    "nbgrader": {
     "cell_type": "markdown",
     "checksum": "271696e038d0ec0606f40450a1b892fe",
     "grade": false,
     "grade_id": "cell-71ac11b90dbd8dd5",
     "locked": true,
     "schema_version": 3,
     "solution": false,
     "task": false
    }
   },
   "source": [
    "Provided is the dictionary, `medal_count`, which lists countries and their respective medal count at the halfway point in the 2016 Rio Olympics. Using dictionary mechanics, assign the medal count value for `\"Belarus\"` to the variable `belarus`. Do not hardcode this."
   ]
  },
  {
   "cell_type": "code",
   "execution_count": null,
   "id": "2ead40a0",
   "metadata": {
    "deletable": false,
    "nbgrader": {
     "cell_type": "code",
     "checksum": "b079ddd58f62386232fa7da5118bf3ea",
     "grade": false,
     "grade_id": "cell-0bcb1d5ca1fa9a47",
     "locked": false,
     "schema_version": 3,
     "solution": true,
     "task": false
    }
   },
   "outputs": [],
   "source": [
    "medal_count = {'United States': 70, 'Great Britain':38, 'China':45, 'Russia':30, 'Germany':17, 'Italy':22, 'France': 22, 'Japan':26, 'Australia':22, 'South Korea':14, 'Hungary':12, 'Netherlands':10, 'Spain':5, 'New Zealand':8, 'Canada':13, 'Kazakhstan':8, 'Colombia':4, 'Switzerland':5, 'Belgium':4, 'Thailand':4, 'Croatia':3, 'Iran':3, 'Jamaica':3, 'South Africa':7, 'Sweden':6, 'Denmark':7, 'North Korea':6, 'Kenya':4, 'Brazil':7, 'Belarus':4, 'Cuba':5, 'Poland':4, 'Romania':4, 'Slovenia':3, 'Argentina':2, 'Bahrain':2, 'Slovakia':2, 'Vietnam':2, 'Czech Republic':6, 'Uzbekistan':5}\n",
    "\n",
    "belarus = medal_count['Belarus']\n",
    "\n",
    "print(belarus) "
   ]
  },
  {
   "cell_type": "code",
   "execution_count": null,
   "id": "2f076205",
   "metadata": {
    "deletable": false,
    "editable": false,
    "nbgrader": {
     "cell_type": "code",
     "checksum": "60b21fcfc183eaf57ca53d9c537fa1a0",
     "grade": true,
     "grade_id": "cell-ec6197b90ed473f4",
     "locked": true,
     "points": 1,
     "schema_version": 3,
     "solution": false,
     "task": false
    }
   },
   "outputs": [],
   "source": []
  },
  {
   "cell_type": "markdown",
   "id": "4369a114",
   "metadata": {
    "deletable": false,
    "editable": false,
    "nbgrader": {
     "cell_type": "markdown",
     "checksum": "9948e32c917aa089f96d952a75b31027",
     "grade": false,
     "grade_id": "cell-fc37e9bfca4411f4",
     "locked": true,
     "schema_version": 3,
     "solution": false,
     "task": false
    }
   },
   "source": [
    "The dictionary `total_golds` contains the total number of gold medals that countries have won over the course of history. Use dictionary mechanics to find the number of golds Chile has won, and assign that number to the variable name `chile_golds`. Do not hard code this!"
   ]
  },
  {
   "cell_type": "code",
   "execution_count": null,
   "id": "cbb49481",
   "metadata": {
    "deletable": false,
    "nbgrader": {
     "cell_type": "code",
     "checksum": "7e13a5fa1690f70c684c3d7f3824c4c9",
     "grade": false,
     "grade_id": "cell-6633bbbbca423f46",
     "locked": false,
     "schema_version": 3,
     "solution": true,
     "task": false
    }
   },
   "outputs": [],
   "source": [
    "total_golds = {'Italy': 114, 'Germany': 782, 'Pakistan': 10, 'Sweden': 627, 'USA': 2681, 'Zimbabwe': 8, 'Greece': 111, 'Mongolia': 24, 'Brazil': 108, 'Croatia': 34, 'Algeria': 15, 'Switzerland': 323, 'Yugoslavia': 87, 'China': 526, 'Egypt': 26, 'Norway': 477, 'Spain': 133, 'Australia': 480, 'Slovakia': 29, 'Canada': 22, 'New Zealand': 100, 'Denmark': 180, 'Chile': 13, 'Argentina': 70, 'Thailand': 24, 'Cuba': 209, 'Uganda': 7, 'England': 806, 'Ukraine': 122, 'Bahamas': 12}\n",
    "\n",
    "chile_golds = total_golds['Chile']\n",
    "\n",
    "print(chile_golds)  \n"
   ]
  },
  {
   "cell_type": "code",
   "execution_count": null,
   "id": "8faa6272",
   "metadata": {
    "deletable": false,
    "editable": false,
    "nbgrader": {
     "cell_type": "code",
     "checksum": "d83377a5c73c47add31be4ba868dd6e1",
     "grade": true,
     "grade_id": "cell-5f0dffd910092da4",
     "locked": true,
     "points": 1,
     "schema_version": 3,
     "solution": false,
     "task": false
    }
   },
   "outputs": [],
   "source": []
  },
  {
   "cell_type": "markdown",
   "id": "ff570f4b",
   "metadata": {
    "deletable": false,
    "editable": false,
    "nbgrader": {
     "cell_type": "markdown",
     "checksum": "8e90b18323001f3c1cc77ebd681a8535",
     "grade": false,
     "grade_id": "cell-e72b08b5ece98f5b",
     "locked": true,
     "schema_version": 3,
     "solution": false,
     "task": false
    }
   },
   "source": [
    "Provided is a dictionary called `US_medals` which has the first 70 metals that the United States has won in 2016, and in which category they have won it in. Using dictionary mechanics, assign the value of the key `\"Fencing\"` to a variable `fencing_value`. Remember, do not hard code this."
   ]
  },
  {
   "cell_type": "code",
   "execution_count": null,
   "id": "d62b7434",
   "metadata": {
    "deletable": false,
    "nbgrader": {
     "cell_type": "code",
     "checksum": "404d07e375769a934af471f00a4b45e3",
     "grade": false,
     "grade_id": "cell-5920113ec99448e8",
     "locked": false,
     "schema_version": 3,
     "solution": true,
     "task": false
    }
   },
   "outputs": [],
   "source": [
    "US_medals = {'Swimming': 33, 'Gymnastics': 6, 'Track & Field': 6, 'Tennis': 3, 'Judo': 2, 'Rowing': 2, 'Shooting': 3, 'Cycling - Road': 1, 'Fencing': 4, 'Diving': 2, 'Archery': 2, 'Cycling - Track': 1, 'Equestrian': 2, 'Golf': 1, 'Weightlifting': 1}\n",
    "\n",
    "fencing_value = US_medals['Fencing']\n",
    "\n",
    "print(fencing_value) \n"
   ]
  },
  {
   "cell_type": "code",
   "execution_count": null,
   "id": "962554c6",
   "metadata": {
    "deletable": false,
    "editable": false,
    "nbgrader": {
     "cell_type": "code",
     "checksum": "e37b263ab64699ccbd62694096117aec",
     "grade": true,
     "grade_id": "cell-52d86b6a5051297e",
     "locked": true,
     "points": 1,
     "schema_version": 3,
     "solution": false,
     "task": false
    }
   },
   "outputs": [],
   "source": []
  }
 ],
 "metadata": {
  "kernelspec": {
   "display_name": "Python 3 (ipykernel)",
   "language": "python",
   "name": "python3"
  },
  "language_info": {
   "codemirror_mode": {
    "name": "ipython",
    "version": 3
   },
   "file_extension": ".py",
   "mimetype": "text/x-python",
   "name": "python",
   "nbconvert_exporter": "python",
   "pygments_lexer": "ipython3",
   "version": "3.11.6"
  }
 },
 "nbformat": 4,
 "nbformat_minor": 5
}
