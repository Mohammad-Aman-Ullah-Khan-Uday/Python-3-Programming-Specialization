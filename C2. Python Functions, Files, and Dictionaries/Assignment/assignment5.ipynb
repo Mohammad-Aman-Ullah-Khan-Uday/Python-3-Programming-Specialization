{
 "cells": [
  {
   "cell_type": "markdown",
   "id": "fc6d16b8",
   "metadata": {
    "deletable": false,
    "editable": false,
    "nbgrader": {
     "cell_type": "markdown",
     "checksum": "c860787025a99633e5636d75b7505cd5",
     "grade": false,
     "grade_id": "cell-a87b760cf3440543",
     "locked": true,
     "schema_version": 3,
     "solution": false,
     "task": false
    }
   },
   "source": [
    "# Assignment 5 (part one)\n",
    "\n",
    "Sorting"
   ]
  },
  {
   "cell_type": "markdown",
   "id": "55614275",
   "metadata": {
    "deletable": false,
    "editable": false,
    "nbgrader": {
     "cell_type": "markdown",
     "checksum": "0a120ae19c3cb89908f1e82a78c712e7",
     "grade": false,
     "grade_id": "cell-a3c0b52b11390a77",
     "locked": true,
     "schema_version": 3,
     "solution": false,
     "task": false
    }
   },
   "source": [
    "Sort the following string alphabetically, from z to a, and assign it to the variable `sorted_letters`."
   ]
  },
  {
   "cell_type": "code",
   "execution_count": 9,
   "id": "31be16d5",
   "metadata": {
    "deletable": false,
    "nbgrader": {
     "cell_type": "code",
     "checksum": "5e5e8cfa119f8987ddd681398ed9355a",
     "grade": false,
     "grade_id": "cell-fae4acef839b83a5",
     "locked": false,
     "schema_version": 3,
     "solution": true,
     "task": false
    }
   },
   "outputs": [],
   "source": [
    "letters = \"alwnfiwaksuezlaeiajsdl\"\n",
    "sorted_letters=sorted(letters,reverse=True)"
   ]
  },
  {
   "cell_type": "code",
   "execution_count": null,
   "id": "c12d54ae",
   "metadata": {
    "deletable": false,
    "editable": false,
    "nbgrader": {
     "cell_type": "code",
     "checksum": "9b6254f7730c1786cffa345b0db7a853",
     "grade": true,
     "grade_id": "cell-fb8c39865b9eebed",
     "locked": true,
     "points": 1,
     "schema_version": 3,
     "solution": false,
     "task": false
    }
   },
   "outputs": [],
   "source": []
  },
  {
   "cell_type": "markdown",
   "id": "11bfeced",
   "metadata": {
    "deletable": false,
    "editable": false,
    "nbgrader": {
     "cell_type": "markdown",
     "checksum": "d8cd91862607021e5f9c815246dbd8a2",
     "grade": false,
     "grade_id": "cell-a9e7c2b888d0a1b5",
     "locked": true,
     "schema_version": 3,
     "solution": false,
     "task": false
    }
   },
   "source": [
    "Sort the list below, `animals`, into alphabetical order, a-z. Save the new list as `animals_sorted`."
   ]
  },
  {
   "cell_type": "code",
   "execution_count": 10,
   "id": "96d19134",
   "metadata": {
    "deletable": false,
    "nbgrader": {
     "cell_type": "code",
     "checksum": "3b067c1cc78b5f3a1b47e0689d11b653",
     "grade": false,
     "grade_id": "cell-7cb285562a050418",
     "locked": false,
     "schema_version": 3,
     "solution": true,
     "task": false
    }
   },
   "outputs": [],
   "source": [
    "animals = ['elephant', 'cat', 'moose', 'antelope', 'elk', 'rabbit', 'zebra', 'yak', 'salamander', 'deer', 'otter', 'minx', 'giraffe', 'goat', 'cow', 'tiger', 'bear']\n",
    "animals_sorted=sorted(animals)"
   ]
  },
  {
   "cell_type": "code",
   "execution_count": null,
   "id": "b5eb34a2",
   "metadata": {
    "deletable": false,
    "editable": false,
    "nbgrader": {
     "cell_type": "code",
     "checksum": "4e6bd1f6c4d5498b1996725d7af2a5be",
     "grade": true,
     "grade_id": "cell-fb9ac26c1d5c4a8f",
     "locked": true,
     "points": 0,
     "schema_version": 3,
     "solution": false,
     "task": false
    }
   },
   "outputs": [],
   "source": []
  },
  {
   "cell_type": "markdown",
   "id": "52d83849",
   "metadata": {
    "deletable": false,
    "editable": false,
    "nbgrader": {
     "cell_type": "markdown",
     "checksum": "899026931c30e1c90d0c6444f6a15b1c",
     "grade": false,
     "grade_id": "cell-60c7acedda5953f6",
     "locked": true,
     "schema_version": 3,
     "solution": false,
     "task": false
    }
   },
   "source": [
    "The dictionary, `medals`, shows the medal count for six countries during the Rio Olympics. Sort the country names so they appear alphabetically. Save this list to the variable `alphabetical`."
   ]
  },
  {
   "cell_type": "code",
   "execution_count": 11,
   "id": "fb6632b3",
   "metadata": {
    "deletable": false,
    "nbgrader": {
     "cell_type": "code",
     "checksum": "c40f84a502a4f5fbdfaa3c2ae85bcb7d",
     "grade": false,
     "grade_id": "cell-cf71202eff635a9c",
     "locked": false,
     "schema_version": 3,
     "solution": true,
     "task": false
    }
   },
   "outputs": [
    {
     "name": "stdout",
     "output_type": "stream",
     "text": [
      "['China', 'Germany', 'Japan', 'Russia', 'South Korea', 'United States']\n"
     ]
    }
   ],
   "source": [
    "# The dictionary with medal counts for the Rio Olympics\n",
    "medals = {'Japan': 41, 'Russia': 56, 'South Korea': 21, 'United States': 121, 'Germany': 42, 'China': 70}\n",
    "\n",
    "# Sorting the country names (keys) alphabetically\n",
    "alphabetical = sorted(medals)\n",
    "\n",
    "# Print the list of sorted country names\n",
    "print(alphabetical)\n"
   ]
  },
  {
   "cell_type": "code",
   "execution_count": null,
   "id": "26ad0af5",
   "metadata": {
    "deletable": false,
    "editable": false,
    "nbgrader": {
     "cell_type": "code",
     "checksum": "d842a4480eb40e853256aec7296a0a0c",
     "grade": true,
     "grade_id": "cell-aeae108d95385b0f",
     "locked": true,
     "points": 1,
     "schema_version": 3,
     "solution": false,
     "task": false
    }
   },
   "outputs": [],
   "source": []
  },
  {
   "cell_type": "markdown",
   "id": "a39e8c18",
   "metadata": {
    "deletable": false,
    "editable": false,
    "nbgrader": {
     "cell_type": "markdown",
     "checksum": "33351334d68c6634214f50b247ccf89f",
     "grade": false,
     "grade_id": "cell-92d32fe95a85cebe",
     "locked": true,
     "schema_version": 3,
     "solution": false,
     "task": false
    }
   },
   "source": [
    "Given the same dictionary, `medals`, now sort by the medal count. Save the three countries with the highest medal count to the list, `top_three`."
   ]
  },
  {
   "cell_type": "code",
   "execution_count": 12,
   "id": "5f1b3e1f",
   "metadata": {
    "deletable": false,
    "nbgrader": {
     "cell_type": "code",
     "checksum": "1fac0c995c8afe190e5d208f99b5e13f",
     "grade": false,
     "grade_id": "cell-44c063ee2eaeab92",
     "locked": false,
     "schema_version": 3,
     "solution": true,
     "task": false
    }
   },
   "outputs": [
    {
     "data": {
      "text/plain": [
       "['United States', 'China', 'Russia']"
      ]
     },
     "execution_count": 12,
     "metadata": {},
     "output_type": "execute_result"
    }
   ],
   "source": [
    "medals = {'Japan':41, 'Russia':56, 'South Korea':21, 'United States':121, 'Germany':42, 'China':70}\n",
    "def g(k,d):\n",
    "    return d[k]\n",
    "top_three = sorted(medals, reverse = True, key = lambda x:g(x, medals))[:3]\n",
    "print(top_three)"
   ]
  },
  {
   "cell_type": "code",
   "execution_count": null,
   "id": "f24516f3",
   "metadata": {
    "deletable": false,
    "editable": false,
    "nbgrader": {
     "cell_type": "code",
     "checksum": "c95c363c2c6a4da303ac8ed809d45710",
     "grade": true,
     "grade_id": "cell-614b5e4926892fd6",
     "locked": true,
     "points": 1,
     "schema_version": 3,
     "solution": false,
     "task": false
    }
   },
   "outputs": [],
   "source": []
  },
  {
   "cell_type": "markdown",
   "id": "79ddca0c",
   "metadata": {
    "deletable": false,
    "editable": false,
    "nbgrader": {
     "cell_type": "markdown",
     "checksum": "acbb609215adeafbe320390af7327192",
     "grade": false,
     "grade_id": "cell-ab4c17dcdac8a350",
     "locked": true,
     "schema_version": 3,
     "solution": false,
     "task": false
    }
   },
   "source": [
    "We have provided the dictionary `groceries`. You should return a list of its keys, but they should be sorted by their values, from highest to lowest. Save the new list as `most_needed`."
   ]
  },
  {
   "cell_type": "code",
   "execution_count": 13,
   "id": "36be2bc6",
   "metadata": {
    "deletable": false,
    "nbgrader": {
     "cell_type": "code",
     "checksum": "8c3f35e9882ec15cc834fe2f15ec8f2c",
     "grade": false,
     "grade_id": "cell-dc17fa81cd38ee01",
     "locked": false,
     "schema_version": 3,
     "solution": true,
     "task": false
    }
   },
   "outputs": [
    {
     "data": {
      "text/plain": [
       "['granola bars',\n",
       " 'carrots',\n",
       " 'spinach',\n",
       " 'bananas',\n",
       " 'onions',\n",
       " 'apples',\n",
       " 'coffee',\n",
       " 'cereal',\n",
       " 'pasta',\n",
       " 'salsa',\n",
       " 'orange juice',\n",
       " 'peanut butter',\n",
       " 'popcorn',\n",
       " 'rice']"
      ]
     },
     "execution_count": 13,
     "metadata": {},
     "output_type": "execute_result"
    }
   ],
   "source": [
    "groceries = {'apples': 5, 'pasta': 3, 'carrots': 12, 'orange juice': 2, 'bananas': 8, 'popcorn': 1, 'salsa': 3, 'cereal': 4, 'coffee': 5, 'granola bars': 15, 'onions': 7, 'rice': 1, 'peanut butter': 2, 'spinach': 9}\n",
    "most_needed=sorted(groceries,key=lambda fruit:groceries[fruit],reverse=True)\n",
    "most_needed"
   ]
  },
  {
   "cell_type": "code",
   "execution_count": null,
   "id": "ebc5ae1a",
   "metadata": {
    "deletable": false,
    "editable": false,
    "nbgrader": {
     "cell_type": "code",
     "checksum": "c21d1ac625815c2746dc04681b2929df",
     "grade": true,
     "grade_id": "cell-79d783fb1dd8b84f",
     "locked": true,
     "points": 1,
     "schema_version": 3,
     "solution": false,
     "task": false
    }
   },
   "outputs": [],
   "source": []
  },
  {
   "cell_type": "markdown",
   "id": "37c3c5b1",
   "metadata": {
    "deletable": false,
    "editable": false,
    "nbgrader": {
     "cell_type": "markdown",
     "checksum": "7b197231d9dce0e9c3c7cc4907b28e62",
     "grade": false,
     "grade_id": "cell-4d169ea76463b5fa",
     "locked": true,
     "schema_version": 3,
     "solution": false,
     "task": false
    }
   },
   "source": [
    "Create a function called `last_four` that takes in a single ID number and returns the last four digits. For example, the number 17573005 should return 3005. Then, use the resulting function to sort the list of ids stored in the variable, `ids`, from lowest to highest. Save this sorted list in the variable, `sorted_ids`. Hint: Remember that only strings can be indexed, so conversions may be needed."
   ]
  },
  {
   "cell_type": "code",
   "execution_count": 14,
   "id": "68055205",
   "metadata": {
    "deletable": false,
    "nbgrader": {
     "cell_type": "code",
     "checksum": "453edb71693c4ecd3ddce19a2e2312e9",
     "grade": false,
     "grade_id": "cell-248f1a229a82542a",
     "locked": false,
     "schema_version": 3,
     "solution": true,
     "task": false
    }
   },
   "outputs": [
    {
     "data": {
      "text/plain": [
       "[17570002, 17572342, 17572345, 17573005, 17579000, 17579329]"
      ]
     },
     "execution_count": 14,
     "metadata": {},
     "output_type": "execute_result"
    }
   ],
   "source": [
    "def last_four(x):\n",
    "    return str(x)[-4:]\n",
    "\n",
    "\n",
    "ids = [17573005, 17572342, 17579000, 17570002, 17572345, 17579329]\n",
    "sorted_ids = sorted(ids, key = last_four)\n",
    "print(sorted_ids)\n"
   ]
  },
  {
   "cell_type": "code",
   "execution_count": null,
   "id": "e8bac2e6",
   "metadata": {
    "deletable": false,
    "editable": false,
    "nbgrader": {
     "cell_type": "code",
     "checksum": "d0877b6ff856333472729b587a210ca5",
     "grade": true,
     "grade_id": "cell-de0c0b93a34d9564",
     "locked": true,
     "points": 1,
     "schema_version": 3,
     "solution": false,
     "task": false
    }
   },
   "outputs": [],
   "source": []
  },
  {
   "cell_type": "markdown",
   "id": "8fe84118",
   "metadata": {
    "deletable": false,
    "editable": false,
    "nbgrader": {
     "cell_type": "markdown",
     "checksum": "141fe0359f4247801f1924af8abbb37a",
     "grade": false,
     "grade_id": "cell-7563a251cd3b8405",
     "locked": true,
     "schema_version": 3,
     "solution": false,
     "task": false
    }
   },
   "source": [
    "Sort the list `ids` by the last four digits of each id. Do this using lambda and not using a defined function. Save this sorted list in the variable `sorted_id`."
   ]
  },
  {
   "cell_type": "code",
   "execution_count": 15,
   "id": "fae0e8d3",
   "metadata": {
    "deletable": false,
    "nbgrader": {
     "cell_type": "code",
     "checksum": "fdc10449a66ccf9011375e4ac6af11bb",
     "grade": false,
     "grade_id": "cell-ab9ff2f113cdf54f",
     "locked": false,
     "schema_version": 3,
     "solution": true,
     "task": false
    }
   },
   "outputs": [
    {
     "name": "stdout",
     "output_type": "stream",
     "text": [
      "[17570002, 17572342, 17572345, 17573005, 17579000, 17579329]\n"
     ]
    }
   ],
   "source": [
    "ids = [17573005, 17572342, 17579000, 17570002, 17572345, 17579329]\n",
    "sorted_id = sorted(ids, key = lambda x: str(x)[-4:])\n",
    "print(sorted_id)"
   ]
  },
  {
   "cell_type": "code",
   "execution_count": null,
   "id": "ac04593c",
   "metadata": {
    "deletable": false,
    "editable": false,
    "nbgrader": {
     "cell_type": "code",
     "checksum": "cecc90a145f5552e0feb1e84a1d5627b",
     "grade": true,
     "grade_id": "cell-b77e39a91d1adae6",
     "locked": true,
     "points": 1,
     "schema_version": 3,
     "solution": false,
     "task": false
    }
   },
   "outputs": [],
   "source": []
  },
  {
   "cell_type": "markdown",
   "id": "ac8e59fb",
   "metadata": {
    "deletable": false,
    "editable": false,
    "nbgrader": {
     "cell_type": "markdown",
     "checksum": "24744a31a79f61a31d06ccc12061f51d",
     "grade": false,
     "grade_id": "cell-3d2ebef7723a7816",
     "locked": true,
     "schema_version": 3,
     "solution": false,
     "task": false
    }
   },
   "source": [
    "Sort the following list by each element’s second letter a to z. Do so by using lambda. Assign the resulting value to the variable `lambda_sort`."
   ]
  },
  {
   "cell_type": "code",
   "execution_count": 16,
   "id": "16e88d0f",
   "metadata": {
    "deletable": false,
    "nbgrader": {
     "cell_type": "code",
     "checksum": "c76df2b0abdcd913457ab0590aa23d85",
     "grade": false,
     "grade_id": "cell-b31033a1e84339de",
     "locked": false,
     "schema_version": 3,
     "solution": true,
     "task": false
    }
   },
   "outputs": [
    {
     "data": {
      "text/plain": [
       "['dance', 'zebra', 'hi', 'how are you', 'apple', 'bye']"
      ]
     },
     "execution_count": 16,
     "metadata": {},
     "output_type": "execute_result"
    }
   ],
   "source": [
    "ex_lst = ['hi', 'how are you', 'bye', 'apple', 'zebra', 'dance']\n",
    "def sort_second(x):\n",
    "    return x[1]\n",
    "    \n",
    "lambda_sort=sorted(ex_lst,key=sort_second)\n",
    "lambda_sort"
   ]
  },
  {
   "cell_type": "code",
   "execution_count": null,
   "id": "43dc9a10",
   "metadata": {
    "deletable": false,
    "editable": false,
    "nbgrader": {
     "cell_type": "code",
     "checksum": "6c2eb74ebb0d836f5d8a64dc9e81bcd4",
     "grade": true,
     "grade_id": "cell-2ecdb4f253b62ee6",
     "locked": true,
     "points": 1,
     "schema_version": 3,
     "solution": false,
     "task": false
    }
   },
   "outputs": [],
   "source": []
  }
 ],
 "metadata": {
  "kernelspec": {
   "display_name": "Python 3 (ipykernel)",
   "language": "python",
   "name": "python3"
  },
  "language_info": {
   "codemirror_mode": {
    "name": "ipython",
    "version": 3
   },
   "file_extension": ".py",
   "mimetype": "text/x-python",
   "name": "python",
   "nbconvert_exporter": "python",
   "pygments_lexer": "ipython3",
   "version": "3.11.6"
  }
 },
 "nbformat": 4,
 "nbformat_minor": 5
}
