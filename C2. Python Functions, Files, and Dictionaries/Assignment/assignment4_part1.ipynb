{
 "cells": [
  {
   "cell_type": "markdown",
   "id": "2453fc5c",
   "metadata": {
    "deletable": false,
    "editable": false,
    "nbgrader": {
     "cell_type": "markdown",
     "checksum": "eabbce2b232f5841ba9bf73ea7f77601",
     "grade": false,
     "grade_id": "cell-fe1d8b8e95213f1c",
     "locked": true,
     "schema_version": 3,
     "solution": false,
     "task": false
    }
   },
   "source": [
    "# Assignment 4 (part one)\n",
    "\n",
    "More about iteration"
   ]
  },
  {
   "cell_type": "markdown",
   "id": "0a92bc44",
   "metadata": {
    "deletable": false,
    "editable": false,
    "nbgrader": {
     "cell_type": "markdown",
     "checksum": "5602c07140b057f79284fa2265bd0e15",
     "grade": false,
     "grade_id": "cell-636637a950b10fa9",
     "locked": true,
     "schema_version": 3,
     "solution": false,
     "task": false
    }
   },
   "source": [
    "Write a function, `sublist`, that takes in a list of numbers as the parameter. In the function, use a while loop to return a sublist of the input list. The sublist should contain the same values of the original list up until it reaches the number 5 (it should not contain the number 5)."
   ]
  },
  {
   "cell_type": "code",
   "execution_count": 1,
   "id": "91779e28",
   "metadata": {
    "deletable": false,
    "nbgrader": {
     "cell_type": "code",
     "checksum": "e45000ed5eee8b6ded436f455126f71f",
     "grade": false,
     "grade_id": "cell-3bf1e156feab7739",
     "locked": false,
     "schema_version": 3,
     "solution": true,
     "task": false
    },
    "tags": []
   },
   "outputs": [],
   "source": [
    "def sublist(numbers):\n",
    "    sublist = []\n",
    "    index = 0\n",
    "    \n",
    "    while index < len(numbers):\n",
    "        if numbers[index] == 5:\n",
    "            break\n",
    "        sublist.append(numbers[index])\n",
    "        index += 1\n",
    "    \n",
    "    return sublist\n"
   ]
  },
  {
   "cell_type": "code",
   "execution_count": null,
   "id": "32216297",
   "metadata": {
    "deletable": false,
    "editable": false,
    "nbgrader": {
     "cell_type": "code",
     "checksum": "9c5e9c2c17ab97dfc9da7219333fc8cc",
     "grade": true,
     "grade_id": "cell-c305d49607f95ea3",
     "locked": true,
     "points": 1,
     "schema_version": 3,
     "solution": false,
     "task": false
    }
   },
   "outputs": [],
   "source": []
  },
  {
   "cell_type": "markdown",
   "id": "9b30a52c",
   "metadata": {
    "deletable": false,
    "editable": false,
    "nbgrader": {
     "cell_type": "markdown",
     "checksum": "65601ea3e2a399e0ca7d7207d03a275a",
     "grade": false,
     "grade_id": "cell-0aeb50cade545b56",
     "locked": true,
     "schema_version": 3,
     "solution": false,
     "task": false
    }
   },
   "source": [
    "Write a function called `check_nums` that takes a list as its parameter, and contains a while loop that only stops once the element of the list is the number 7. What is returned is a list of all of the numbers up until it reaches 7."
   ]
  },
  {
   "cell_type": "code",
   "execution_count": null,
   "id": "bff72c5e",
   "metadata": {
    "deletable": false,
    "nbgrader": {
     "cell_type": "code",
     "checksum": "f419408efd7a0ad39e511c0410ee0ab9",
     "grade": false,
     "grade_id": "cell-fac6f399b61913db",
     "locked": false,
     "schema_version": 3,
     "solution": true,
     "task": false
    }
   },
   "outputs": [],
   "source": [
    "def check_nums(numbers):\n",
    "    result = []\n",
    "    index = 0\n",
    "    \n",
    "    while index < len(numbers):\n",
    "        if numbers[index] == 7:\n",
    "            break\n",
    "        result.append(numbers[index])\n",
    "        index += 1\n",
    "    \n",
    "    return result\n"
   ]
  },
  {
   "cell_type": "code",
   "execution_count": null,
   "id": "bed89e7d",
   "metadata": {
    "deletable": false,
    "editable": false,
    "nbgrader": {
     "cell_type": "code",
     "checksum": "9fe2f4028fc3a885959077adc584e6fd",
     "grade": true,
     "grade_id": "cell-07118e27b0e8a9b3",
     "locked": true,
     "points": 1,
     "schema_version": 3,
     "solution": false,
     "task": false
    }
   },
   "outputs": [],
   "source": []
  },
  {
   "cell_type": "markdown",
   "id": "738158db",
   "metadata": {
    "deletable": false,
    "editable": false,
    "nbgrader": {
     "cell_type": "markdown",
     "checksum": "dd85e1b378809d2e2feb9cff7ae1f461",
     "grade": false,
     "grade_id": "cell-f117974299bcc312",
     "locked": true,
     "schema_version": 3,
     "solution": false,
     "task": false
    }
   },
   "source": [
    "Write a function, `sublist`, that takes in a list of strings as the parameter. In the function, use a while loop to return a sublist of the input list. The sublist should contain the same values of the original list up until it reaches the string “STOP” (it should not contain the string “STOP”)."
   ]
  },
  {
   "cell_type": "code",
   "execution_count": null,
   "id": "469b610a",
   "metadata": {
    "deletable": false,
    "nbgrader": {
     "cell_type": "code",
     "checksum": "234ac8960606496e1dc2e4cb579d9ee7",
     "grade": false,
     "grade_id": "cell-aa20614f2972a681",
     "locked": false,
     "schema_version": 3,
     "solution": true,
     "task": false
    }
   },
   "outputs": [],
   "source": [
    "def sublist(strings):\n",
    "    result = []\n",
    "    index = 0\n",
    "    \n",
    "    while index < len(strings):\n",
    "        if strings[index] == \"STOP\":\n",
    "            break\n",
    "        result.append(strings[index])\n",
    "        index += 1\n",
    "    \n",
    "    return result\n"
   ]
  },
  {
   "cell_type": "code",
   "execution_count": null,
   "id": "daf5db2b",
   "metadata": {
    "deletable": false,
    "editable": false,
    "nbgrader": {
     "cell_type": "code",
     "checksum": "e0fe9f3bdb334d12da07bdb0666cf0c8",
     "grade": true,
     "grade_id": "cell-bf4df2fdd343462f",
     "locked": true,
     "points": 1,
     "schema_version": 3,
     "solution": false,
     "task": false
    }
   },
   "outputs": [],
   "source": []
  },
  {
   "cell_type": "markdown",
   "id": "f1086d83",
   "metadata": {
    "deletable": false,
    "editable": false,
    "nbgrader": {
     "cell_type": "markdown",
     "checksum": "9740efec6e21c387bb18db7b81f5f82d",
     "grade": false,
     "grade_id": "cell-f5ccf2193c54d937",
     "locked": true,
     "schema_version": 3,
     "solution": false,
     "task": false
    }
   },
   "source": [
    "Write a function called `stop_at_z` that iterates through a list of strings. Using a while loop, append each string to a new list until the string that appears is “z”. The function should return the new list."
   ]
  },
  {
   "cell_type": "code",
   "execution_count": null,
   "id": "748c9620",
   "metadata": {
    "deletable": false,
    "nbgrader": {
     "cell_type": "code",
     "checksum": "306c92acc190c326d284a68a0e25e8c4",
     "grade": false,
     "grade_id": "cell-53a755908f2ce7cf",
     "locked": false,
     "schema_version": 3,
     "solution": true,
     "task": false
    }
   },
   "outputs": [],
   "source": [
    "def stop_at_z(strings):\n",
    "    result = []\n",
    "    index = 0\n",
    "    \n",
    "    while index < len(strings):\n",
    "        if strings[index] == \"z\":\n",
    "            break\n",
    "        result.append(strings[index])\n",
    "        index += 1\n",
    "    \n",
    "    return result\n"
   ]
  },
  {
   "cell_type": "code",
   "execution_count": null,
   "id": "89a7491a",
   "metadata": {
    "deletable": false,
    "editable": false,
    "nbgrader": {
     "cell_type": "code",
     "checksum": "a6a227231eb72609276420c2d0e64e8a",
     "grade": true,
     "grade_id": "cell-c8292bbc693f309c",
     "locked": true,
     "points": 1,
     "schema_version": 3,
     "solution": false,
     "task": false
    }
   },
   "outputs": [],
   "source": []
  },
  {
   "cell_type": "markdown",
   "id": "26a3eb44",
   "metadata": {
    "deletable": false,
    "editable": false,
    "nbgrader": {
     "cell_type": "markdown",
     "checksum": "861b6cd154de8f8de48a3252a69deafe",
     "grade": false,
     "grade_id": "cell-8474144493b69816",
     "locked": true,
     "schema_version": 3,
     "solution": false,
     "task": false
    }
   },
   "source": [
    "Below is a for loop that works. Underneath the for loop, rewrite the problem so that it does the same thing, but using a while loop instead of a for loop. Assign the accumulated total in the while loop code to the variable `sum2`. Once complete, `sum2` should equal `sum1`."
   ]
  },
  {
   "cell_type": "code",
   "execution_count": null,
   "id": "22677bc5",
   "metadata": {
    "deletable": false,
    "nbgrader": {
     "cell_type": "code",
     "checksum": "4ac280676f01604c6a01ac5ac3842215",
     "grade": false,
     "grade_id": "cell-70d93833afd9fd8e",
     "locked": false,
     "schema_version": 3,
     "solution": true,
     "task": false
    }
   },
   "outputs": [],
   "source": [
    "sum1 = 0\n",
    "\n",
    "lst = [65, 78, 21, 33]\n",
    "\n",
    "# For loop (already given)\n",
    "for x in lst:\n",
    "    sum1 = sum1 + x\n",
    "\n",
    "# While loop to achieve the same result\n",
    "sum2 = 0\n",
    "index = 0\n",
    "\n",
    "while index < len(lst):\n",
    "    sum2 += lst[index]\n",
    "    index += 1\n"
   ]
  },
  {
   "cell_type": "code",
   "execution_count": null,
   "id": "27cb96de",
   "metadata": {
    "deletable": false,
    "editable": false,
    "nbgrader": {
     "cell_type": "code",
     "checksum": "ccfcd5e1aa98a511f64ae3452e1023c2",
     "grade": true,
     "grade_id": "cell-ffd4c92b4f7bcc8b",
     "locked": true,
     "points": 1,
     "schema_version": 3,
     "solution": false,
     "task": false
    }
   },
   "outputs": [],
   "source": []
  },
  {
   "cell_type": "markdown",
   "id": "024917dd",
   "metadata": {
    "deletable": false,
    "editable": false,
    "nbgrader": {
     "cell_type": "markdown",
     "checksum": "a2f6d9653007e67fd97e33136cbe7bda",
     "grade": false,
     "grade_id": "cell-871fff9dadb51845",
     "locked": true,
     "schema_version": 3,
     "solution": false,
     "task": false
    }
   },
   "source": [
    "**Challenge:** Write a function called `beginning` that takes a list as input and contains a while loop that only stops once the element of the list is the string ‘bye’. What is returned is a list that contains up to the first 10 strings, regardless of where the loop stops. (i.e., if it stops on the 32nd element, the first 10 are returned. If “bye” is the 5th element, the first 4 are returned.) If you want to make this even more of a challenge, do this without slicing."
   ]
  },
  {
   "cell_type": "code",
   "execution_count": null,
   "id": "996dd32c",
   "metadata": {
    "deletable": false,
    "nbgrader": {
     "cell_type": "code",
     "checksum": "0304f1dcca0f305515b09d71a9d7d205",
     "grade": false,
     "grade_id": "cell-64629b5fa7cee3d3",
     "locked": false,
     "schema_version": 3,
     "solution": true,
     "task": false
    }
   },
   "outputs": [],
   "source": [
    "def beginning(lst):\n",
    "    result = []\n",
    "    index = 0\n",
    "\n",
    "    while index < len(lst) and len(result) < 10:\n",
    "        if lst[index] == 'bye':\n",
    "            break\n",
    "        result.append(lst[index])\n",
    "        index += 1\n",
    "\n",
    "    return result\n"
   ]
  },
  {
   "cell_type": "code",
   "execution_count": null,
   "id": "7103e5d9",
   "metadata": {
    "deletable": false,
    "editable": false,
    "nbgrader": {
     "cell_type": "code",
     "checksum": "1db39d1e7111b8e7ac6a9f684e05ec1b",
     "grade": true,
     "grade_id": "cell-893e2b531f4b7851",
     "locked": true,
     "points": 1,
     "schema_version": 3,
     "solution": false,
     "task": false
    }
   },
   "outputs": [],
   "source": []
  }
 ],
 "metadata": {
  "kernelspec": {
   "display_name": "Python 3 (ipykernel)",
   "language": "python",
   "name": "python3"
  },
  "language_info": {
   "codemirror_mode": {
    "name": "ipython",
    "version": 3
   },
   "file_extension": ".py",
   "mimetype": "text/x-python",
   "name": "python",
   "nbconvert_exporter": "python",
   "pygments_lexer": "ipython3",
   "version": "3.11.6"
  }
 },
 "nbformat": 4,
 "nbformat_minor": 5
}
