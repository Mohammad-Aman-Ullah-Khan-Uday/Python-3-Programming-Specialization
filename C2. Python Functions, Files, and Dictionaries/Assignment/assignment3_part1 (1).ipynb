{
 "cells": [
  {
   "cell_type": "markdown",
   "id": "1c10041c",
   "metadata": {
    "deletable": false,
    "editable": false,
    "nbgrader": {
     "cell_type": "markdown",
     "checksum": "49116771d1668cf4488f13085deef2f6",
     "grade": false,
     "grade_id": "cell-2e05edb95bab4f66",
     "locked": true,
     "schema_version": 3,
     "solution": false,
     "task": false
    }
   },
   "source": [
    "# Assignment 3 (part 1)\n",
    "\n",
    "Functions"
   ]
  },
  {
   "cell_type": "markdown",
   "id": "4798c27e",
   "metadata": {
    "deletable": false,
    "editable": false,
    "nbgrader": {
     "cell_type": "markdown",
     "checksum": "e77c87e7f1f249bcb647e06dc646b140",
     "grade": false,
     "grade_id": "cell-e070a9e61b034ac7",
     "locked": true,
     "schema_version": 3,
     "solution": false,
     "task": false
    }
   },
   "source": [
    "Write a function called `int_return` that takes an integer as input and returns the same integer."
   ]
  },
  {
   "cell_type": "code",
   "execution_count": 3,
   "id": "b5568f4a",
   "metadata": {
    "deletable": false,
    "nbgrader": {
     "cell_type": "code",
     "checksum": "b9ecebe71cf4b4d6656063fbd0e68372",
     "grade": false,
     "grade_id": "cell-e82851d39e4e389f",
     "locked": false,
     "schema_version": 3,
     "solution": true,
     "task": false
    },
    "tags": []
   },
   "outputs": [],
   "source": [
    "def int_return(int):\n",
    "    return int"
   ]
  },
  {
   "cell_type": "code",
   "execution_count": 4,
   "id": "2da3601c",
   "metadata": {
    "tags": []
   },
   "outputs": [
    {
     "data": {
      "text/plain": [
       "function"
      ]
     },
     "execution_count": 4,
     "metadata": {},
     "output_type": "execute_result"
    }
   ],
   "source": [
    "type(int_return)"
   ]
  },
  {
   "cell_type": "code",
   "execution_count": null,
   "id": "24ce1d6e",
   "metadata": {
    "deletable": false,
    "editable": false,
    "nbgrader": {
     "cell_type": "code",
     "checksum": "2c1b13f1c484565fdc3d6cfc913f853b",
     "grade": true,
     "grade_id": "cell-9b62783c875fa46f",
     "locked": true,
     "points": 1,
     "schema_version": 3,
     "solution": false,
     "task": false
    }
   },
   "outputs": [],
   "source": []
  },
  {
   "cell_type": "markdown",
   "id": "c2bf83f4",
   "metadata": {
    "deletable": false,
    "editable": false,
    "nbgrader": {
     "cell_type": "markdown",
     "checksum": "e1613ee6b9ffb5cc82f0ba70ceb69921",
     "grade": false,
     "grade_id": "cell-a2c376a68257190b",
     "locked": true,
     "schema_version": 3,
     "solution": false,
     "task": false
    }
   },
   "source": [
    "Write a function called `add` that takes any number as its input and returns that sum with 2 added."
   ]
  },
  {
   "cell_type": "code",
   "execution_count": 5,
   "id": "e257a677",
   "metadata": {
    "deletable": false,
    "nbgrader": {
     "cell_type": "code",
     "checksum": "e5c66262ef0994fbf3227023deae481d",
     "grade": false,
     "grade_id": "cell-fe345752b12fdb34",
     "locked": false,
     "schema_version": 3,
     "solution": true,
     "task": false
    }
   },
   "outputs": [],
   "source": [
    "def add(num):\n",
    "    return num+2"
   ]
  },
  {
   "cell_type": "code",
   "execution_count": null,
   "id": "e09c5ffa",
   "metadata": {
    "deletable": false,
    "editable": false,
    "nbgrader": {
     "cell_type": "code",
     "checksum": "6f251d991bf0c0d2f4421704b28930f1",
     "grade": true,
     "grade_id": "cell-5403c39c286c20c4",
     "locked": true,
     "points": 1,
     "schema_version": 3,
     "solution": false,
     "task": false
    }
   },
   "outputs": [],
   "source": []
  },
  {
   "cell_type": "markdown",
   "id": "3fe59fb2",
   "metadata": {
    "deletable": false,
    "editable": false,
    "nbgrader": {
     "cell_type": "markdown",
     "checksum": "9b5154d7e9aaaee8a4d032e05b465682",
     "grade": false,
     "grade_id": "cell-a58d600cf1522999",
     "locked": true,
     "schema_version": 3,
     "solution": false,
     "task": false
    }
   },
   "source": [
    "Write a function called `change` that takes any string, adds “Nice to meet you!” to the end of the argument given, and returns that new string."
   ]
  },
  {
   "cell_type": "code",
   "execution_count": 6,
   "id": "47117018",
   "metadata": {
    "deletable": false,
    "nbgrader": {
     "cell_type": "code",
     "checksum": "639236744288b43168e7a7b3fc15bff8",
     "grade": false,
     "grade_id": "cell-981085a30b1dbf11",
     "locked": false,
     "schema_version": 3,
     "solution": true,
     "task": false
    }
   },
   "outputs": [],
   "source": [
    "def change(str):\n",
    "    return str+\"Nice to meet you!\""
   ]
  },
  {
   "cell_type": "code",
   "execution_count": null,
   "id": "4e3a75b9",
   "metadata": {
    "deletable": false,
    "editable": false,
    "nbgrader": {
     "cell_type": "code",
     "checksum": "7f442d741b842ade4863eb20603b0f34",
     "grade": true,
     "grade_id": "cell-a63c16b79a17d191",
     "locked": true,
     "points": 1,
     "schema_version": 3,
     "solution": false,
     "task": false
    }
   },
   "outputs": [],
   "source": []
  },
  {
   "cell_type": "markdown",
   "id": "4abb3059",
   "metadata": {
    "deletable": false,
    "editable": false,
    "nbgrader": {
     "cell_type": "markdown",
     "checksum": "9fa326d4e194a12b5d1fbb9e940a0945",
     "grade": false,
     "grade_id": "cell-e95dab83382acdd3",
     "locked": true,
     "schema_version": 3,
     "solution": false,
     "task": false
    }
   },
   "source": [
    "Write a function, `accum`, that takes a list of integers as input and returns the sum of those integers."
   ]
  },
  {
   "cell_type": "code",
   "execution_count": 7,
   "id": "740675a2",
   "metadata": {
    "deletable": false,
    "nbgrader": {
     "cell_type": "code",
     "checksum": "864056fbe32560ea6d588108b9b7f216",
     "grade": false,
     "grade_id": "cell-7e2e100a4f022b44",
     "locked": false,
     "schema_version": 3,
     "solution": true,
     "task": false
    }
   },
   "outputs": [],
   "source": [
    "def accum(lst):\n",
    "    sum=0\n",
    "    \n",
    "    for i in lst:\n",
    "        sum+=i\n",
    "    \n",
    "    return sum"
   ]
  },
  {
   "cell_type": "code",
   "execution_count": null,
   "id": "bb07d6ab",
   "metadata": {
    "deletable": false,
    "editable": false,
    "nbgrader": {
     "cell_type": "code",
     "checksum": "c022aa002e8a1e1dc5c31ce564487066",
     "grade": true,
     "grade_id": "cell-e0adbf09c2a878ed",
     "locked": true,
     "points": 1,
     "schema_version": 3,
     "solution": false,
     "task": false
    }
   },
   "outputs": [],
   "source": []
  },
  {
   "cell_type": "markdown",
   "id": "06ae5fdb",
   "metadata": {
    "deletable": false,
    "editable": false,
    "nbgrader": {
     "cell_type": "markdown",
     "checksum": "003535a0d4860df017ea462bf99d72de",
     "grade": false,
     "grade_id": "cell-5c25f32dc2343f7a",
     "locked": true,
     "schema_version": 3,
     "solution": false,
     "task": false
    }
   },
   "source": [
    "Write a function, `length`, that takes in a list as the input. If the length of the list is greater than or equal to 5, return “Longer than 5”. If the length is less than 5, return “Less than 5”."
   ]
  },
  {
   "cell_type": "code",
   "execution_count": 8,
   "id": "cb917e0a",
   "metadata": {
    "deletable": false,
    "nbgrader": {
     "cell_type": "code",
     "checksum": "842a374690532379542b45f130c33ee3",
     "grade": false,
     "grade_id": "cell-1f98855ba56b5f76",
     "locked": false,
     "schema_version": 3,
     "solution": true,
     "task": false
    }
   },
   "outputs": [],
   "source": [
    "def length(list):\n",
    "    if len(list)>=5:\n",
    "        return \"Longer than 5\"\n",
    "    else:\n",
    "        return \"Less than 5\""
   ]
  },
  {
   "cell_type": "code",
   "execution_count": null,
   "id": "7a2e4764",
   "metadata": {
    "deletable": false,
    "editable": false,
    "nbgrader": {
     "cell_type": "code",
     "checksum": "f702d01811a1ae865ec292a4c25414d9",
     "grade": true,
     "grade_id": "cell-7a3e39eadf04b050",
     "locked": true,
     "points": 1,
     "schema_version": 3,
     "solution": false,
     "task": false
    }
   },
   "outputs": [],
   "source": []
  },
  {
   "cell_type": "markdown",
   "id": "fa704944",
   "metadata": {
    "deletable": false,
    "editable": false,
    "nbgrader": {
     "cell_type": "markdown",
     "checksum": "6162c44ca7956d05e5dc82ee87e839e9",
     "grade": false,
     "grade_id": "cell-2b3de60de8125e04",
     "locked": true,
     "schema_version": 3,
     "solution": false,
     "task": false
    }
   },
   "source": [
    "You will need to write two functions for this problem. The first function, `divide` that takes in any number and returns that same number divided by 2. The second function called `add` should take any number, divide it by 2, and add 6. It should return this new number. You should call the `divide` function within the `add` function. Do not worry about decimals."
   ]
  },
  {
   "cell_type": "code",
   "execution_count": 10,
   "id": "0de10a44",
   "metadata": {
    "deletable": false,
    "nbgrader": {
     "cell_type": "code",
     "checksum": "4f6f0bc6a3f993e47d3d054391f3e606",
     "grade": false,
     "grade_id": "cell-59f230f74d0e4999",
     "locked": false,
     "schema_version": 3,
     "solution": true,
     "task": false
    }
   },
   "outputs": [],
   "source": [
    "def divide(number):\n",
    "    \"\"\"Divides the input number by 2.\"\"\"\n",
    "    return number / 2\n",
    "\n",
    "def add(number):\n",
    "    divided_number = divide(number)  # Call the divide function\n",
    "    result = divided_number + 6\n",
    "    return result\n"
   ]
  },
  {
   "cell_type": "code",
   "execution_count": null,
   "id": "1f5a2a40",
   "metadata": {
    "deletable": false,
    "editable": false,
    "nbgrader": {
     "cell_type": "code",
     "checksum": "b1167c9256d9ea0e1bdadb40c57e21b2",
     "grade": true,
     "grade_id": "cell-47dd1f282cf79afa",
     "locked": true,
     "points": 1,
     "schema_version": 3,
     "solution": false,
     "task": false
    }
   },
   "outputs": [],
   "source": []
  },
  {
   "cell_type": "code",
   "execution_count": null,
   "id": "24cf9942-aa60-42d0-bd16-b829a2970749",
   "metadata": {},
   "outputs": [],
   "source": []
  }
 ],
 "metadata": {
  "kernelspec": {
   "display_name": "Python 3 (ipykernel)",
   "language": "python",
   "name": "python3"
  },
  "language_info": {
   "codemirror_mode": {
    "name": "ipython",
    "version": 3
   },
   "file_extension": ".py",
   "mimetype": "text/x-python",
   "name": "python",
   "nbconvert_exporter": "python",
   "pygments_lexer": "ipython3",
   "version": "3.11.6"
  }
 },
 "nbformat": 4,
 "nbformat_minor": 5
}
