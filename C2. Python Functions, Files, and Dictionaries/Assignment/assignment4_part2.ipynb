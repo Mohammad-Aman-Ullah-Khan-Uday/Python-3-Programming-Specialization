{
 "cells": [
  {
   "cell_type": "markdown",
   "id": "9db307c6",
   "metadata": {
    "deletable": false,
    "editable": false,
    "nbgrader": {
     "cell_type": "markdown",
     "checksum": "ca3794a39d644985d09f3292d4e14d37",
     "grade": false,
     "grade_id": "cell-5a9f66e83dbbbadd",
     "locked": true,
     "schema_version": 3,
     "solution": false,
     "task": false
    }
   },
   "source": [
    "# Assignment 4 (part two)\n",
    "\n",
    "Advanced Functions"
   ]
  },
  {
   "cell_type": "markdown",
   "id": "90cf6709",
   "metadata": {
    "deletable": false,
    "editable": false,
    "nbgrader": {
     "cell_type": "markdown",
     "checksum": "efff961c8d0fc7a1206a524fe12f1f26",
     "grade": false,
     "grade_id": "cell-8fa408e980e3837d",
     "locked": true,
     "schema_version": 3,
     "solution": false,
     "task": false
    }
   },
   "source": [
    "Create a function called `mult` that has two parameters, the first is required and should be an integer, the second is an optional parameter that can either be a number or a string but whose default is 6. The function should return the first parameter multiplied by the second."
   ]
  },
  {
   "cell_type": "code",
   "execution_count": 13,
   "id": "5aa2bfeb",
   "metadata": {
    "deletable": false,
    "nbgrader": {
     "cell_type": "code",
     "checksum": "96469f469d306089c1a4f8a5dfb5ee79",
     "grade": false,
     "grade_id": "cell-6563795c6a21f67d",
     "locked": false,
     "schema_version": 3,
     "solution": true,
     "task": false
    }
   },
   "outputs": [],
   "source": [
    "def mult(integer,x=6):\n",
    "    return integer*x"
   ]
  },
  {
   "cell_type": "code",
   "execution_count": null,
   "id": "d7ceaa7f",
   "metadata": {
    "deletable": false,
    "editable": false,
    "nbgrader": {
     "cell_type": "code",
     "checksum": "98b5b6ed9d85cb75488d43fc0b051f8c",
     "grade": true,
     "grade_id": "cell-3ceeb3dd921f3084",
     "locked": true,
     "points": 1,
     "schema_version": 3,
     "solution": false,
     "task": false
    }
   },
   "outputs": [],
   "source": []
  },
  {
   "cell_type": "markdown",
   "id": "2cefde4f",
   "metadata": {
    "deletable": false,
    "editable": false,
    "nbgrader": {
     "cell_type": "markdown",
     "checksum": "de79363d41d3a4d78d88a64849973740",
     "grade": false,
     "grade_id": "cell-7714281be54827db",
     "locked": true,
     "schema_version": 3,
     "solution": false,
     "task": false
    }
   },
   "source": [
    "Write a function `greeting` that has three parameters `greeting`, `name`, `excl`. `name` is required while the optional parameter `greeting` has the default value of \"Hello \" and the optional parameter `excl` has the default value of \"!\". The function returns the string `greeting name excl`.\n",
    "\n",
    "`greeting(\"Bob\")` should return Hello Bob!"
   ]
  },
  {
   "cell_type": "code",
   "execution_count": 14,
   "id": "1af36c38",
   "metadata": {
    "deletable": false,
    "nbgrader": {
     "cell_type": "code",
     "checksum": "5fa30f75c718370a1b580c09a837fc3d",
     "grade": false,
     "grade_id": "cell-7079813d36871bab",
     "locked": false,
     "schema_version": 3,
     "solution": true,
     "task": false
    }
   },
   "outputs": [
    {
     "name": "stdout",
     "output_type": "stream",
     "text": [
      "Hello Bob!\n",
      "Hello !\n",
      "Hello Bob!!!\n"
     ]
    }
   ],
   "source": [
    "# YOUR CODE HERE\n",
    "def greeting(name, greeting=\"Hello \", excl=\"!\"):\n",
    "    return greeting + name + excl\n",
    "\n",
    "print(greeting(\"Bob\"))\n",
    "print(greeting(\"\"))\n",
    "print(greeting(\"Bob\", excl=\"!!!\"))"
   ]
  },
  {
   "cell_type": "code",
   "execution_count": null,
   "id": "867367cb",
   "metadata": {
    "deletable": false,
    "editable": false,
    "nbgrader": {
     "cell_type": "code",
     "checksum": "59879c91dd6940b10dff199e5758ef51",
     "grade": true,
     "grade_id": "cell-6518a18258ba7480",
     "locked": true,
     "points": 1,
     "schema_version": 3,
     "solution": false,
     "task": false
    }
   },
   "outputs": [],
   "source": []
  },
  {
   "cell_type": "markdown",
   "id": "891a0d83",
   "metadata": {
    "deletable": false,
    "editable": false,
    "nbgrader": {
     "cell_type": "markdown",
     "checksum": "7274206a9fe93b6f6ee90e44f3dbf942",
     "grade": false,
     "grade_id": "cell-49125047ef3becf8",
     "locked": true,
     "schema_version": 3,
     "solution": false,
     "task": false
    }
   },
   "source": [
    "Write a function `sum` that has two parameters `intx`, `intz`. `intx` is required while optional parameter `intz` has the default value of 5. `sum` returns the sum of the two parameters."
   ]
  },
  {
   "cell_type": "code",
   "execution_count": 15,
   "id": "aed4afb0",
   "metadata": {
    "deletable": false,
    "nbgrader": {
     "cell_type": "code",
     "checksum": "a5f60ac31bc8760849e374266880b16a",
     "grade": false,
     "grade_id": "cell-6c6af98c8dfca7d8",
     "locked": false,
     "schema_version": 3,
     "solution": true,
     "task": false
    }
   },
   "outputs": [],
   "source": [
    "def sum(intx,intz=5):\n",
    "    return intz + intx"
   ]
  },
  {
   "cell_type": "code",
   "execution_count": null,
   "id": "74d2d9e2",
   "metadata": {
    "deletable": false,
    "editable": false,
    "nbgrader": {
     "cell_type": "code",
     "checksum": "9b980b0474b58bbc75ee782632b33a5f",
     "grade": true,
     "grade_id": "cell-80e59ab5e4311ddf",
     "locked": true,
     "points": 1,
     "schema_version": 3,
     "solution": false,
     "task": false
    }
   },
   "outputs": [],
   "source": []
  },
  {
   "cell_type": "markdown",
   "id": "e4627751",
   "metadata": {
    "deletable": false,
    "editable": false,
    "nbgrader": {
     "cell_type": "markdown",
     "checksum": "45986f366bf3b320ea865bf2d7714da4",
     "grade": false,
     "grade_id": "cell-b6ea995c9a0995cb",
     "locked": true,
     "schema_version": 3,
     "solution": false,
     "task": false
    }
   },
   "source": [
    "Write a function, `test`, that takes in three parameters: a required integer, an optional boolean whose default value is `True`, and an optional dictionary, called `dict1`, whose default value is `{2:3, 4:5, 6:8}`. If the boolean parameter is `True`, the function should test to see if the integer is a key in the dictionary. The value of that key should then be returned. If the boolean parameter is False, return the boolean value `False`."
   ]
  },
  {
   "cell_type": "code",
   "execution_count": 16,
   "id": "7f99d7aa",
   "metadata": {
    "deletable": false,
    "nbgrader": {
     "cell_type": "code",
     "checksum": "7d62c453d9ce6a6e4214ba082162dead",
     "grade": false,
     "grade_id": "cell-efc6eb7fd1e85dc9",
     "locked": false,
     "schema_version": 3,
     "solution": true,
     "task": false
    }
   },
   "outputs": [],
   "source": [
    "def test(integer,dummy=True,dict1={2:3, 4:5, 6:8}):\n",
    "    if dummy==True:\n",
    "        if integer in dict1.keys():\n",
    "            return dict1[integer]\n",
    "    \n",
    "    if dummy==False:\n",
    "        return dummy"
   ]
  },
  {
   "cell_type": "code",
   "execution_count": null,
   "id": "f546e286",
   "metadata": {
    "deletable": false,
    "editable": false,
    "nbgrader": {
     "cell_type": "code",
     "checksum": "c1303d44c03a5fa068815a42fb04afec",
     "grade": true,
     "grade_id": "cell-bc67a36e09a80492",
     "locked": true,
     "points": 1,
     "schema_version": 3,
     "solution": false,
     "task": false
    }
   },
   "outputs": [],
   "source": []
  },
  {
   "cell_type": "markdown",
   "id": "dfa367ae",
   "metadata": {
    "deletable": false,
    "editable": false,
    "nbgrader": {
     "cell_type": "markdown",
     "checksum": "6fc92a169bf06c85ff02e0fbf386cd60",
     "grade": false,
     "grade_id": "cell-830a234ecbd9b58a",
     "locked": true,
     "schema_version": 3,
     "solution": false,
     "task": false
    }
   },
   "source": [
    "Write a function called `checkingIfIn` that takes three parameters. The first is a required parameter, which should be a string. The second is an optional parameter called `direction` with a default value of `True`. The third is an optional parameter called `d` that has a default value of `{'apple': 2, 'pear': 1, 'fruit': 19, 'orange': 5, 'banana': 3, 'grapes': 2, 'watermelon': 7}`. \n",
    "\n",
    "When the second parameter is `True`, it should check to see if the first parameter is a key in the third parameter; if it is, return `True`, otherwise return `False`.\n",
    "\n",
    "But if the second paramter is `False`, then the function should check to see if the first parameter is not a key of the third. If it’s not, the function should return `True` in this case, and if it is, it should return `False`."
   ]
  },
  {
   "cell_type": "code",
   "execution_count": 17,
   "id": "e9e54251",
   "metadata": {
    "deletable": false,
    "nbgrader": {
     "cell_type": "code",
     "checksum": "e4666c26752347a819357a3afddef375",
     "grade": false,
     "grade_id": "cell-81de540c41eaabdd",
     "locked": false,
     "schema_version": 3,
     "solution": true,
     "task": false
    }
   },
   "outputs": [],
   "source": [
    "def checkingIfIn(string,direction=True,d={'apple': 2, 'pear': 1, 'fruit': 19, 'orange': 5, 'banana': 3, 'grapes': 2, 'watermelon': 7}):\n",
    "    \n",
    "    if direction==True:\n",
    "        if string in d.keys():\n",
    "            return True\n",
    "        else:\n",
    "            return False\n",
    "    \n",
    "    if direction==False:\n",
    "        if string not in d.keys():\n",
    "            return True\n",
    "        else:\n",
    "            return False"
   ]
  },
  {
   "cell_type": "code",
   "execution_count": null,
   "id": "aac19bbd",
   "metadata": {
    "deletable": false,
    "editable": false,
    "nbgrader": {
     "cell_type": "code",
     "checksum": "faf5e2b3dcba7f9622b5768ced37fb45",
     "grade": true,
     "grade_id": "cell-6b88ea6b5c471994",
     "locked": true,
     "points": 1,
     "schema_version": 3,
     "solution": false,
     "task": false
    }
   },
   "outputs": [],
   "source": []
  },
  {
   "cell_type": "markdown",
   "id": "d2fa9ea5",
   "metadata": {
    "deletable": false,
    "editable": false,
    "nbgrader": {
     "cell_type": "markdown",
     "checksum": "a4e532bdec0c629964ac32f573674338",
     "grade": false,
     "grade_id": "cell-897a54134577fd34",
     "locked": true,
     "schema_version": 3,
     "solution": false,
     "task": false
    }
   },
   "source": [
    "We have provided an alternative function `checkingIfIn_2`. If the first input parameter is in the third input parameter (a dictionary), then the function returns the associated value, and otherwise, it returns `False`. Follow the instructions in the active code window for specific variable assignmemts."
   ]
  },
  {
   "cell_type": "code",
   "execution_count": 18,
   "id": "53bde504",
   "metadata": {
    "deletable": false,
    "nbgrader": {
     "cell_type": "code",
     "checksum": "97ec31d2b58ef303b94e3cff8282f517",
     "grade": false,
     "grade_id": "cell-a897872987826b7c",
     "locked": false,
     "schema_version": 3,
     "solution": true,
     "task": false
    }
   },
   "outputs": [],
   "source": [
    "def checkingIfIn(a, direction = True, d = {'apple': 2, 'pear': 1, 'fruit': 19, 'orange': 5, 'banana': 3, 'grapes': 2, 'watermelon': 7}):\n",
    "    if direction == True:\n",
    "        if a in d:\n",
    "            return d[a]\n",
    "        else:\n",
    "            return False\n",
    "    else:\n",
    "        if a not in d:\n",
    "            return True\n",
    "        else:\n",
    "            return d[a]\n",
    "        \n",
    "# Call the function so that it returns False and assign that function call to the variable c_false\n",
    "c_false=checkingIfIn('d')\n",
    "# Call the fucntion so that it returns True and assign it to the variable c_true\n",
    "c_true=checkingIfIn('d',direction=False)\n",
    "# Call the function so that the value of fruit is assigned to the variable fruit_ans\n",
    "fruit_ans= checkingIfIn('fruit')\n",
    "# Call the function using the first and third parameter so that the value 8 is assigned to the variable param_check\n",
    "param_check = checkingIfIn('a',True, {'a': 8})\n"
   ]
  },
  {
   "cell_type": "code",
   "execution_count": null,
   "id": "0e7e098e",
   "metadata": {
    "deletable": false,
    "editable": false,
    "nbgrader": {
     "cell_type": "code",
     "checksum": "681dda9238b3223ff116a52b10680a6b",
     "grade": true,
     "grade_id": "cell-353668d69efbb7f8",
     "locked": true,
     "points": 1,
     "schema_version": 3,
     "solution": false,
     "task": false
    }
   },
   "outputs": [],
   "source": []
  }
 ],
 "metadata": {
  "kernelspec": {
   "display_name": "Python 3 (ipykernel)",
   "language": "python",
   "name": "python3"
  },
  "language_info": {
   "codemirror_mode": {
    "name": "ipython",
    "version": 3
   },
   "file_extension": ".py",
   "mimetype": "text/x-python",
   "name": "python",
   "nbconvert_exporter": "python",
   "pygments_lexer": "ipython3",
   "version": "3.11.6"
  }
 },
 "nbformat": 4,
 "nbformat_minor": 5
}
