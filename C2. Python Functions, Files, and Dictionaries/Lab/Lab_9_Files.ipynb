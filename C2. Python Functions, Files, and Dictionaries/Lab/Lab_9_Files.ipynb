{
 "cells": [
  {
   "cell_type": "markdown",
   "metadata": {},
   "source": [
    "# Reading a File"
   ]
  },
  {
   "cell_type": "code",
   "execution_count": 1,
   "metadata": {},
   "outputs": [],
   "source": [
    "s = \"myfile.txt\"\n",
    "f = open(s,'r')"
   ]
  },
  {
   "cell_type": "markdown",
   "metadata": {},
   "source": [
    "1. In the above line of code:\n",
    "    1. What is the file name, `s` or `f`?\n",
    "    2. What is the file object, `s` or `f`?\n",
    "    3. What does the `'r'` mean?\n",
    "2. What’s the difference between a file name and a file object?\n",
    "3. Is the `readlines()` method performed on a file name or a file object?\n",
    "    1. `s.readlines()` OR\n",
    "    2. `f.readlines()`"
   ]
  },
  {
   "cell_type": "markdown",
   "metadata": {},
   "source": [
    "# Reading and Processing a File\n",
    "Based on first question on textbook page AlternativeFileReadingMethods.html\n",
    "4. About the `.close()` operation:\n",
    "    1. What does it do?\n",
    "    2. When should you invoke that method?\n",
    "    3. Should you invoke it on the filename or on the file object?\n",
    "    4. What happens if you run the following code?\n",
    "    "
   ]
  },
  {
   "cell_type": "code",
   "execution_count": 3,
   "metadata": {
    "collapsed": true,
    "jupyter": {
     "outputs_hidden": true
    }
   },
   "outputs": [
    {
     "ename": "ValueError",
     "evalue": "I/O operation on closed file.",
     "output_type": "error",
     "traceback": [
      "\u001b[0;31m---------------------------------------------------------------------------\u001b[0m",
      "\u001b[0;31mValueError\u001b[0m                                Traceback (most recent call last)",
      "\u001b[0;32m<ipython-input-3-0012b6b92e29>\u001b[0m in \u001b[0;36m<module>\u001b[0;34m\u001b[0m\n\u001b[1;32m      2\u001b[0m \u001b[0mf\u001b[0m \u001b[0;34m=\u001b[0m \u001b[0mopen\u001b[0m\u001b[0;34m(\u001b[0m\u001b[0ms\u001b[0m\u001b[0;34m,\u001b[0m\u001b[0;34m'r'\u001b[0m\u001b[0;34m)\u001b[0m\u001b[0;34m\u001b[0m\u001b[0;34m\u001b[0m\u001b[0m\n\u001b[1;32m      3\u001b[0m \u001b[0mf\u001b[0m\u001b[0;34m.\u001b[0m\u001b[0mclose\u001b[0m\u001b[0;34m(\u001b[0m\u001b[0;34m)\u001b[0m\u001b[0;34m\u001b[0m\u001b[0;34m\u001b[0m\u001b[0m\n\u001b[0;32m----> 4\u001b[0;31m \u001b[0mprint\u001b[0m\u001b[0;34m(\u001b[0m\u001b[0mf\u001b[0m\u001b[0;34m.\u001b[0m\u001b[0mread\u001b[0m\u001b[0;34m(\u001b[0m\u001b[0;34m)\u001b[0m\u001b[0;34m)\u001b[0m\u001b[0;34m\u001b[0m\u001b[0;34m\u001b[0m\u001b[0m\n\u001b[0m",
      "\u001b[0;31mValueError\u001b[0m: I/O operation on closed file."
     ]
    }
   ],
   "source": [
    "s = \"school_prompt2.txt\"\n",
    "f = open(s,'r')\n",
    "f.close()\n",
    "print(f.read())"
   ]
  },
  {
   "cell_type": "markdown",
   "metadata": {},
   "source": [
    "5. Write code to print out the first 10 characters of “school_prompt2.txt”\n",
    "2. Write code to print the first character from each line of “school_prompt2.txt”\n",
    "3. Suppose that you read the contents of a file as a list of strings, using `.readlines()`. What will be the last character in each string?"
   ]
  },
  {
   "cell_type": "markdown",
   "metadata": {},
   "source": [
    "# Rewriting a File\n",
    "8. Write code that, when executed, writes to a file “school_prompt3.txt” the numbers 0 to 19, each written on a separate line.\n",
    "\n",
    "9. Then write code and one or more `assert` statements that will test whether your code has worked correctly. (Hint: read in the contents of the file and see if it’s what you thought should be written there.)\n"
   ]
  },
  {
   "cell_type": "markdown",
   "metadata": {},
   "source": [
    "# Reading CSV Files\n",
    "Working through code from the textbook\n",
    "\n",
    "As a reminder, here are the first few lines of the file olympics.txt:"
   ]
  },
  {
   "cell_type": "markdown",
   "metadata": {},
   "source": [
    "```\n",
    "Name,Sex,Age,Team,Event,Medal\n",
    "A Dijiang,M,24,China,Basketball,NA\n",
    "A Lamusi,M,23,China,Judo,NA\n",
    "Gunnar Nielsen Aaby,M,24,Denmark,Football,NA\n",
    "Edgar Lindenau Aabye,M,34,Denmark/Sweden,Tug-Of-War,Gold\n",
    "Christine Jacoba Aaftink,F,21,Netherlands,Speed Skating,NA\n",
    "Christine Jacoba Aaftink,F,21,Netherlands,Speed Skating,NA\n",
    "Christine Jacoba Aaftink,F,25,Netherlands,Speed Skating,NA\n",
    "```"
   ]
  },
  {
   "cell_type": "code",
   "execution_count": 13,
   "metadata": {},
   "outputs": [
    {
     "name": "stdout",
     "output_type": "stream",
     "text": [
      "['Name', 'Sex', 'Age', 'Team', 'Event', 'Medal']\n",
      "Edgar Lindenau Aabye: Tug-Of-War; Gold\n",
      "Arvo Ossian Aaltonen: Swimming; Bronze\n",
      "Arvo Ossian Aaltonen: Swimming; Bronze\n",
      "Juhamatti Tapio Aaltonen: Ice Hockey; Bronze\n",
      "Paavo Johannes Aaltonen: Gymnastics; Bronze\n",
      "Paavo Johannes Aaltonen: Gymnastics; Gold\n",
      "Paavo Johannes Aaltonen: Gymnastics; Gold\n",
      "Paavo Johannes Aaltonen: Gymnastics; Gold\n",
      "Paavo Johannes Aaltonen: Gymnastics; Bronze\n"
     ]
    }
   ],
   "source": [
    "fileconnection = open(\"olympics.txt\", 'r')\n",
    "lines = fileconnection.readlines()\n",
    "header = lines[0]\n",
    "field_names = header.strip().split(',')\n",
    "print(field_names)\n",
    "for row in lines[1:]:\n",
    "    vals = row.strip().split(',')\n",
    "    if vals[5] != \"NA\":\n",
    "        print(\"{}: {}; {}\".format(\n",
    "                vals[0],\n",
    "                vals[4],\n",
    "                vals[5]))"
   ]
  },
  {
   "cell_type": "markdown",
   "metadata": {},
   "source": [
    "10. What will the value of `header` be after line 3 executes? (If you’re not sure, try adding a print statement to see)\n",
    "2. Let’s deconstruct line 4:\n",
    "    1. Which will execute first, `.strip()` or `.split()`?\n",
    "    2. What will the input be to the `.split() method`?\n",
    "    3. What does `.strip()` do?\n",
    "    4. Why do we invoke `.strip()`? What is in our data that needs to be stripped?\n",
    "    5. What is the type of object returned by `.strip()`?\n",
    "    6. What is the type of object returned by `.split()`?\n",
    "    7. After line 4 executes, what is the type of `field_names`?\n",
    "    8. What would happen if we had written, instead, `header.split(',').strip()`?\n",
    "3. On line 6, what does  `lines[1:]` mean?\n",
    "4. On line 7, we again have `.strip().split(',')`. \n",
    "    1. Didn’t we already do that? \n",
    "    2. Why do we have to do it again?\n",
    "5. Explain lines 9-12\n",
    "    1. What do the {} inside the string do?\n",
    "    2. What do : and the ; inside the string do?\n",
    "    3. What is the type of `vals`\n",
    "    4. What are `vals[0]`, `vals[4]` and `vals[5]`.\n",
    "    5. The text says that splitting on commas would fail if there were no commas in any of the values. What would happen on lines 9-12 if, on one row, the event was `Swimming, 100M Freestyle` ?"
   ]
  },
  {
   "cell_type": "markdown",
   "metadata": {},
   "source": [
    "# Writing CSV Files\n",
    "Again working through code from the textbook"
   ]
  },
  {
   "cell_type": "code",
   "execution_count": 11,
   "metadata": {},
   "outputs": [],
   "source": [
    "olympians = [(\"John Aalberg\", 31, \"Cross Country Skiing, 15KM\"),\n",
    "            (\"Minna Maarit Aalto\", 30, \"Sailing\"),\n",
    "            (\"Win Valdemar Aaltonen\", 54, \"Art Competitions\"),\n",
    "            (\"Wakako Abe\", 18, \"Cycling\")]\n",
    "\n",
    "outfile = open(\"reduced_olympics2.csv\",\"w\")\n",
    "\n",
    "outfile.write('Name,Age,Sport')\n",
    "outfile.write('\\n')\n",
    "\n",
    "for olympian in olympians:\n",
    "    row_string = '{}, {}, {}'.format(olympian[0], olympian[1], olympian[2])\n",
    "    outfile.write(row_string)\n",
    "    outfile.write('\\n')\n",
    "outfile.close()"
   ]
  },
  {
   "cell_type": "markdown",
   "metadata": {},
   "source": [
    "15. What is the type of `olympians`?\n",
    "2. What is the type of `olympians[0]`?\n",
    "3. If you had to write a comment explaining what is happening on lines 8-9, what would you write?\n",
    "4. What would happen if you omitted line 9?\n",
    "5. Suppose we wanted to combine lines 8-9 into one line. Which of the following could we write instead?\n",
    "    1. `outfile.write('Name,Age,Sport\\n')`\n",
    "    2. `outfile.write('Name,Age,Sport'\\n)`\n",
    "    3. `outfile.write('Name,Age,Sport' + '\\n')`\n",
    "    4. `outfile.write('Name,Age,Sport' + \\n)`\n",
    "6. How could you combine lines 12-14 into a single line of code?\n",
    "7. What would happen if we omitted line 15?"
   ]
  }
 ],
 "metadata": {
  "kernelspec": {
   "display_name": "Python 3 (ipykernel)",
   "language": "python",
   "name": "python3"
  },
  "language_info": {
   "codemirror_mode": {
    "name": "ipython",
    "version": 3
   },
   "file_extension": ".py",
   "mimetype": "text/x-python",
   "name": "python",
   "nbconvert_exporter": "python",
   "pygments_lexer": "ipython3",
   "version": "3.11.6"
  }
 },
 "nbformat": 4,
 "nbformat_minor": 4
}
