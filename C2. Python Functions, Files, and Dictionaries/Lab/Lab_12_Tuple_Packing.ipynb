{
 "cells": [
  {
   "cell_type": "markdown",
   "metadata": {},
   "source": [
    "## Conceptual Questions\n",
    "1. How is a tuple different from a list?\n",
    "2. What is tuple packing?\n",
    "3. What is tuple unpacking?\n",
    "4. Could we return multiple values from a function even if python did not have tuple packing and unpacking?"
   ]
  },
  {
   "cell_type": "markdown",
   "metadata": {},
   "source": [
    "# Exercises"
   ]
  },
  {
   "cell_type": "markdown",
   "metadata": {},
   "source": [
    "5. In the following example, what is the output in line 3? When does tuple packing happens?"
   ]
  },
  {
   "cell_type": "code",
   "execution_count": null,
   "metadata": {},
   "outputs": [],
   "source": [
    "a = ('apple', 'orange')\n",
    "b = 'apple', 'orange'\n",
    "print(a == b)"
   ]
  },
  {
   "cell_type": "markdown",
   "metadata": {},
   "source": [
    "6. Create a function `square_dimensions(x)`. It takes only one parameter `x` that indicates the edge length. The function should return the **circumference and the area** of the square. Use tuple packing to return the two values"
   ]
  },
  {
   "cell_type": "markdown",
   "metadata": {},
   "source": [
    "7. Now, call the function `square_dimensions(x)` to compute the circumference and area of a square with edge length 4, and assign the circumference and area to two variables, `c` and `s`. (Do this in one line, so that you practice tuple unpacking.)"
   ]
  },
  {
   "cell_type": "markdown",
   "metadata": {},
   "source": [
    "8. Write one line of code to swap the value of `a` and `b`."
   ]
  },
  {
   "cell_type": "code",
   "execution_count": null,
   "metadata": {},
   "outputs": [],
   "source": [
    "a = 1\n",
    "b = 2"
   ]
  },
  {
   "cell_type": "markdown",
   "metadata": {},
   "source": [
    "Below is a function that computes the dimensions of a rectangle."
   ]
  },
  {
   "cell_type": "code",
   "execution_count": null,
   "metadata": {},
   "outputs": [],
   "source": [
    "def rectangle_dimensions(width, height):\n",
    "    return width + height + width + height, width*height"
   ]
  },
  {
   "cell_type": "markdown",
   "metadata": {},
   "source": [
    "9. If you have a tuple `info=(3, 4)` that has the length of two edges, how can you pass those to the `rectangle_dimensions` function? "
   ]
  },
  {
   "cell_type": "markdown",
   "metadata": {},
   "source": [
    "10. How would you print out just the circumference returned by a call to `rectangle_dimensions(18, 29)`? "
   ]
  },
  {
   "cell_type": "code",
   "execution_count": null,
   "metadata": {},
   "outputs": [],
   "source": []
  }
 ],
 "metadata": {
  "kernelspec": {
   "display_name": "Python 3 (ipykernel)",
   "language": "python",
   "name": "python3"
  },
  "language_info": {
   "codemirror_mode": {
    "name": "ipython",
    "version": 3
   },
   "file_extension": ".py",
   "mimetype": "text/x-python",
   "name": "python",
   "nbconvert_exporter": "python",
   "pygments_lexer": "ipython3",
   "version": "3.11.6"
  }
 },
 "nbformat": 4,
 "nbformat_minor": 4
}
