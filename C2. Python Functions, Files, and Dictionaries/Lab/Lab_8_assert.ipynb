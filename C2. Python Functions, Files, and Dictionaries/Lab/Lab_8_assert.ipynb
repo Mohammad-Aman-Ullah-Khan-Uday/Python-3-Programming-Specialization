{
 "cells": [
  {
   "cell_type": "markdown",
   "metadata": {},
   "source": [
    "# Understanding `assert` Statements\n",
    "1. What will happen when the following code executes? What will print? Will there be an error?"
   ]
  },
  {
   "cell_type": "code",
   "execution_count": 2,
   "metadata": {},
   "outputs": [
    {
     "name": "stdout",
     "output_type": "stream",
     "text": [
      "x is 4 and y is 4\n",
      "x is 5 and y is 4\n",
      "That was easy!\n"
     ]
    }
   ],
   "source": [
    "x = 4\n",
    "y = x\n",
    "print(\"x is {} and y is {}\".format(x, y))\n",
    "assert x == y  # This passes\n",
    "\n",
    "x += 1  # Increment x\n",
    "print(\"x is {} and y is {}\".format(x, y))\n",
    "\n",
    "# Now, x and y are not equal, so remove the second assertion\n",
    "print(\"That was easy!\")\n"
   ]
  },
  {
   "cell_type": "markdown",
   "metadata": {},
   "source": [
    "# Writing `assert` Tests to Check Your Understanding\n",
    "2. Replace the print statements in the code below with assert statements to reflect whether you think the print statements will print True or False. (Hint: if you think the print statement would print False, then use a not or switch == for !=.)"
   ]
  },
  {
   "cell_type": "code",
   "execution_count": null,
   "metadata": {},
   "outputs": [],
   "source": [
    "c = [\"apple\", \"orange\"]\n",
    "d = [\"apple\", \"orange\"]\n",
    "print(c is d)\n",
    "print(c==d)\n",
    "\n",
    "e = d[:]\n",
    "print(e is d)\n",
    "print(e==d)\n",
    "\n",
    "f = d\n",
    "print(f is d)\n",
    "print(f == d)"
   ]
  },
  {
   "cell_type": "markdown",
   "metadata": {},
   "source": [
    "# Part 2\n",
    "3. Add assert statements on the blank lines to test whether the program is doing “what you expect”."
   ]
  },
  {
   "cell_type": "code",
   "execution_count": null,
   "metadata": {},
   "outputs": [],
   "source": [
    "numbers_str = \"13.1, 17.4, 22, 0\"\n",
    "numbers_l = numbers_str.split(\",\")\n",
    "# add assertions about the type of numbers_l and its length\n",
    "\n",
    "ct = 0\n",
    "for x in numbers_l:\n",
    "    # add assertion about the type of x\n",
    "        \n",
    "    if (float(x) > 15):\n",
    "        ct += 1\n",
    "\n",
    "# add assertion about the value of ct"
   ]
  },
  {
   "cell_type": "code",
   "execution_count": null,
   "metadata": {},
   "outputs": [],
   "source": []
  }
 ],
 "metadata": {
  "kernelspec": {
   "display_name": "Python 3 (ipykernel)",
   "language": "python",
   "name": "python3"
  },
  "language_info": {
   "codemirror_mode": {
    "name": "ipython",
    "version": 3
   },
   "file_extension": ".py",
   "mimetype": "text/x-python",
   "name": "python",
   "nbconvert_exporter": "python",
   "pygments_lexer": "ipython3",
   "version": "3.11.6"
  }
 },
 "nbformat": 4,
 "nbformat_minor": 4
}
