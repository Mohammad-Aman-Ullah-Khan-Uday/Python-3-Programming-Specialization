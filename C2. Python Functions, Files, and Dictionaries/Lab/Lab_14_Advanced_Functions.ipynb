{
 "cells": [
  {
   "cell_type": "markdown",
   "metadata": {},
   "source": [
    "# Warm-up"
   ]
  },
  {
   "cell_type": "markdown",
   "metadata": {},
   "source": [
    "1. In your own words, describe what an optional parameter is and what a default value is.\n",
    "\n",
    "3. What is the optional parameter in the `split` method?\n",
    "\n",
    "4. Write one line of code that does the following things on the string \" I_learn_a_lot_at_SI016   \":\n",
    "  1. Remove both leading and trailing white spaces.\n",
    "  2. Replace all \"_\" with a space character.\n",
    "  3. Create a list of words from the resulting string."
   ]
  },
  {
   "cell_type": "markdown",
   "metadata": {},
   "source": [
    "# Optional Parameters\n",
    "Previously, we learned how to read and write CSV files.\n",
    "Today, we're going to use a new CSV file that includes PS1 and PS2 grades for students in an IMAGINARY course.\n",
    "The file contains the following three columns:\n",
    "- Student\n",
    "- PS1\n",
    "- PS2\n",
    "\n",
    "The following code will read the data from the CSV file and prints each row in a line."
   ]
  },
  {
   "cell_type": "code",
   "execution_count": null,
   "metadata": {},
   "outputs": [],
   "source": [
    "fileconnection = open(\"data/Imaginary_SI106.csv\", 'r')\n",
    "lines = fileconnection.readlines()\n",
    "header = lines[0]\n",
    "field_names = header.strip().split(',')\n",
    "\n",
    "for row in lines[1:]:\n",
    "    vals = row.strip().split(',')\n",
    "    nm, ps1, ps2 = vals[0], vals[1], vals[2]\n",
    "    printable = \"{} got {} in PS1 and {} in PS2.\".format(nm, ps1, ps2)\n",
    "    print(printable)"
   ]
  },
  {
   "cell_type": "markdown",
   "metadata": {},
   "source": [
    "4. In the cell below, we have rewritten the for loop. You will be replacing the value assigned to `printable` in the above code with a function call. Define a function called `output` that takes the values in each row and returns a string similar to what we printed in the code above."
   ]
  },
  {
   "cell_type": "code",
   "execution_count": null,
   "metadata": {},
   "outputs": [],
   "source": [
    "# Define your function here:\n",
    "\n",
    "\n",
    "# The code provided for iterating through the rows of the data:\n",
    "for row in lines[1:]:\n",
    "    vals = row.strip().split(',')\n",
    "    nm, ps1, ps2 = vals[0], vals[1], vals[2]\n",
    "    # Call your function here passing nm, ps1, and ps2 to it.\n",
    "    printable = \n",
    "    print(printable)"
   ]
  },
  {
   "cell_type": "markdown",
   "metadata": {},
   "source": [
    "5. Unfortunately, we see some PS grades are not specified in the CSV file and our code prints only a space for them. For example, it prints:\n",
    "\n",
    "\"Ayaz got 32 in PS1 and  in PS2.\"\n",
    "\n",
    "This is not good. To fix this, write a function `output_ps1_only` that we will use when PS2 is missing. The new function takes only the student's name and their PS1 grade and returns the same formatted string with a value of 0 for PS2."
   ]
  },
  {
   "cell_type": "code",
   "execution_count": null,
   "metadata": {},
   "outputs": [],
   "source": [
    "# Define your function here:\n",
    "\n",
    "\n",
    "# The code provided for iterating through the rows of the data:\n",
    "for row in lines[1:]:\n",
    "    vals = row.strip().split(',')\n",
    "    nm, ps1, ps2 = vals[0], vals[1], vals[2]\n",
    "    if ps2 != \"\":\n",
    "        printable = output(nm, ps1, ps2)\n",
    "    else:\n",
    "        printable = output_ps1_only(nm, ps1)        \n",
    "    print(printable)"
   ]
  },
  {
   "cell_type": "markdown",
   "metadata": {},
   "source": [
    "6. Let's make the code a little simpler by having just one function, `output`, that we can use whether PS2 is present or absent. It will have a default value of 0 for PS2 when it is missing. \n",
    "\n",
    "Modify the function `output` so that the code below will work, producing the same results as we got above using `output` and `output_ps1_only`. "
   ]
  },
  {
   "cell_type": "code",
   "execution_count": null,
   "metadata": {},
   "outputs": [],
   "source": [
    "# Q6\n",
    "# Fix this function definition:\n",
    "def output(student, PS1, PS2):\n",
    "    return \"{} got {} in PS1 and {} in PS2.\".format(\n",
    "            student, PS1, PS2)\n",
    "\n",
    "# The code provided for iterating through the rows of the data:\n",
    "for row in lines[1:]:\n",
    "    vals = row.strip().split(',')\n",
    "    nm, ps1, ps2 = vals[0], vals[1], vals[2]\n",
    "    if ps2 != \"\":\n",
    "        printable = output(nm, ps1, ps2)\n",
    "    else:\n",
    "        printable = output(nm, ps1)        \n",
    "    print(printable)"
   ]
  },
  {
   "cell_type": "markdown",
   "metadata": {},
   "source": [
    "7. Instead of the default value 0, use the `input` function to get a default value to use for PS2, when it is missing."
   ]
  },
  {
   "cell_type": "code",
   "execution_count": null,
   "metadata": {},
   "outputs": [],
   "source": [
    "# Get user input for PS2 default value here.\n",
    "\n",
    "# Modify output to use that value\n",
    "def output(student, PS1, PS2=0):\n",
    "    return \"{} got {} in PS1 and {} in PS2.\".format(\n",
    "            student, PS1, PS2)\n",
    "\n",
    "\n",
    "# The code provided for iterating through the rows of the data:\n",
    "for row in lines[1:]:\n",
    "    vals = row.strip().split(',')\n",
    "    nm, ps1, ps2 = vals[0], vals[1], vals[2]\n",
    "    if ps2 != \"\":\n",
    "        printable = output(nm, ps1, ps2)\n",
    "    else:\n",
    "        printable = output(nm, ps1)        \n",
    "    print(printable)"
   ]
  },
  {
   "cell_type": "markdown",
   "metadata": {},
   "source": [
    "8. What would happen if we moved the code to request a default value via `input` to after the definition of the function `output()`? Like this?"
   ]
  },
  {
   "cell_type": "code",
   "execution_count": null,
   "metadata": {},
   "outputs": [],
   "source": [
    "# Modify output to use that value\n",
    "def output(student, PS1, PS2=default_val):\n",
    "    return \"{} got {} in PS1 and {} in PS2.\".format(\n",
    "            student, PS1, PS2)\n",
    "\n",
    "# Get user input for PS2 default value here.\n",
    "default_val = input(\"Please enter a default value to use when PS2 grade is missing\")\n",
    "\n",
    "\n",
    "# The code provided for iterating through the rows of the data:\n",
    "for row in lines[1:]:\n",
    "    vals = row.strip().split(',')\n",
    "    nm, ps1, ps2 = vals[0], vals[1], vals[2]\n",
    "    if ps2 != \"\":\n",
    "        printable = output(nm, ps1, ps2)\n",
    "    else:\n",
    "        printable = output(nm, ps1)        \n",
    "    print(printable)"
   ]
  },
  {
   "cell_type": "markdown",
   "metadata": {},
   "source": [
    "# Keyword Parameters"
   ]
  },
  {
   "cell_type": "markdown",
   "metadata": {},
   "source": [
    "It turns out some of the students are missing a grade for PS1. So we have generalized our code above, to have default value of 0 for both PS1 and PS2."
   ]
  },
  {
   "cell_type": "code",
   "execution_count": null,
   "metadata": {},
   "outputs": [],
   "source": [
    "def output(student, PS1=0, PS2=0):\n",
    "    return \"{} got {} in PS1 and {} in PS2.\".format(\n",
    "            student, PS1, PS2)"
   ]
  },
  {
   "cell_type": "markdown",
   "metadata": {},
   "source": [
    "Predict the outputs of the following before running them. Explain your predictions and, especially, any incorrect predictions."
   ]
  },
  {
   "cell_type": "code",
   "execution_count": null,
   "metadata": {},
   "outputs": [],
   "source": [
    "# 9. \n",
    "print(output(\"StudentName\", PS1 = 20, PS2 = 30))"
   ]
  },
  {
   "cell_type": "code",
   "execution_count": null,
   "metadata": {},
   "outputs": [],
   "source": [
    "# 10.\n",
    "print(output(student= \"StudentName\", PS1 = 20, PS2 = 30))"
   ]
  },
  {
   "cell_type": "code",
   "execution_count": null,
   "metadata": {},
   "outputs": [],
   "source": [
    "# 11.\n",
    "print(output(PS1 = 20, student= \"StudentName\", PS2 = 30))"
   ]
  },
  {
   "cell_type": "code",
   "execution_count": null,
   "metadata": {},
   "outputs": [],
   "source": [
    "# 12.\n",
    "print(output(student= \"StudentName\", PS2 = 30))"
   ]
  },
  {
   "cell_type": "code",
   "execution_count": null,
   "metadata": {},
   "outputs": [],
   "source": [
    "# 13.\n",
    "print(output(20, student= \"StudentName\", PS2 = 30))"
   ]
  },
  {
   "cell_type": "code",
   "execution_count": null,
   "metadata": {},
   "outputs": [],
   "source": [
    "# 14.\n",
    "print(output(PS1 = 20, \"StudentName\", PS2 = 30))"
   ]
  },
  {
   "cell_type": "code",
   "execution_count": null,
   "metadata": {},
   "outputs": [],
   "source": [
    "# 15.\n",
    "print(output(PS1 = 20, nm=\"StudentName\", PS2 = 30))"
   ]
  },
  {
   "cell_type": "markdown",
   "metadata": {},
   "source": [
    "16. Rewrite the following `.format()` statement to use keywords instead of positional passing of values to be interpolated"
   ]
  },
  {
   "cell_type": "code",
   "execution_count": null,
   "metadata": {},
   "outputs": [],
   "source": [
    "names_scores = [(\"Jack\",[67,89,91]),(\"Emily\",[72,95,42]),(\"Taylor\",[83,92,86])]\n",
    "for name, scores in names_scores:\n",
    "    print(\"The scores {} got were: {},{},{}.\".format(\n",
    "        name,scores[0],scores[1],scores[2]))"
   ]
  }
 ],
 "metadata": {
  "kernelspec": {
   "display_name": "Python 3",
   "language": "python",
   "name": "python3"
  },
  "language_info": {
   "codemirror_mode": {
    "name": "ipython",
    "version": 3
   },
   "file_extension": ".py",
   "mimetype": "text/x-python",
   "name": "python",
   "nbconvert_exporter": "python",
   "pygments_lexer": "ipython3",
   "version": "3.7.3"
  }
 },
 "nbformat": 4,
 "nbformat_minor": 4
}
