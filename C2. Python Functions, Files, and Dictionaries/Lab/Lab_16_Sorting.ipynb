{
 "cells": [
  {
   "cell_type": "markdown",
   "metadata": {},
   "source": [
    "## Warmup"
   ]
  },
  {
   "cell_type": "markdown",
   "metadata": {},
   "source": [
    "1. What's the difference between `.sort()` and `sorted()`?\n",
    "2. What's the output of the following code?"
   ]
  },
  {
   "cell_type": "code",
   "execution_count": null,
   "metadata": {},
   "outputs": [],
   "source": [
    "L1 = [\"Cherry\", \"Apple\", \"Blueberry\"]\n",
    "print(sorted(L1, True))"
   ]
  },
  {
   "cell_type": "markdown",
   "metadata": {},
   "source": [
    "3. Modify the code in order to sort `L1` in reversed order"
   ]
  },
  {
   "cell_type": "markdown",
   "metadata": {},
   "source": [
    "## Key parameter"
   ]
  },
  {
   "cell_type": "markdown",
   "metadata": {},
   "source": [
    "4. What does the `key` parameter in `sorted()` do? Why do we use it? How many parameters does it take? Can you use a key function with no return value?"
   ]
  },
  {
   "cell_type": "markdown",
   "metadata": {},
   "source": [
    "5. Each tuple in the following list represents the product name, its price, and its quantity. Sort the list based on the product price from highest to lowest."
   ]
  },
  {
   "cell_type": "code",
   "execution_count": 2,
   "metadata": {},
   "outputs": [],
   "source": [
    "stock = [(\"phone\", \"$410.50\", 20), (\"mug\", \"$10.99\", 100), (\"headphone\", \"$199.99\", 5)]"
   ]
  },
  {
   "cell_type": "markdown",
   "metadata": {},
   "source": [
    "6. Redo question 5 without using the `reverse` parameter. (Hint: think about what could your key function return that would make the smallest number be the largest, etc?)\n",
    "\n",
    "7. Write a function that takes one product tuple as input and computes the total price of the product.\n",
    "\n",
    "8. Sort `stock` based on the total cost of each product (price * quantity), from lowest to highest."
   ]
  },
  {
   "cell_type": "markdown",
   "metadata": {},
   "source": [
    "## Group 2: lambda expressions"
   ]
  },
  {
   "cell_type": "markdown",
   "metadata": {},
   "source": [
    "9. What's a lambda function? What does it do?\n",
    "\n",
    "1. When do we use a lambda function for sorting?\n",
    "\n",
    "1. When do we use a named function for sorting?\n",
    "\n",
    "1. Sort the following dictionary’s keys based on the value from highest to lowest using a lambda function."
   ]
  },
  {
   "cell_type": "code",
   "execution_count": 9,
   "metadata": {},
   "outputs": [],
   "source": [
    "dictionary = {\"Flowers\": 10, 'Trees': 20, 'Chairs': 6, \"Firepit\": 1, 'Grill': 2, 'Lights': 14}"
   ]
  },
  {
   "cell_type": "markdown",
   "metadata": {},
   "source": [
    "13. Would the following code work to sort the keys in reverse order? Why or why not?"
   ]
  },
  {
   "cell_type": "code",
   "execution_count": null,
   "metadata": {},
   "outputs": [],
   "source": [
    "def order_value_v2(key, d):\n",
    "    return -1 * d[key]\n",
    "\n",
    "sorted(dictionary, key = lambda x: order_value_v2(x, dictionary))"
   ]
  },
  {
   "cell_type": "markdown",
   "metadata": {},
   "source": [
    "14. Rewrite your code in Q7-8 in Group 1 using a lambda function."
   ]
  },
  {
   "cell_type": "markdown",
   "metadata": {},
   "source": [
    "## Group 3: breaking ties"
   ]
  },
  {
   "cell_type": "markdown",
   "metadata": {},
   "source": [
    "14. What happens when two items are \"tied\" in the sorted order? How does the `sorted` function decide which order to put them in?\n",
    "\n",
    "15. How can we specify how we want ties to be broken?"
   ]
  },
  {
   "cell_type": "markdown",
   "metadata": {},
   "source": [
    "Given the following code:"
   ]
  },
  {
   "cell_type": "code",
   "execution_count": null,
   "metadata": {},
   "outputs": [],
   "source": [
    "weather = {'Reykjavik': {'temp':60, 'condition': 'rainy'},\n",
    "           'Buenos Aires': {'temp': 55, 'condition': 'cloudy'},\n",
    "           'Cairo': {'temp': 96, 'condition': 'sunny'},\n",
    "           'Berlin': {'temp': 89, 'condition': 'sunny'},\n",
    "           'Caloocan': {'temp': 78, 'condition': 'sunny'}}\n",
    "\n",
    "sorted(weather.items(), key=lambda w: (w[1]['condition'], -w[1]['temp']), reverse=True)"
   ]
  },
  {
   "cell_type": "markdown",
   "metadata": {},
   "source": [
    "16. What's the value of `weather.items()`?\n",
    "17. What's the data type of `w` in the lambda function?\n",
    "18. How will the results be sorted?\n",
    "19. Rewrite the code using a named function instead of a lambda expression.\n",
    "20. What would happen if we use `weather` instead of `weather.items()`? How would you change the key function to make it work?"
   ]
  }
 ],
 "metadata": {
  "kernelspec": {
   "display_name": "Python 3",
   "language": "python",
   "name": "python3"
  },
  "language_info": {
   "codemirror_mode": {
    "name": "ipython",
    "version": 3
   },
   "file_extension": ".py",
   "mimetype": "text/x-python",
   "name": "python",
   "nbconvert_exporter": "python",
   "pygments_lexer": "ipython3",
   "version": "3.7.3"
  }
 },
 "nbformat": 4,
 "nbformat_minor": 4
}
