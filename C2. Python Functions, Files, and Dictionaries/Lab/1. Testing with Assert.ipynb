{
 "cells": [
  {
   "cell_type": "markdown",
   "metadata": {},
   "source": [
    "# Getting Started with Jupyter Notebooks"
   ]
  },
  {
   "cell_type": "markdown",
   "metadata": {},
   "source": [
    "Jupyter notebooks provide another environment where you can execute code. We are using it for the \"lab notebooks\".\n",
    "\n",
    "Jupyter has some things in common with the runestone textbook that you've been using. But some things are different.\n",
    "\n",
    "The first concept you'll need to understand is that each notebook is a sequence of cells. We will use two kinds of cells:\n",
    "- Code\n",
    "- Markdown\n",
    "\n",
    "For example this cell is a *markdown cell*. It is meant for explanations, and has no impact on program execution. You can think of it like a #comment line in a python program. But it allows for nicer formatting. For example, in the raw text that produces what you see here, the bulleted items are lines beginning with a dash (`-`), and that dash was highlighted by enclosing it in backquotes.\n",
    "\n",
    "If you double-click on this cell, or click on it and then press `Enter`, you will see the raw text that produced it. Click on the `Run` button in the ribbon above this cell, or press `Shift + Enter` to turn it back into formatted text.\n",
    "\n",
    "The next cell is a *code cell*. It contains python code. A cell can contain as many lines of code as you want. Running a code cell causes the interpreter to run all the lines of code in the cell. It's similar to running an active code window in the runestone textbook. \n",
    "\n",
    "There is one important difference from active code windows in the runestone textbook. If the last line of code in the cell is an expression, rather than an assignment statement, then the value produced by the expression is shown as the output of the cell, **even if you didn't explicitly make a call to `print()`**. For example, the cell below, when executed, produces an output of 8, even though there is no print statement. Try running the next cell."
   ]
  },
  {
   "cell_type": "code",
   "execution_count": 1,
   "metadata": {},
   "outputs": [
    {
     "data": {
      "text/plain": [
       "8"
      ]
     },
     "execution_count": 1,
     "metadata": {},
     "output_type": "execute_result"
    }
   ],
   "source": [
    "x = 3 + 4\n",
    "x + 1"
   ]
  },
  {
   "cell_type": "markdown",
   "metadata": {},
   "source": [
    "You can also have explicit calls to `print()`. As shown in the cell below this one, if you have print statements in the cell that are executed, the results are printed right below the cell, and before the output of the cell."
   ]
  },
  {
   "cell_type": "code",
   "execution_count": 2,
   "metadata": {},
   "outputs": [
    {
     "name": "stdout",
     "output_type": "stream",
     "text": [
      "9\n",
      "10\n"
     ]
    },
    {
     "data": {
      "text/plain": [
       "11"
      ]
     },
     "execution_count": 2,
     "metadata": {},
     "output_type": "execute_result"
    }
   ],
   "source": [
    "x = 4 + 5\n",
    "print(x)\n",
    "print(x + 1)\n",
    "x + 2"
   ]
  },
  {
   "cell_type": "markdown",
   "metadata": {},
   "source": [
    "Another important feature is that variable bindings are saved between cell executions. For example, if you run the cell immediately below this one, it will find whatever value of x was assigned in a previous cell execution."
   ]
  },
  {
   "cell_type": "code",
   "execution_count": 3,
   "metadata": {},
   "outputs": [
    {
     "data": {
      "text/plain": [
       "19"
      ]
     },
     "execution_count": 3,
     "metadata": {},
     "output_type": "execute_result"
    }
   ],
   "source": [
    "# x is available even though not assigned a value in this cell\n",
    "x + 10"
   ]
  },
  {
   "cell_type": "markdown",
   "metadata": {},
   "source": [
    "Mostly, the sharing of variable bindings between cell runs will make your life a lot easier as you work with jupyter notebooks. \n",
    "\n",
    "Occasionally, it will create massive confusion. In particular, jupyter will permit you to run the cells out of order, or execute a cell more than once. This can lead to surprising results that are hard to replicate, unless you remember the order in which you executed things. jupyter tries to help you by incrementing a counter each time a code cell is run and showing that counter next to the cells'. For example `In [3]` to the left of a cell means that cell was the third one executed. That can help remind you of the order in which cells were executed.\n",
    "\n",
    "If things ever get really confusing, you can keep all the cells but restart the execution process from the beginning. To do that, click on the `Kernel` menu, and select `Restart & Clear Output`. Then you can go through the cells and execute them from top to bottom. Or, you can have them all run from scratch, by selecting `Kernel --> Restart & Run All`."
   ]
  },
  {
   "cell_type": "markdown",
   "metadata": {},
   "source": [
    "# Saving your work\n",
    "Jupyter does autosave frequently as you are working. But you should be sure to do an explicit save before you close the browser. You can do that by clicking on the diskette icon at the left of the ribbon or choose `File --> Save and Checkpoint`."
   ]
  },
  {
   "cell_type": "markdown",
   "metadata": {},
   "source": [
    "# Is the python interpreter different?\n",
    "In jupyter, you are executing a full python interpreter, not the limited one that we have in runestone. You probably won't notice the difference.\n",
    "\n",
    "One difference you will notice is error messages. In runestone, there is a feature that parses the python error messages and presents them in a slightly more user-friendly way. You'll have to get used to the format of python \"stack traces\" in jupyter, like the one below which tells you that there is a problem on line 4, that the variable `z` is undefined."
   ]
  },
  {
   "cell_type": "code",
   "execution_count": 4,
   "metadata": {},
   "outputs": [
    {
     "name": "stdout",
     "output_type": "stream",
     "text": [
      "5\n"
     ]
    },
    {
     "ename": "NameError",
     "evalue": "name 'z' is not defined",
     "output_type": "error",
     "traceback": [
      "\u001b[0;31m---------------------------------------------------------------------------\u001b[0m",
      "\u001b[0;31mNameError\u001b[0m                                 Traceback (most recent call last)",
      "\u001b[0;32m<ipython-input-4-c54638e13ba4>\u001b[0m in \u001b[0;36m<module>\u001b[0;34m\u001b[0m\n\u001b[1;32m      2\u001b[0m \u001b[0my\u001b[0m \u001b[0;34m=\u001b[0m \u001b[0;36m2\u001b[0m\u001b[0;34m\u001b[0m\u001b[0;34m\u001b[0m\u001b[0m\n\u001b[1;32m      3\u001b[0m \u001b[0mprint\u001b[0m\u001b[0;34m(\u001b[0m\u001b[0mx\u001b[0m \u001b[0;34m+\u001b[0m \u001b[0my\u001b[0m\u001b[0;34m)\u001b[0m\u001b[0;34m\u001b[0m\u001b[0;34m\u001b[0m\u001b[0m\n\u001b[0;32m----> 4\u001b[0;31m \u001b[0mprint\u001b[0m\u001b[0;34m(\u001b[0m\u001b[0mx\u001b[0m \u001b[0;34m+\u001b[0m \u001b[0mz\u001b[0m\u001b[0;34m)\u001b[0m\u001b[0;34m\u001b[0m\u001b[0;34m\u001b[0m\u001b[0m\n\u001b[0m\u001b[1;32m      5\u001b[0m \u001b[0mprint\u001b[0m\u001b[0;34m(\u001b[0m\u001b[0;34m\"all done\"\u001b[0m\u001b[0;34m)\u001b[0m\u001b[0;34m\u001b[0m\u001b[0;34m\u001b[0m\u001b[0m\n",
      "\u001b[0;31mNameError\u001b[0m: name 'z' is not defined"
     ]
    }
   ],
   "source": [
    "x = 3\n",
    "y = 2\n",
    "print(x + y)\n",
    "print(x + z)\n",
    "print(\"all done\")"
   ]
  },
  {
   "cell_type": "markdown",
   "metadata": {},
   "source": [
    "# More Help and Features\n",
    "One of the most useful features is to make line numbers visible within each cell. One the \"View\" menu, click on \"Toggle Line Numbers\".\n",
    "\n",
    "If you select `Help --> User Interface Tour`, you will get a tour and explanation of some features.\n",
    "\n",
    "You may also want to learn some of the keyboard shortcuts. See those by clicking on `Help --> Keyboard Shortcuts`. One useful concept for understanding the keyboard shortcuts is that there are two modes. When you have clicked into a cell, you are in *Edit Mode*. If you hit the `Esc` key, you will be in *Command mode*. Different keyboard shortcuts are available in these two modes.\n",
    "\n",
    "For a cheatsheet on markdown formatting, see https://guides.github.com/pdfs/markdown-cheatsheet-online.pdf"
   ]
  },
  {
   "cell_type": "markdown",
   "metadata": {},
   "source": [
    "## Jupyter Notebook Mechanics Exercises"
   ]
  },
  {
   "cell_type": "markdown",
   "metadata": {},
   "source": [
    "Q0. Change the cell above to __h1__ heading.  (Hint: one # instead of two)"
   ]
  },
  {
   "cell_type": "markdown",
   "metadata": {},
   "source": [
    "Q1. What are the two major cell types in Jupyter Notebooks?"
   ]
  },
  {
   "cell_type": "markdown",
   "metadata": {},
   "source": [
    "Q2. What are the differences between them?"
   ]
  },
  {
   "cell_type": "markdown",
   "metadata": {},
   "source": [
    "Q3. What are _Edit_ mode and _Command_ mode? How do you switch between them?"
   ]
  },
  {
   "cell_type": "markdown",
   "metadata": {},
   "source": [
    "Q4. How do you create a new cell below this one?"
   ]
  },
  {
   "cell_type": "markdown",
   "metadata": {},
   "source": [
    "Q5. How can we change the cell type?"
   ]
  },
  {
   "cell_type": "markdown",
   "metadata": {},
   "source": [
    "Q6. How do you execute a cell? Execute the cell below and then move it above this cell, using cut and paste."
   ]
  },
  {
   "cell_type": "code",
   "execution_count": 2,
   "metadata": {
    "collapsed": true,
    "jupyter": {
     "outputs_hidden": true
    }
   },
   "outputs": [
    {
     "data": {
      "text/plain": [
       "6"
      ]
     },
     "execution_count": 2,
     "metadata": {},
     "output_type": "execute_result"
    }
   ],
   "source": [
    "x = 3\n",
    "y = x + 3\n",
    "y"
   ]
  },
  {
   "cell_type": "code",
   "execution_count": 9,
   "metadata": {
    "collapsed": true,
    "jupyter": {
     "outputs_hidden": true
    }
   },
   "outputs": [
    {
     "ename": "SyntaxError",
     "evalue": "invalid syntax (<ipython-input-9-edba2e3d4618>, line 1)",
     "output_type": "error",
     "traceback": [
      "\u001b[1;36m  File \u001b[1;32m\"<ipython-input-9-edba2e3d4618>\"\u001b[1;36m, line \u001b[1;32m1\u001b[0m\n\u001b[1;33m    Q7. What is wrong with this cell? What happens when you execute it? Fix it.\u001b[0m\n\u001b[1;37m                         ^\u001b[0m\n\u001b[1;31mSyntaxError\u001b[0m\u001b[1;31m:\u001b[0m invalid syntax\n"
     ]
    }
   ],
   "source": [
    "Q7. What is wrong with this cell? What happens when you execute it? Fix it."
   ]
  }
 ],
 "metadata": {
  "kernelspec": {
   "display_name": "Python 3 (ipykernel)",
   "language": "python",
   "name": "python3"
  },
  "language_info": {
   "codemirror_mode": {
    "name": "ipython",
    "version": 3
   },
   "file_extension": ".py",
   "mimetype": "text/x-python",
   "name": "python",
   "nbconvert_exporter": "python",
   "pygments_lexer": "ipython3",
   "version": "3.11.6"
  }
 },
 "nbformat": 4,
 "nbformat_minor": 4
}
