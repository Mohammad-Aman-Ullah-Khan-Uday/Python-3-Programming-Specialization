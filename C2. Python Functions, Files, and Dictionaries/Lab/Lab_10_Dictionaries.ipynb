{
 "cells": [
  {
   "cell_type": "markdown",
   "metadata": {},
   "source": [
    "# Dictionaries\n",
    "\n",
    "1. Write code to create an empty dictionary. \n",
    "\n",
    "Given the following dictionary, try to answer the following questions:"
   ]
  },
  {
   "cell_type": "code",
   "execution_count": null,
   "metadata": {},
   "outputs": [],
   "source": [
    "inventory = {\n",
    "    'gold' : 500,\n",
    "    'pouch' : ['flint', 'twine', 'gemstone'],\n",
    "    'backpack' : ['xylophone','dagger', 'bedroll','bread loaf']\n",
    "}"
   ]
  },
  {
   "cell_type": "markdown",
   "metadata": {},
   "source": [
    "2. Write code that will print out 500, the value associated with key gold.\n",
    "3. Write code that will pick out the word ‘twine’ from inside the dictionary, using indexing. (Hint: you’ll have to use [] twice!)\n",
    "4. Add 50 to the number stored under the 'gold' key.\n",
    "5. Add a key to inventory called 'pocket', whose value is a list consisting of the strings 'seashell', 'strange berry', and 'lint'.\n",
    "6. Remove 'dagger' from the list of items stored under the 'backpack' key."
   ]
  },
  {
   "cell_type": "markdown",
   "metadata": {},
   "source": [
    "# More Dictionary Mechanics"
   ]
  },
  {
   "cell_type": "markdown",
   "metadata": {},
   "source": [
    "7. Create a dictionary called `prices`. Put these values in your `prices` dictionary:\n",
    "    \"banana\": 4,\n",
    "    \"apple\": 2,\n",
    "    \"orange\": 1.5,\n",
    "    \"pear\": 3\n",
    "2. Create a dictionary called `stock`, which is the number of items on hand in the store’s inventory. Put these values in your `stock` dictionary:\n",
    "    \"pear\": 15,\n",
    "    \"banana\": 6,\n",
    "    \"apple\": 10,\n",
    "    \"orange\": 32\n",
    "1. For each item in `prices`, print out the key along with its price and stock information. Print the answer in the following format, by using the `.format` method with a string template:\n",
    "```\n",
    "    apple\n",
    "    price: 2\n",
    "    stock: 0\n",
    "    --\n",
    "```"
   ]
  },
  {
   "cell_type": "markdown",
   "metadata": {},
   "source": [
    "# Dictionaries and Aliasing"
   ]
  },
  {
   "cell_type": "code",
   "execution_count": null,
   "metadata": {},
   "outputs": [],
   "source": [
    "opposites = {'up': 'down', 'right': 'wrong', 'true': 'false'}\n",
    "alias = opposites\n",
    "\n",
    "print(alias is opposites)\n",
    "\n",
    "alias['right'] = 'left'\n",
    "print(opposites['right'])"
   ]
  },
  {
   "cell_type": "markdown",
   "metadata": {},
   "source": [
    "10. Draw a reference diagram for the code above\n",
    "2. What will print on line 7? `wrong` or `left`? How does the reference diagram help you answer this question?"
   ]
  },
  {
   "cell_type": "markdown",
   "metadata": {},
   "source": [
    "# Accumulating Multiple Results in a Dictionary"
   ]
  },
  {
   "cell_type": "code",
   "execution_count": null,
   "metadata": {},
   "outputs": [],
   "source": [
    "f = open('scarlet.txt', 'r')\n",
    "txt = f.read()\n",
    "# now txt is one long string containing all the characters\n",
    "# don't worry about exactly how it does that\n",
    "\n",
    "letter_counts = {} # start with an empty dictionary\n",
    "for c in txt:\n",
    "    if c not in letter_counts:\n",
    "        letter_counts[c] = 0\n",
    "    letter_counts[c] = letter_counts[c] + 1\n",
    "\n",
    "print(letter_counts['a'], letter_counts['e'])\n"
   ]
  },
  {
   "cell_type": "markdown",
   "metadata": {},
   "source": [
    "12. Describe what the two values are that will print out on line 12.\n",
    "2. Each time we get to line 8, what will the variable `c` be bound to?\n",
    "3. Describe what lines 8 and 9 do.\n",
    "4. Describe what line 10 does.\n",
    "5. Could we replace line 10 with: `letter_counts[c] += 1`?\n",
    "6. Consider the following potential replacement for lines 8-10. Argue for whether it does the same thing, or whether there are circumstances in which it has a different effect than the current lines 8-10.\n",
    "```\n",
    "  if c not in letter_counts:\n",
    "    letter_counts[c] = 1\n",
    "  else:\n",
    "    letter_counters[c] = letter_counts[c] + 1\n",
    "    ```"
   ]
  },
  {
   "cell_type": "markdown",
   "metadata": {},
   "source": [
    "# Accumulating from a Dictionary"
   ]
  },
  {
   "cell_type": "code",
   "execution_count": null,
   "metadata": {},
   "outputs": [],
   "source": [
    "travel = {\"North America\": 2, \"Europe\": 8, \"South America\": 3, \"Asia\": 4, \"Africa\":1, \"Antarctica\": 0, \"Australia\": 1}"
   ]
  },
  {
   "cell_type": "markdown",
   "metadata": {},
   "source": [
    "18. The dictionary `travel` contains the number of countries within each continent that Jackie has traveled to. Find the total number of countries that Jackie has been to, and save this number to the variable name total."
   ]
  },
  {
   "cell_type": "markdown",
   "metadata": {},
   "source": [
    "# Accumulating the Best Key\n",
    "Working through this skeleton code, from the runestone textbook page"
   ]
  },
  {
   "cell_type": "code",
   "execution_count": null,
   "metadata": {},
   "outputs": [],
   "source": [
    "d = {'a': 194, 'b': 54, 'c':34, 'd': 44, 'e': 312, 'full':31}\n",
    "\n",
    "ks = list(d.keys())\n",
    "# initialize variable best_key_so_far to be the first key in d\n",
    "\n",
    "for k in ks:\n",
    "    # check if the value associated with the current key is\n",
    "    # bigger than the value associated with the best_key_so_far\n",
    "    # if so, save the current key as the best so far\n",
    "\n",
    "print(\"key {} has the highest value, {}.\".format(best_key_so_far, d[best_key_so_far]))\n"
   ]
  },
  {
   "cell_type": "markdown",
   "metadata": {},
   "source": [
    "\n",
    "19. Why should we initialize `best_key_so_far`, the accumulator, to be the first key in `d`? Why not make it be, say 0, or an empty list, or an empty string?\n",
    "2. Why would the accumulator update process described in the comment on lines 7-9 lead us to have the best key at the completion of execution of the for loop?\n",
    "3. Fill in the code for line 5 and line 10."
   ]
  },
  {
   "cell_type": "code",
   "execution_count": null,
   "metadata": {},
   "outputs": [],
   "source": []
  }
 ],
 "metadata": {
  "kernelspec": {
   "display_name": "Python 3",
   "language": "python",
   "name": "python3"
  },
  "language_info": {
   "codemirror_mode": {
    "name": "ipython",
    "version": 3
   },
   "file_extension": ".py",
   "mimetype": "text/x-python",
   "name": "python",
   "nbconvert_exporter": "python",
   "pygments_lexer": "ipython3",
   "version": "3.7.3"
  }
 },
 "nbformat": 4,
 "nbformat_minor": 4
}
