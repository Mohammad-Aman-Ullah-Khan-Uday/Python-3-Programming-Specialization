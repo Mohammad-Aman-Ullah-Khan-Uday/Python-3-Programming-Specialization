{
 "cells": [
  {
   "cell_type": "markdown",
   "id": "47fa3399",
   "metadata": {
    "deletable": false,
    "editable": false,
    "nbgrader": {
     "cell_type": "markdown",
     "checksum": "dc3f57acc7358ae65a51395224071a64",
     "grade": false,
     "grade_id": "cell-7b75e54c6b258f93",
     "locked": true,
     "schema_version": 3,
     "solution": false,
     "task": false
    }
   },
   "source": [
    "# Project - Sentiment Classifier"
   ]
  },
  {
   "cell_type": "markdown",
   "id": "dc25b1b8",
   "metadata": {
    "deletable": false,
    "editable": false,
    "nbgrader": {
     "cell_type": "markdown",
     "checksum": "03294828b4a21779efafdbcf20b9bcc3",
     "grade": false,
     "grade_id": "cell-df06baff69747627",
     "locked": true,
     "schema_version": 3,
     "solution": false,
     "task": false
    }
   },
   "source": [
    "We have provided some synthetic (fake, semi-randomly generated) twitter data in a csv file named project_twitter_data.csv which has the text of a tweet, the number of retweets of that tweet, and the number of replies to that tweet. We have also words that express positive sentiment and negative sentiment, in the files *positive_words.txt* and *negative_words.txt*.\n",
    "\n",
    "Your task is to build a sentiment classifier, which will detect how positive or negative each tweet is. You will create a csv file, which contains columns for the Number of Retweets, Number of Replies, Positive Score (which is how many happy words are in the tweet), Negative Score (which is how many angry words are in the tweet), and the Net Score for each tweet. At the end, you upload the csv file to Excel or Google Sheets, and produce a graph of the Net Score vs Number of Retweets.\n",
    "\n",
    "To start, define a function called `strip_punctuation` which takes one parameter, a string which represents a word, and removes characters considered punctuation from everywhere in the word. (Hint: remember the `.replace()` method for strings.)"
   ]
  },
  {
   "cell_type": "code",
   "execution_count": 33,
   "id": "b5dc0c63",
   "metadata": {
    "deletable": false,
    "nbgrader": {
     "cell_type": "code",
     "checksum": "f148663de387e1b42cb64de369a73a39",
     "grade": false,
     "grade_id": "cell-cea48d207cef0e37",
     "locked": false,
     "schema_version": 3,
     "solution": true,
     "task": false
    },
    "tags": []
   },
   "outputs": [
    {
     "name": "stdout",
     "output_type": "stream",
     "text": [
      "Hello world\n"
     ]
    }
   ],
   "source": [
    "punctuation_chars = [\"'\", '\"', \",\", \".\", \"!\", \":\", \";\", '#', '@']\n",
    "\n",
    "def strip_punctuation(word):\n",
    "    # Remove all punctuation characters from the word\n",
    "    for char in punctuation_chars:\n",
    "        word = word.replace(char, \"\")\n",
    "    return word\n",
    "\n",
    "# Example usage\n",
    "print(strip_punctuation(\"Hello, world!\"))  # Output: Hello world\n"
   ]
  },
  {
   "cell_type": "code",
   "execution_count": null,
   "id": "bef59712",
   "metadata": {
    "deletable": false,
    "editable": false,
    "nbgrader": {
     "cell_type": "code",
     "checksum": "729300ef64bccc2031ac880e27d7c900",
     "grade": true,
     "grade_id": "cell-29f6e035d3cc092a",
     "locked": true,
     "points": 1,
     "schema_version": 3,
     "solution": false,
     "task": false
    }
   },
   "outputs": [],
   "source": []
  },
  {
   "cell_type": "markdown",
   "id": "a56613b9",
   "metadata": {
    "deletable": false,
    "editable": false,
    "nbgrader": {
     "cell_type": "markdown",
     "checksum": "e3a2f52063817e16e6138855027abb2c",
     "grade": false,
     "grade_id": "cell-600ad99a8fd65fe6",
     "locked": true,
     "schema_version": 3,
     "solution": false,
     "task": false
    }
   },
   "source": [
    "Next, define a function called `get_pos` which takes one parameter, a string which represents one or more sentences, and calculates how many words in the string are considered positive words. Use the list, `positive_words` to determine what words will count as positive. The function should return a positive integer - how many occurrences there are of positive words in the text. Note that all of the words in `positive_words` are lower cased, so you’ll need to convert all the words in the input string to lower case as well."
   ]
  },
  {
   "cell_type": "code",
   "execution_count": null,
   "id": "9c9b5204",
   "metadata": {
    "deletable": false,
    "nbgrader": {
     "cell_type": "code",
     "checksum": "f0e348266206b25493ae18e171587a7b",
     "grade": false,
     "grade_id": "cell-624c9c77a7283ba9",
     "locked": false,
     "schema_version": 3,
     "solution": true,
     "task": false
    }
   },
   "outputs": [],
   "source": [
    "# list of positive words to use\n",
    "positive_words = []\n",
    "with open(\"assets/positive_words.txt\") as pos_f:\n",
    "    for lin in pos_f:\n",
    "        if lin[0] != ';' and lin[0] != '\\n':  # ignore comments and empty lines\n",
    "            positive_words.append(lin.strip())\n",
    "\n",
    "def strip_punctuation(word):\n",
    "    punctuation_chars = [\"'\", '\"', \",\", \".\", \"!\", \":\", \";\", '#', '@']\n",
    "    for char in punctuation_chars:\n",
    "        word = word.replace(char, \"\")\n",
    "    return word\n",
    "\n",
    "def get_pos(text):\n",
    "    # Convert text to lower case and split into words\n",
    "    text = text.lower().split()\n",
    "    \n",
    "    # Initialize a counter for positive words\n",
    "    pos_count = 0\n",
    "    \n",
    "    # Check each word, strip punctuation and see if it's in positive_words list\n",
    "    for word in text:\n",
    "        stripped_word = strip_punctuation(word)\n",
    "        if stripped_word in positive_words:\n",
    "            pos_count += 1\n",
    "    \n",
    "    return pos_count\n",
    "\n",
    "# Example usage\n",
    "sample_text = \"I love sunny days, they make me so happy!\"\n",
    "print(get_pos(sample_text))  # Output should be based on positive words in the text\n"
   ]
  },
  {
   "cell_type": "code",
   "execution_count": null,
   "id": "dd289881",
   "metadata": {
    "deletable": false,
    "editable": false,
    "nbgrader": {
     "cell_type": "code",
     "checksum": "255b29417d1d013852d099249018e2b1",
     "grade": true,
     "grade_id": "cell-a6cef1e160c2939d",
     "locked": true,
     "points": 1,
     "schema_version": 3,
     "solution": false,
     "task": false
    }
   },
   "outputs": [],
   "source": []
  },
  {
   "cell_type": "markdown",
   "id": "f1078eab",
   "metadata": {
    "deletable": false,
    "editable": false,
    "nbgrader": {
     "cell_type": "markdown",
     "checksum": "24cc900d9c4d85f34f369adaf1004762",
     "grade": false,
     "grade_id": "cell-9d522903d0c7dd51",
     "locked": true,
     "schema_version": 3,
     "solution": false,
     "task": false
    }
   },
   "source": [
    "Next, define a function called `get_neg` which takes one parameter, a string which represents one or more sentences, and calculates how many words in the string are considered negative words. Use the list, `negative_words` to determine what words will count as negative. The function should return a positive integer - how many occurrences there are of negative words in the text. Note that all of the words in negative_words are lower cased, so you’ll need to convert all the words in the input string to lower case as well."
   ]
  },
  {
   "cell_type": "code",
   "execution_count": 34,
   "id": "036031ef",
   "metadata": {
    "deletable": false,
    "nbgrader": {
     "cell_type": "code",
     "checksum": "8acf11ebbaff365528f2007855e01a4d",
     "grade": false,
     "grade_id": "cell-a2e9277dc9471c8e",
     "locked": false,
     "schema_version": 3,
     "solution": true,
     "task": false
    },
    "tags": []
   },
   "outputs": [
    {
     "name": "stdout",
     "output_type": "stream",
     "text": [
      "2\n"
     ]
    }
   ],
   "source": [
    "# list of negative words to use\n",
    "negative_words = []\n",
    "with open(\"assets/negative_words.txt\") as neg_f:\n",
    "    for lin in neg_f:\n",
    "        if lin[0] != ';' and lin[0] != '\\n':  # ignore comments and empty lines\n",
    "            negative_words.append(lin.strip())\n",
    "\n",
    "def strip_punctuation(word):\n",
    "    punctuation_chars = [\"'\", '\"', \",\", \".\", \"!\", \":\", \";\", '#', '@']\n",
    "    for char in punctuation_chars:\n",
    "        word = word.replace(char, \"\")\n",
    "    return word\n",
    "\n",
    "def get_neg(text):\n",
    "    # Convert text to lower case and split into words\n",
    "    text = text.lower().split()\n",
    "    \n",
    "    # Initialize a counter for negative words\n",
    "    neg_count = 0\n",
    "    \n",
    "    # Check each word, strip punctuation and see if it's in negative_words list\n",
    "    for word in text:\n",
    "        stripped_word = strip_punctuation(word)\n",
    "        if stripped_word in negative_words:\n",
    "            neg_count += 1\n",
    "    \n",
    "    return neg_count\n",
    "\n",
    "# Example usage\n",
    "sample_text = \"I hate rainy days, they make me so sad!\"\n",
    "print(get_neg(sample_text))  # Output should be based on negative words in the text\n"
   ]
  },
  {
   "cell_type": "code",
   "execution_count": null,
   "id": "2c272b5c",
   "metadata": {
    "deletable": false,
    "editable": false,
    "nbgrader": {
     "cell_type": "code",
     "checksum": "7b672a9bb7b1752c1fa917ae5f300dd8",
     "grade": true,
     "grade_id": "cell-91e2a65d9c0fe4d7",
     "locked": true,
     "points": 1,
     "schema_version": 3,
     "solution": false,
     "task": false
    }
   },
   "outputs": [],
   "source": []
  },
  {
   "cell_type": "markdown",
   "id": "5a4dffe4",
   "metadata": {
    "deletable": false,
    "editable": false,
    "nbgrader": {
     "cell_type": "markdown",
     "checksum": "192357827475254f0465a680d42ba846",
     "grade": false,
     "grade_id": "cell-5135a50b4b3b0edf",
     "locked": true,
     "schema_version": 3,
     "solution": false,
     "task": false
    }
   },
   "source": [
    "Finally, write code that opens the file project_twitter_data.csv which has the fake generated twitter data (the text of a tweet, the number of retweets of that tweet, and the number of replies to that tweet). Your task is to build a sentiment classifier, which will detect how positive or negative each tweet is. \n",
    "\n",
    "Now, you will write code to create a csv file called `resulting_data.csv`, which contains the Number of Retweets, Number of Replies, Positive Score (which is how many happy words are in the tweet), Negative Score (which is how many angry words are in the tweet), and the Net Score (how positive or negative the text is overall) for each tweet. The file should have those headers in that order. Remember that there is another component to this project. You will upload the csv file to Excel or Google Sheets and produce a graph of the Net Score vs Number of Retweets. Check Coursera for that portion of the assignment, if you’re accessing this textbook from Coursera."
   ]
  },
  {
   "cell_type": "code",
   "execution_count": 35,
   "id": "bc82e334",
   "metadata": {
    "deletable": false,
    "nbgrader": {
     "cell_type": "code",
     "checksum": "30f3cd539a8fd84a28dc494191631f2c",
     "grade": false,
     "grade_id": "cell-7583101c2ea844c1",
     "locked": false,
     "schema_version": 3,
     "solution": true,
     "task": false
    },
    "tags": []
   },
   "outputs": [
    {
     "ename": "FileNotFoundError",
     "evalue": "[Errno 2] No such file or directory: 'project_twitter_data.csv'",
     "output_type": "error",
     "traceback": [
      "\u001b[0;31m---------------------------------------------------------------------------\u001b[0m",
      "\u001b[0;31mFileNotFoundError\u001b[0m                         Traceback (most recent call last)",
      "Cell \u001b[0;32mIn[35], line 12\u001b[0m\n\u001b[1;32m      9\u001b[0m output_file \u001b[38;5;241m=\u001b[39m \u001b[38;5;124m\"\u001b[39m\u001b[38;5;124mresulting_data.csv\u001b[39m\u001b[38;5;124m\"\u001b[39m\n\u001b[1;32m     11\u001b[0m \u001b[38;5;66;03m# Open the input file and read its contents\u001b[39;00m\n\u001b[0;32m---> 12\u001b[0m \u001b[38;5;28;01mwith\u001b[39;00m \u001b[38;5;28;43mopen\u001b[39;49m\u001b[43m(\u001b[49m\u001b[43minput_file\u001b[49m\u001b[43m,\u001b[49m\u001b[43m \u001b[49m\u001b[43mmode\u001b[49m\u001b[38;5;241;43m=\u001b[39;49m\u001b[38;5;124;43m'\u001b[39;49m\u001b[38;5;124;43mr\u001b[39;49m\u001b[38;5;124;43m'\u001b[39;49m\u001b[43m,\u001b[49m\u001b[43m \u001b[49m\u001b[43mencoding\u001b[49m\u001b[38;5;241;43m=\u001b[39;49m\u001b[38;5;124;43m'\u001b[39;49m\u001b[38;5;124;43mutf-8\u001b[39;49m\u001b[38;5;124;43m'\u001b[39;49m\u001b[43m)\u001b[49m \u001b[38;5;28;01mas\u001b[39;00m twitter_data:\n\u001b[1;32m     13\u001b[0m     reader \u001b[38;5;241m=\u001b[39m csv\u001b[38;5;241m.\u001b[39mreader(twitter_data)\n\u001b[1;32m     14\u001b[0m     headers \u001b[38;5;241m=\u001b[39m \u001b[38;5;28mnext\u001b[39m(reader)  \u001b[38;5;66;03m# Skip the header row\u001b[39;00m\n",
      "File \u001b[0;32m/opt/conda/lib/python3.11/site-packages/IPython/core/interactiveshell.py:286\u001b[0m, in \u001b[0;36m_modified_open\u001b[0;34m(file, *args, **kwargs)\u001b[0m\n\u001b[1;32m    279\u001b[0m \u001b[38;5;28;01mif\u001b[39;00m file \u001b[38;5;129;01min\u001b[39;00m {\u001b[38;5;241m0\u001b[39m, \u001b[38;5;241m1\u001b[39m, \u001b[38;5;241m2\u001b[39m}:\n\u001b[1;32m    280\u001b[0m     \u001b[38;5;28;01mraise\u001b[39;00m \u001b[38;5;167;01mValueError\u001b[39;00m(\n\u001b[1;32m    281\u001b[0m         \u001b[38;5;124mf\u001b[39m\u001b[38;5;124m\"\u001b[39m\u001b[38;5;124mIPython won\u001b[39m\u001b[38;5;124m'\u001b[39m\u001b[38;5;124mt let you open fd=\u001b[39m\u001b[38;5;132;01m{\u001b[39;00mfile\u001b[38;5;132;01m}\u001b[39;00m\u001b[38;5;124m by default \u001b[39m\u001b[38;5;124m\"\u001b[39m\n\u001b[1;32m    282\u001b[0m         \u001b[38;5;124m\"\u001b[39m\u001b[38;5;124mas it is likely to crash IPython. If you know what you are doing, \u001b[39m\u001b[38;5;124m\"\u001b[39m\n\u001b[1;32m    283\u001b[0m         \u001b[38;5;124m\"\u001b[39m\u001b[38;5;124myou can use builtins\u001b[39m\u001b[38;5;124m'\u001b[39m\u001b[38;5;124m open.\u001b[39m\u001b[38;5;124m\"\u001b[39m\n\u001b[1;32m    284\u001b[0m     )\n\u001b[0;32m--> 286\u001b[0m \u001b[38;5;28;01mreturn\u001b[39;00m \u001b[43mio_open\u001b[49m\u001b[43m(\u001b[49m\u001b[43mfile\u001b[49m\u001b[43m,\u001b[49m\u001b[43m \u001b[49m\u001b[38;5;241;43m*\u001b[39;49m\u001b[43margs\u001b[49m\u001b[43m,\u001b[49m\u001b[43m \u001b[49m\u001b[38;5;241;43m*\u001b[39;49m\u001b[38;5;241;43m*\u001b[39;49m\u001b[43mkwargs\u001b[49m\u001b[43m)\u001b[49m\n",
      "\u001b[0;31mFileNotFoundError\u001b[0m: [Errno 2] No such file or directory: 'project_twitter_data.csv'"
     ]
    }
   ],
   "source": [
    "import csv\n",
    "\n",
    "# Function to calculate net score\n",
    "def calculate_net_score(pos_score, neg_score):\n",
    "    return pos_score - neg_score\n",
    "\n",
    "# Load the project_twitter_data.csv file\n",
    "input_file = \"project_twitter_data.csv\"\n",
    "output_file = \"resulting_data.csv\"\n",
    "\n",
    "# Open the input file and read its contents\n",
    "with open(input_file, mode='r', encoding='utf-8') as twitter_data:\n",
    "    reader = csv.reader(twitter_data)\n",
    "    headers = next(reader)  # Skip the header row\n",
    "\n",
    "    # Create a new output CSV file to store the results\n",
    "    with open(output_file, mode='w', newline='', encoding='utf-8') as result_file:\n",
    "        writer = csv.writer(result_file)\n",
    "\n",
    "        # Write headers to the output CSV file\n",
    "        writer.writerow([\"Number of Retweets\", \"Number of Replies\", \"Positive Score\", \"Negative Score\", \"Net Score\"])\n",
    "\n",
    "        # Iterate through each row in the input file\n",
    "        for row in reader:\n",
    "            tweet_text = row[0]\n",
    "            retweets = int(row[1])\n",
    "            replies = int(row[2])\n",
    "\n",
    "            # Calculate positive, negative, and net scores\n",
    "            pos_score = get_pos(tweet_text)\n",
    "            neg_score = get_neg(tweet_text)\n",
    "            net_score = calculate_net_score(pos_score, neg_score)\n",
    "\n",
    "            # Write the calculated values to the output CSV file\n",
    "            writer.writerow([retweets, replies, pos_score, neg_score, net_score])\n",
    "\n",
    "print(\"Sentiment analysis complete. Data saved in resulting_data.csv.\")\n"
   ]
  },
  {
   "cell_type": "code",
   "execution_count": null,
   "id": "e1e6ffd2",
   "metadata": {
    "deletable": false,
    "editable": false,
    "nbgrader": {
     "cell_type": "code",
     "checksum": "d31ad96a52360f753bc37e8973816ec2",
     "grade": true,
     "grade_id": "cell-4b67813678943ed1",
     "locked": true,
     "points": 1,
     "schema_version": 3,
     "solution": false,
     "task": false
    }
   },
   "outputs": [],
   "source": []
  }
 ],
 "metadata": {
  "kernelspec": {
   "display_name": "Python 3 (ipykernel)",
   "language": "python",
   "name": "python3"
  },
  "language_info": {
   "codemirror_mode": {
    "name": "ipython",
    "version": 3
   },
   "file_extension": ".py",
   "mimetype": "text/x-python",
   "name": "python",
   "nbconvert_exporter": "python",
   "pygments_lexer": "ipython3",
   "version": "3.9.13"
  }
 },
 "nbformat": 4,
 "nbformat_minor": 5
}
