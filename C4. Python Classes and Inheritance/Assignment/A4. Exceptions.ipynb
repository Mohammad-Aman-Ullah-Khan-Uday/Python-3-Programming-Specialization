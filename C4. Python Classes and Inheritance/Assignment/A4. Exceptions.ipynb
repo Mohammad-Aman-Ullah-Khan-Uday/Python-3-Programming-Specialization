{
 "cells": [
  {
   "cell_type": "markdown",
   "id": "22c67991",
   "metadata": {
    "deletable": false,
    "editable": false,
    "nbgrader": {
     "cell_type": "markdown",
     "checksum": "07c8b8054475ce14e39b88123b60b9cf",
     "grade": false,
     "grade_id": "cell-e588b69471f3d416",
     "locked": true,
     "schema_version": 3,
     "solution": false,
     "task": false
    }
   },
   "source": [
    "# Assignment 3 (part two)\n",
    "\n",
    "### Exceptions"
   ]
  },
  {
   "cell_type": "markdown",
   "id": "23a41a58",
   "metadata": {
    "deletable": false,
    "editable": false,
    "nbgrader": {
     "cell_type": "markdown",
     "checksum": "be242d015f05b87c351144bfe6ec1853",
     "grade": false,
     "grade_id": "cell-3a64308607562980",
     "locked": true,
     "schema_version": 3,
     "solution": false,
     "task": false
    }
   },
   "source": [
    "The code below takes the list of country, `country`, and searches to see if it is in the dictionary `gold` which shows some countries who won gold during the Olympics. However, this code currently does not work. Correctly add try/except clause in the code so that it will correctly populate the list, `country_gold`, with either the number of golds won or the string “Did not get gold”.\n",
    "\n",
    "```python\n",
    "gold = {\"US\":46, \"Fiji\":1, \"Great Britain\":27, \"Cuba\":5, \"Thailand\":2, \"China\":26, \"France\":10}\n",
    "country = [\"Fiji\", \"Chile\", \"Mexico\", \"France\", \"Norway\", \"US\"]\n",
    "country_gold = []\n",
    "\n",
    "for x in country:\n",
    "    country_gold.append(gold[x])\n",
    "    country_gold.append(\"Did not get gold\")\n",
    "```"
   ]
  },
  {
   "cell_type": "code",
   "execution_count": 3,
   "id": "60cbea97",
   "metadata": {
    "deletable": false,
    "nbgrader": {
     "cell_type": "code",
     "checksum": "65ae7677503be88dc7c8f052c8f9a4f6",
     "grade": false,
     "grade_id": "cell-10f0d6e67ec6e0af",
     "locked": false,
     "schema_version": 3,
     "solution": true,
     "task": false
    },
    "tags": []
   },
   "outputs": [
    {
     "name": "stdout",
     "output_type": "stream",
     "text": [
      "[1, 'Did not get gold', 'Did not get gold', 10, 'Did not get gold', 46]\n"
     ]
    }
   ],
   "source": [
    "gold = {\"US\":46, \"Fiji\":1, \"Great Britain\":27, \"Cuba\":5, \"Thailand\":2, \"China\":26, \"France\":10}\n",
    "country = [\"Fiji\", \"Chile\", \"Mexico\", \"France\", \"Norway\", \"US\"]\n",
    "country_gold = []\n",
    "\n",
    "for x in country:\n",
    "    try:\n",
    "        # Try to get the number of golds for the country\n",
    "        gold_count = gold[x]\n",
    "        country_gold.append(gold_count)\n",
    "    except KeyError:\n",
    "        # If the country is not found, append the \"Did not get gold\" message\n",
    "        country_gold.append(\"Did not get gold\")\n",
    "\n",
    "print(country_gold)"
   ]
  },
  {
   "cell_type": "code",
   "execution_count": null,
   "id": "d7f33f45",
   "metadata": {
    "deletable": false,
    "editable": false,
    "nbgrader": {
     "cell_type": "code",
     "checksum": "d2d0bc79ed606f35ce577e0a95f7d0f2",
     "grade": true,
     "grade_id": "cell-6431a7320b0dddfd",
     "locked": true,
     "points": 1,
     "schema_version": 3,
     "solution": false,
     "task": false
    }
   },
   "outputs": [],
   "source": []
  },
  {
   "cell_type": "markdown",
   "id": "38c5972e",
   "metadata": {
    "deletable": false,
    "editable": false,
    "nbgrader": {
     "cell_type": "markdown",
     "checksum": "dc05d8727589df22e192d6798025541a",
     "grade": false,
     "grade_id": "cell-596fc63260ae04c7",
     "locked": true,
     "schema_version": 3,
     "solution": false,
     "task": false
    }
   },
   "source": [
    "Provided is a buggy for loop that tries to accumulate some values out of some dictionaries. Insert a try/except so that the code executes without error and produces the correct total.\n",
    "\n",
    "```python\n",
    "di = [{\"Puppies\": 17, 'Kittens': 9, \"Birds\": 23, 'Fish': 90, \"Hamsters\": 49}, {\"Puppies\": 23, \"Birds\": 29, \"Fish\": 20, \"Mice\": 20, \"Snakes\": 7}, {\"Fish\": 203, \"Hamsters\": 93, \"Snakes\": 25, \"Kittens\": 89}, {\"Birds\": 20, \"Puppies\": 90, \"Snakes\": 21, \"Fish\": 10, \"Kittens\": 67}]\n",
    "\n",
    "total = 0\n",
    "for diction in di:\n",
    "    total = total + diction['Puppies']\n",
    "\n",
    "print(\"Total number of puppies:\", total)\n",
    "```"
   ]
  },
  {
   "cell_type": "code",
   "execution_count": 4,
   "id": "e46a6468",
   "metadata": {
    "deletable": false,
    "nbgrader": {
     "cell_type": "code",
     "checksum": "a495f6c2049af883b93381445132438f",
     "grade": false,
     "grade_id": "cell-b5fbb133e29f2994",
     "locked": false,
     "schema_version": 3,
     "solution": true,
     "task": false
    },
    "tags": []
   },
   "outputs": [
    {
     "name": "stdout",
     "output_type": "stream",
     "text": [
      "Total number of puppies: 130\n"
     ]
    }
   ],
   "source": [
    "di = [{\"Puppies\": 17, 'Kittens': 9, \"Birds\": 23, 'Fish': 90, \"Hamsters\": 49}, \n",
    "      {\"Puppies\": 23, \"Birds\": 29, \"Fish\": 20, \"Mice\": 20, \"Snakes\": 7}, \n",
    "      {\"Fish\": 203, \"Hamsters\": 93, \"Snakes\": 25, \"Kittens\": 89}, \n",
    "      {\"Birds\": 20, \"Puppies\": 90, \"Snakes\": 21, \"Fish\": 10, \"Kittens\": 67}]\n",
    "\n",
    "total = 0\n",
    "\n",
    "for diction in di:\n",
    "    try:\n",
    "        # Try to add the number of puppies from the current dictionary\n",
    "        total += diction['Puppies']\n",
    "    except KeyError:\n",
    "        # If 'Puppies' key is missing, do nothing and move to the next dictionary\n",
    "        pass\n",
    "\n",
    "print(\"Total number of puppies:\", total)"
   ]
  },
  {
   "cell_type": "code",
   "execution_count": null,
   "id": "4683d735",
   "metadata": {
    "deletable": false,
    "editable": false,
    "nbgrader": {
     "cell_type": "code",
     "checksum": "2fd51cb68a7d95d0967407cf71d315b3",
     "grade": true,
     "grade_id": "cell-eda0c6803516876c",
     "locked": true,
     "points": 1,
     "schema_version": 3,
     "solution": false,
     "task": false
    }
   },
   "outputs": [],
   "source": []
  },
  {
   "cell_type": "markdown",
   "id": "e433ae0e",
   "metadata": {
    "deletable": false,
    "editable": false,
    "nbgrader": {
     "cell_type": "markdown",
     "checksum": "57d28afc4d08ba8a62e4622b09524f14",
     "grade": false,
     "grade_id": "cell-debecdee4b8094a0",
     "locked": true,
     "schema_version": 3,
     "solution": false,
     "task": false
    }
   },
   "source": [
    "The list, `numbers`, contains integers. Write code that populates the list `remainders` with the remainder of 36 divided by each number in `numbers`. For example, the first element should be 0, because 36/6 has no remainder. If there is an error, have the string “Error” appear in the `remainders`."
   ]
  },
  {
   "cell_type": "code",
   "execution_count": 5,
   "id": "76068754",
   "metadata": {
    "deletable": false,
    "nbgrader": {
     "cell_type": "code",
     "checksum": "12ac133813bcfe9be630a6deabb44c9f",
     "grade": false,
     "grade_id": "cell-921e1c0365bd0f0c",
     "locked": false,
     "schema_version": 3,
     "solution": true,
     "task": false
    }
   },
   "outputs": [
    {
     "name": "stdout",
     "output_type": "stream",
     "text": [
      "[0, 'Error', 0, 4, 0, 0, 'Error', 0, 36, 'Error', 36, 'Error', 0, 13]\n"
     ]
    }
   ],
   "source": [
    "numbers = [6, 0, 36, 8, 2, 36, 0, 12, 60, 0, 45, 0, 3, 23]\n",
    "\n",
    "remainders = []\n",
    "\n",
    "for number in numbers:\n",
    "    try:\n",
    "        remainder = 36 % number\n",
    "        remainders.append(remainder)\n",
    "    except ZeroDivisionError:\n",
    "        remainders.append(\"Error\")\n",
    "\n",
    "print(remainders)"
   ]
  },
  {
   "cell_type": "code",
   "execution_count": null,
   "id": "e406ac8f",
   "metadata": {
    "deletable": false,
    "editable": false,
    "nbgrader": {
     "cell_type": "code",
     "checksum": "b0c7a798cae54b52c4806b16eb95242c",
     "grade": true,
     "grade_id": "cell-6cbadbae5db8d703",
     "locked": true,
     "points": 1,
     "schema_version": 3,
     "solution": false,
     "task": false
    }
   },
   "outputs": [],
   "source": []
  },
  {
   "cell_type": "markdown",
   "id": "95c981ff",
   "metadata": {
    "deletable": false,
    "editable": false,
    "nbgrader": {
     "cell_type": "markdown",
     "checksum": "82a8d8af17af6606669bd63f31644f7c",
     "grade": false,
     "grade_id": "cell-4de1cdb3d6d42d55",
     "locked": true,
     "schema_version": 3,
     "solution": false,
     "task": false
    }
   },
   "source": [
    "Provided is buggy code, insert a try/except so that the code skips appending whenever there's an error.\n",
    "\n",
    "```python\n",
    "lst = [2,4,10,42,12,0,4,7,21,4,83,8,5,6,8,234,5,6,523,42,34,0,234,1,435,465,56,7,3,43,23]\n",
    "\n",
    "lst_three = []\n",
    "\n",
    "for num in lst:\n",
    "    if 3 % num == 0:\n",
    "        lst_three.append(num)\n",
    "```"
   ]
  },
  {
   "cell_type": "code",
   "execution_count": 6,
   "id": "8d205026",
   "metadata": {
    "deletable": false,
    "nbgrader": {
     "cell_type": "code",
     "checksum": "97d3b0df85cef242df8aa989bf3b00ee",
     "grade": false,
     "grade_id": "cell-631086377f0c8c0a",
     "locked": false,
     "schema_version": 3,
     "solution": true,
     "task": false
    }
   },
   "outputs": [
    {
     "name": "stdout",
     "output_type": "stream",
     "text": [
      "[1, 3]\n"
     ]
    }
   ],
   "source": [
    "lst = [2, 4, 10, 42, 12, 0, 4, 7, 21, 4, 83, 8, 5, 6, 8, 234, 5, 6, 523, 42, 34, 0, 234, 1, 435, 465, 56, 7, 3, 43, 23]\n",
    "\n",
    "lst_three = []\n",
    "\n",
    "for num in lst:\n",
    "    try:\n",
    "        if 3 % num == 0:\n",
    "            lst_three.append(num)\n",
    "    except ZeroDivisionError:\n",
    "        continue\n",
    "\n",
    "print(lst_three)"
   ]
  },
  {
   "cell_type": "code",
   "execution_count": null,
   "id": "5c2d8106",
   "metadata": {
    "deletable": false,
    "editable": false,
    "nbgrader": {
     "cell_type": "code",
     "checksum": "68177897637092d2f552183fa41d2c86",
     "grade": true,
     "grade_id": "cell-1ac539c6600d60bc",
     "locked": true,
     "points": 1,
     "schema_version": 3,
     "solution": false,
     "task": false
    }
   },
   "outputs": [],
   "source": []
  },
  {
   "cell_type": "markdown",
   "id": "ca0c370c",
   "metadata": {
    "deletable": false,
    "editable": false,
    "nbgrader": {
     "cell_type": "markdown",
     "checksum": "168fd85c299c870a623544f49e93ee27",
     "grade": false,
     "grade_id": "cell-526347fabaac83d9",
     "locked": true,
     "schema_version": 3,
     "solution": false,
     "task": false
    }
   },
   "source": [
    "Add a try/except to the following. When the codes does not work in the try, have it append to the list `attempts` the string “Error”.\n",
    "\n",
    "```python\n",
    "full_lst = [\"ab\", 'cde', 'fgh', 'i', 'jkml', 'nop', 'qr', 's', 'tv', 'wxy', 'z']\n",
    "\n",
    "attempts = []\n",
    "\n",
    "for elem in full_lst:\n",
    "    attempts.append(elem[1])\n",
    "```"
   ]
  },
  {
   "cell_type": "code",
   "execution_count": 7,
   "id": "f242859f",
   "metadata": {
    "deletable": false,
    "nbgrader": {
     "cell_type": "code",
     "checksum": "633cf93bb8b32a964064654a77c63a67",
     "grade": false,
     "grade_id": "cell-e5d01bd1b857914e",
     "locked": false,
     "schema_version": 3,
     "solution": true,
     "task": false
    }
   },
   "outputs": [
    {
     "name": "stdout",
     "output_type": "stream",
     "text": [
      "['b', 'd', 'g', 'Error', 'k', 'o', 'r', 'Error', 'v', 'x', 'Error']\n"
     ]
    }
   ],
   "source": [
    "full_lst = [\"ab\", 'cde', 'fgh', 'i', 'jkml', 'nop', 'qr', 's', 'tv', 'wxy', 'z']\n",
    "\n",
    "attempts = []\n",
    "\n",
    "for elem in full_lst:\n",
    "    try:\n",
    "        attempts.append(elem[1])\n",
    "    except IndexError:\n",
    "        attempts.append(\"Error\")\n",
    "\n",
    "print(attempts)"
   ]
  },
  {
   "cell_type": "code",
   "execution_count": null,
   "id": "df125f2d",
   "metadata": {
    "deletable": false,
    "editable": false,
    "nbgrader": {
     "cell_type": "code",
     "checksum": "bc7205399a3206dd84e1c63933bc69db",
     "grade": true,
     "grade_id": "cell-b0c65052e0e252bc",
     "locked": true,
     "points": 1,
     "schema_version": 3,
     "solution": false,
     "task": false
    }
   },
   "outputs": [],
   "source": []
  },
  {
   "cell_type": "markdown",
   "id": "232763c5",
   "metadata": {
    "deletable": false,
    "editable": false,
    "nbgrader": {
     "cell_type": "markdown",
     "checksum": "eb3891cf4b6a8f3019c2fd79b403d6fc",
     "grade": false,
     "grade_id": "cell-c94d17ab587e2233",
     "locked": true,
     "schema_version": 3,
     "solution": false,
     "task": false
    }
   },
   "source": [
    "The following code tries to append the third country of each contintent to the new list `third_countries`. Currently, the code does not work. Add a try/except clause so the code runs without errors, and the string ‘Continent does not have 3 countries’ is appended to `countries` instead of producing an error.\n",
    "\n",
    "```python\n",
    "continents = [['Spain', 'France', 'Greece', 'Portugal', 'Romania', 'Germany'], ['USA', 'Mexico', 'Canada'], ['Japan', 'China', 'Korea', 'Vietnam', 'Cambodia'], ['Argentina', 'Chile', 'Brazil', 'Ecuador', 'Uruguay', 'Venezuela'], ['Australia'], ['Zimbabwe', 'Morocco', 'Kenya', 'Ethiopa', 'South Africa'], ['Antarctica']]\n",
    "\n",
    "third_countries = []\n",
    "\n",
    "for c in continents:\n",
    "    third_countries.append(c[2])\n",
    "```"
   ]
  },
  {
   "cell_type": "code",
   "execution_count": 8,
   "id": "b50de589",
   "metadata": {
    "deletable": false,
    "nbgrader": {
     "cell_type": "code",
     "checksum": "8dc352754a2a1245116b67b5dd0f120a",
     "grade": false,
     "grade_id": "cell-22a770f55db0fa57",
     "locked": false,
     "schema_version": 3,
     "solution": true,
     "task": false
    }
   },
   "outputs": [
    {
     "name": "stdout",
     "output_type": "stream",
     "text": [
      "['Greece', 'Canada', 'Korea', 'Brazil', 'Continent does not have 3 countries', 'Kenya', 'Continent does not have 3 countries']\n"
     ]
    }
   ],
   "source": [
    "continents = [['Spain', 'France', 'Greece', 'Portugal', 'Romania', 'Germany'],\n",
    "              ['USA', 'Mexico', 'Canada'],\n",
    "              ['Japan', 'China', 'Korea', 'Vietnam', 'Cambodia'],\n",
    "              ['Argentina', 'Chile', 'Brazil', 'Ecuador', 'Uruguay', 'Venezuela'],\n",
    "              ['Australia'],\n",
    "              ['Zimbabwe', 'Morocco', 'Kenya', 'Ethiopa', 'South Africa'],\n",
    "              ['Antarctica']]\n",
    "\n",
    "third_countries = []\n",
    "\n",
    "for c in continents:\n",
    "    try:\n",
    "        third_countries.append(c[2])\n",
    "    except IndexError:\n",
    "        third_countries.append(\"Continent does not have 3 countries\")\n",
    "\n",
    "print(third_countries)"
   ]
  },
  {
   "cell_type": "code",
   "execution_count": null,
   "id": "5bff3e73",
   "metadata": {
    "deletable": false,
    "editable": false,
    "nbgrader": {
     "cell_type": "code",
     "checksum": "0130aa9f221cf050a1f042d603d474a4",
     "grade": true,
     "grade_id": "cell-854ce94e2c89c38f",
     "locked": true,
     "points": 1,
     "schema_version": 3,
     "solution": false,
     "task": false
    }
   },
   "outputs": [],
   "source": []
  },
  {
   "cell_type": "markdown",
   "id": "87cd6ecb",
   "metadata": {
    "deletable": false,
    "editable": false,
    "nbgrader": {
     "cell_type": "markdown",
     "checksum": "ed40e10e2dc66a5069955afbbfd8a467",
     "grade": false,
     "grade_id": "cell-26eb26a4300a5bfd",
     "locked": true,
     "schema_version": 3,
     "solution": false,
     "task": false
    }
   },
   "source": [
    "The buggy code below prints out how many people play each sport in the list `sports`. Use try/except so that the code will run properly. If the sport is not in the dictionary, `ppl_play`, add it in with the value of 1.\n",
    "\n",
    "```python\n",
    "sports = [\"hockey\", \"basketball\", \"soccer\", \"tennis\", \"football\", \"baseball\"]\n",
    "\n",
    "ppl_play = {\"hockey\":4, \"soccer\": 10, \"football\": 15, \"tennis\": 8}\n",
    "\n",
    "for x in sports:\n",
    "\n",
    "     print(ppl_play[x])\n",
    "\n",
    "```"
   ]
  },
  {
   "cell_type": "code",
   "execution_count": 9,
   "id": "9f56164d",
   "metadata": {
    "deletable": false,
    "nbgrader": {
     "cell_type": "code",
     "checksum": "2662469abbfda8965e28cdd4ee7b23a3",
     "grade": false,
     "grade_id": "cell-0c2f1c26d4e21c59",
     "locked": false,
     "schema_version": 3,
     "solution": true,
     "task": false
    }
   },
   "outputs": [
    {
     "name": "stdout",
     "output_type": "stream",
     "text": [
      "4\n",
      "1\n",
      "10\n",
      "8\n",
      "15\n",
      "1\n"
     ]
    }
   ],
   "source": [
    "sports = [\"hockey\", \"basketball\", \"soccer\", \"tennis\", \"football\", \"baseball\"]\n",
    "\n",
    "ppl_play = {\"hockey\": 4, \"soccer\": 10, \"football\": 15, \"tennis\": 8}\n",
    "\n",
    "for sport in sports:\n",
    "    try:\n",
    "        print(ppl_play[sport])\n",
    "    except KeyError:\n",
    "        ppl_play[sport] = 1\n",
    "        print(ppl_play[sport])"
   ]
  },
  {
   "cell_type": "code",
   "execution_count": null,
   "id": "9e215fb0",
   "metadata": {
    "deletable": false,
    "editable": false,
    "nbgrader": {
     "cell_type": "code",
     "checksum": "06b2daf705d26fc6ec8e4c6ff7fe827a",
     "grade": true,
     "grade_id": "cell-d2dc085dc137850e",
     "locked": true,
     "points": 1,
     "schema_version": 3,
     "solution": false,
     "task": false
    }
   },
   "outputs": [],
   "source": []
  },
  {
   "cell_type": "markdown",
   "id": "e2660356",
   "metadata": {
    "deletable": false,
    "editable": false,
    "nbgrader": {
     "cell_type": "markdown",
     "checksum": "1c1399a0919883f44650c03d493eaaf8",
     "grade": false,
     "grade_id": "cell-6bbb2feaf680c7a3",
     "locked": true,
     "schema_version": 3,
     "solution": false,
     "task": false
    }
   },
   "source": [
    "Provided is a buggy for loop that tries to accumulate some values out of some dictionaries. Insert a try/except so that the code passes. If the key is not in a dictionary, initialize it in the dictionary and set the value to zero.\n",
    "\n",
    "```python\n",
    "\n",
    "dictionaries = [{\"Puppies\": 17, 'Kittens': 9, \"Birds\": 23, 'Fish': 90, \"Hamsters\": 49}, {\"Puppies\": 23, \"Birds\": 29, \"Fish\": 20, \"Mice\": 20, \"Snakes\": 7}, {\"Fish\": 203, \"Hamsters\": 93, \"Snakes\": 25, \"Kittens\": 89}, {\"Birds\": 20, \"Puppies\": 90, \"Snakes\": 21, \"Fish\": 10, \"Kittens\": 67}]\n",
    "total = 0\n",
    "for diction in dictionaries:\n",
    "    total = total + diction['Puppies']\n",
    "\n",
    "print(\"Total number of puppies:\", total)\n",
    "```"
   ]
  },
  {
   "cell_type": "code",
   "execution_count": 10,
   "id": "5b7d345f",
   "metadata": {
    "deletable": false,
    "nbgrader": {
     "cell_type": "code",
     "checksum": "3a663a35563377fe504c05b319702e01",
     "grade": false,
     "grade_id": "cell-ec878835f0df294c",
     "locked": false,
     "schema_version": 3,
     "solution": true,
     "task": false
    }
   },
   "outputs": [
    {
     "name": "stdout",
     "output_type": "stream",
     "text": [
      "Total number of puppies: 130\n"
     ]
    }
   ],
   "source": [
    "dictionaries = [{\"Puppies\": 17, 'Kittens': 9, \"Birds\": 23, 'Fish': 90, \"Hamsters\": 49},\n",
    "                {\"Puppies\": 23, \"Birds\": 29, \"Fish\": 20, \"Mice\": 20, \"Snakes\": 7},\n",
    "                {\"Fish\": 203, \"Hamsters\": 93, \"Snakes\": 25, \"Kittens\": 89},\n",
    "                {\"Birds\": 20, \"Puppies\": 90, \"Snakes\": 21, \"Fish\": 10, \"Kittens\": 67}]\n",
    "\n",
    "total = 0\n",
    "\n",
    "for diction in dictionaries:\n",
    "    try:\n",
    "        total += diction['Puppies']\n",
    "    except KeyError:\n",
    "        diction['Puppies'] = 0\n",
    "        total += diction['Puppies']\n",
    "\n",
    "print(\"Total number of puppies:\", total)"
   ]
  },
  {
   "cell_type": "code",
   "execution_count": null,
   "id": "a5d442d9",
   "metadata": {
    "deletable": false,
    "editable": false,
    "nbgrader": {
     "cell_type": "code",
     "checksum": "85a166cba4e2c74bf0a03549d101fb10",
     "grade": true,
     "grade_id": "cell-02d415dd972e89a1",
     "locked": true,
     "points": 1,
     "schema_version": 3,
     "solution": false,
     "task": false
    }
   },
   "outputs": [],
   "source": []
  }
 ],
 "metadata": {
  "kernelspec": {
   "display_name": "Python 3 (ipykernel)",
   "language": "python",
   "name": "python3"
  },
  "language_info": {
   "codemirror_mode": {
    "name": "ipython",
    "version": 3
   },
   "file_extension": ".py",
   "mimetype": "text/x-python",
   "name": "python",
   "nbconvert_exporter": "python",
   "pygments_lexer": "ipython3",
   "version": "3.11.6"
  }
 },
 "nbformat": 4,
 "nbformat_minor": 5
}
