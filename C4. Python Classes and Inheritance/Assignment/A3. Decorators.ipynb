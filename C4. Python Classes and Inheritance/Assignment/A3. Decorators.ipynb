{
 "cells": [
  {
   "cell_type": "markdown",
   "id": "32b37abe-1d92-44da-91c6-c7df1d237811",
   "metadata": {
    "deletable": false,
    "editable": false,
    "nbgrader": {
     "cell_type": "markdown",
     "checksum": "9ba25f45a140c9a3a791827cc54c7196",
     "grade": false,
     "grade_id": "cell-3590767611fd1fdf",
     "locked": true,
     "schema_version": 3,
     "solution": false,
     "task": false
    }
   },
   "source": [
    "# Assignment 3 (part one)\n",
    "\n",
    "### Decorators"
   ]
  },
  {
   "cell_type": "markdown",
   "id": "a336b9f4-37be-4d65-acc3-be56a36444f6",
   "metadata": {
    "deletable": false,
    "editable": false,
    "nbgrader": {
     "cell_type": "markdown",
     "checksum": "aaf550585964f94119508ddd18dcd621",
     "grade": false,
     "grade_id": "cell-76e81047d6fb63b8",
     "locked": true,
     "schema_version": 3,
     "solution": false,
     "task": false
    }
   },
   "source": [
    "Let's create a Python decorator function named `performance`. This decorator is designed to measure the execution time of other functions. Here's how it should work:\n",
    "\n",
    "- **Input:** The `performance` decorator accepts a single function as its argument.\n",
    "- **Wrapped Function**: The `performance` decorator should return a modified (\"wrapped\") version of the input function that:\n",
    "    1. Records the *start* time before running the wrapped function\n",
    "    2. Executes the wrapped function and stores its resturn value\n",
    "    3. Records the *end* time after running the wrapped function\n",
    "    4. Calculates the elapsed time (end time - start time)\n",
    "- **Return Value:** The wrapped function should return a **tuple** with:\n",
    "    1. The elapsed time (in seconds) taken to execute the wrapped function\n",
    "    2. The wrapped function's return value\n",
    " \n",
    "The `time` module has a function named `perf_counter` for measuring how long it takes to run something. For example:\n",
    "\n",
    "```python\n",
    "import time\n",
    "\n",
    "start_time = time.perf_counter()     # \"Start\" timer\n",
    "time.sleep(1)                        # Wait one second\n",
    "end_time = time.perf_counter()       # \"Stop\" timer\n",
    "elapsed_time = end_time - start_time # should be *slightly* more than 1\n",
    "\n",
    "print(elapsed_time) # 1.0045422080000037 (approximately)\n",
    "```\n",
    "\n",
    "Define a decorator named `performance` that wraps a function to return a **tuple** with (1) the original return value of the function and (2) the amount of time that it took. For example, we should be able to write:\n",
    "\n",
    "```python\n",
    "@performance\n",
    "def add(a, b):\n",
    "    return a + b\n",
    "\n",
    "sum_result, time_taken = add(1, 2) # sum_result == 3, time_taken ~= 0\n",
    "```\n",
    "\n",
    "\n",
    "*Hint: to create a decorator named `fake_performance` that returns a tuple with the function call result and a string, we could do the following:*\n",
    "\n",
    "```python\n",
    "import functools\n",
    "\n",
    "def fake_performance(func):\n",
    "    @functools.wraps(func)\n",
    "    def wrapper(*args, **kwargs):\n",
    "        result = func(*args, **kwargs)\n",
    "        return result, \"PUT THE ELAPSED TIME HERE AS A NUMBER\"\n",
    "    return wrapper\n",
    "```"
   ]
  },
  {
   "cell_type": "code",
   "execution_count": 1,
   "id": "656ec7d8-b0fd-4369-8860-224e6a5262f0",
   "metadata": {
    "deletable": false,
    "nbgrader": {
     "cell_type": "code",
     "checksum": "1a2989ac0cdd8db304cd28287e849907",
     "grade": false,
     "grade_id": "cell-a477f05ad59f689b",
     "locked": false,
     "schema_version": 3,
     "solution": true,
     "task": false
    },
    "tags": []
   },
   "outputs": [
    {
     "name": "stdout",
     "output_type": "stream",
     "text": [
      "Result: 3, Time taken: 0.000001 seconds\n"
     ]
    }
   ],
   "source": [
    "import time\n",
    "import functools\n",
    "\n",
    "def performance(func):\n",
    "    @functools.wraps(func)\n",
    "    def wrapper(*args, **kwargs):\n",
    "        # Record the start time\n",
    "        start_time = time.perf_counter()\n",
    "        \n",
    "        # Execute the wrapped function and store its return value\n",
    "        result = func(*args, **kwargs)\n",
    "        \n",
    "        # Record the end time\n",
    "        end_time = time.perf_counter()\n",
    "        \n",
    "        # Calculate the elapsed time\n",
    "        elapsed_time = end_time - start_time\n",
    "        \n",
    "        # Return a tuple with the elapsed time and the function's result\n",
    "        return result, elapsed_time\n",
    "    \n",
    "    return wrapper\n",
    "\n",
    "# Example usage\n",
    "@performance\n",
    "def add(a, b):\n",
    "    return a + b\n",
    "\n",
    "# Call the decorated function\n",
    "sum_result, time_taken = add(1, 2)\n",
    "print(f\"Result: {sum_result}, Time taken: {time_taken:.6f} seconds\")\n"
   ]
  },
  {
   "cell_type": "code",
   "execution_count": null,
   "id": "29436ad7-db05-463c-8f12-bac4d9c6f01e",
   "metadata": {
    "deletable": false,
    "editable": false,
    "nbgrader": {
     "cell_type": "code",
     "checksum": "ff4d7633797e79bf52c3d0e6e934ece1",
     "grade": true,
     "grade_id": "cell-93ae55572db62abc",
     "locked": true,
     "points": 1,
     "schema_version": 3,
     "solution": false,
     "task": false
    }
   },
   "outputs": [],
   "source": []
  }
 ],
 "metadata": {
  "kernelspec": {
   "display_name": "Python 3 (ipykernel)",
   "language": "python",
   "name": "python3"
  },
  "language_info": {
   "codemirror_mode": {
    "name": "ipython",
    "version": 3
   },
   "file_extension": ".py",
   "mimetype": "text/x-python",
   "name": "python",
   "nbconvert_exporter": "python",
   "pygments_lexer": "ipython3",
   "version": "3.11.6"
  }
 },
 "nbformat": 4,
 "nbformat_minor": 5
}
