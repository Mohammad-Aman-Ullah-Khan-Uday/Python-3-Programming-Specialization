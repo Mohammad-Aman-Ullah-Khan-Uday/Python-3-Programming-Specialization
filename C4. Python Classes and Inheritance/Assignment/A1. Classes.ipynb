{
 "cells": [
  {
   "cell_type": "markdown",
   "id": "bc89ad12",
   "metadata": {
    "deletable": false,
    "editable": false,
    "nbgrader": {
     "cell_type": "markdown",
     "checksum": "e6d86319bcad3e4fff1f48c7a14ca4ae",
     "grade": false,
     "grade_id": "cell-5f5dbe1cc986bfc0",
     "locked": true,
     "schema_version": 3,
     "solution": false,
     "task": false
    }
   },
   "source": [
    "# Assignment 1\n",
    "\n",
    "Assessment for the Classes lesson"
   ]
  },
  {
   "cell_type": "markdown",
   "id": "3b21ab72",
   "metadata": {
    "deletable": false,
    "editable": false,
    "nbgrader": {
     "cell_type": "markdown",
     "checksum": "ba889c6bfdce5ab480633495694eb130",
     "grade": false,
     "grade_id": "cell-dbc43e51b22a1d68",
     "locked": true,
     "schema_version": 3,
     "solution": false,
     "task": false
    }
   },
   "source": [
    "Define a class called `Bike` whose constructor accepts a string and a float as input, and assigns those inputs respectively to two instance variables, `color` and `price`. Assign to the variable `testOne` an instance of `Bike` whose color is the string **`\"blue\"`** and whose price is the number **`89.99`**. Assign to the variable `testTwo` an instance of `Bike` whose color is **`\"purple\"`** and whose price is **`25.0`**."
   ]
  },
  {
   "cell_type": "code",
   "execution_count": null,
   "id": "72c75d0b",
   "metadata": {
    "deletable": false,
    "nbgrader": {
     "cell_type": "code",
     "checksum": "18c89aac292ea9c2a2c852b07c8b067a",
     "grade": false,
     "grade_id": "cell-ed6012ec55f7b0b9",
     "locked": false,
     "schema_version": 3,
     "solution": true,
     "task": false
    }
   },
   "outputs": [],
   "source": [
    "class Bike:\n",
    "    \n",
    "    def __init__(self, color, price):\n",
    "        self.color = color\n",
    "        self.price = price\n",
    "    \n",
    "testOne = Bike(\"blue\", 89.99)\n",
    "testTwo = Bike(\"purple\", 25.0)"
   ]
  },
  {
   "cell_type": "code",
   "execution_count": null,
   "id": "c554b4be",
   "metadata": {
    "deletable": false,
    "editable": false,
    "nbgrader": {
     "cell_type": "code",
     "checksum": "f99e40df394b4248e7fa45abb28ef226",
     "grade": true,
     "grade_id": "cell-bcb1037e85d5e9bd",
     "locked": true,
     "points": 1,
     "schema_version": 3,
     "solution": false,
     "task": false
    }
   },
   "outputs": [],
   "source": []
  },
  {
   "cell_type": "markdown",
   "id": "da3c986f",
   "metadata": {
    "deletable": false,
    "editable": false,
    "nbgrader": {
     "cell_type": "markdown",
     "checksum": "77922bf52bdd26cd2289c76a3e7cae98",
     "grade": false,
     "grade_id": "cell-f33bcf7f51bcd632",
     "locked": true,
     "schema_version": 3,
     "solution": false,
     "task": false
    }
   },
   "source": [
    "Create a class called `AppleBasket` whose constructor accepts two inputs: (1) a string representing a color, and (2) a number representing a quantity of apples. The constructor should initialize two instance variables: `apple_color` and `apple_quantity`. Write a class method called `increase` that increases the quantity by `1` each time it is invoked. You should also write a `__str__` method for this class that returns a string of the format: `\"A basket of [quantity goes here] [color goes here] apples.\"` e.g. `\"A basket of 4 red apples.\"` or `\"A basket of 50 blue apples.\"` (Writing some test code that creates instances and assigns values to variables may help you solve this problem!)"
   ]
  },
  {
   "cell_type": "code",
   "execution_count": null,
   "id": "6804e4e9",
   "metadata": {
    "deletable": false,
    "nbgrader": {
     "cell_type": "code",
     "checksum": "91b0f71a3c84742b4e4a8e88bc9d8a00",
     "grade": false,
     "grade_id": "cell-80a9dd03d2bd7b98",
     "locked": false,
     "schema_version": 3,
     "solution": true,
     "task": false
    }
   },
   "outputs": [],
   "source": [
    "class AppleBasket:\n",
    "    \n",
    "    def __init__(self, apple_color, apple_quantity):\n",
    "        self.apple_color = apple_color\n",
    "        self.apple_quantity = apple_quantity\n",
    "     \n",
    "    def increase(self):\n",
    "        return self.apple_quantity + 1\n",
    "    \n",
    "    def increase(self):\n",
    "        self.apple_quantity = self.apple_quantity + 1\n",
    "       \n",
    "    def __str__(self):\n",
    "        return \"A basket of {} {} apples.\".format(self.apple_quantity, self.apple_color)\n",
    "    \n",
    "testone = AppleBasket('red', 8)\n",
    "print(testone)\n",
    "testone.increase()\n",
    "print(testone)"
   ]
  },
  {
   "cell_type": "code",
   "execution_count": null,
   "id": "1a833c98",
   "metadata": {
    "deletable": false,
    "editable": false,
    "nbgrader": {
     "cell_type": "code",
     "checksum": "36043601ba29b90d1efa6add38c9a3f7",
     "grade": true,
     "grade_id": "cell-2b27da251c7f0834",
     "locked": true,
     "points": 1,
     "schema_version": 3,
     "solution": false,
     "task": false
    }
   },
   "outputs": [],
   "source": []
  },
  {
   "cell_type": "markdown",
   "id": "ed950961",
   "metadata": {
    "deletable": false,
    "editable": false,
    "nbgrader": {
     "cell_type": "markdown",
     "checksum": "95bc55556ef94048f0c0e636a19bc283",
     "grade": false,
     "grade_id": "cell-1bc35527257fbeba",
     "locked": true,
     "schema_version": 3,
     "solution": false,
     "task": false
    }
   },
   "source": [
    "Define a class called `BankAccount` whose constructor accepts two arguments: (1) the name you want associated with your bank account in a string and (2) an integer that represents the amount of money in the account. The constructor should initialize two instance variables from those inputs: `__name` and `__amt`. Add a string method so that when you print an instance of `BankAccount`, you see `\"Your account, [name goes here], has [amountt goes here] dollars.\"` Create an instance of this class with `\"Bob\"` as the name and `100` as the amount. Save this to the variable `t1`."
   ]
  },
  {
   "cell_type": "code",
   "execution_count": null,
   "id": "f690bcc1",
   "metadata": {
    "deletable": false,
    "nbgrader": {
     "cell_type": "code",
     "checksum": "40cf1d8b1689b22e5720afdef8963ab3",
     "grade": false,
     "grade_id": "cell-c8c30f9fdcb16545",
     "locked": false,
     "schema_version": 3,
     "solution": true,
     "task": false
    }
   },
   "outputs": [],
   "source": [
    "class BankAccount:\n",
    "    \n",
    "    def __init__(self, name, amt):\n",
    "        self.name = name\n",
    "        self.amt = amt\n",
    "        \n",
    "    def __str__(self):\n",
    "        return \"Your account, {}, has {} dollars.\".format(self.name, self.amt)\n",
    "    \n",
    "t1 = BankAccount(\"Bob\", 100)\n",
    "print(t1)"
   ]
  },
  {
   "cell_type": "code",
   "execution_count": null,
   "id": "47326581",
   "metadata": {
    "deletable": false,
    "editable": false,
    "nbgrader": {
     "cell_type": "code",
     "checksum": "1f6259601c0ceac7ecac0e39b35686fc",
     "grade": true,
     "grade_id": "cell-5adf6370d2f2215e",
     "locked": true,
     "points": 1,
     "schema_version": 3,
     "solution": false,
     "task": false
    }
   },
   "outputs": [],
   "source": []
  }
 ],
 "metadata": {
  "kernelspec": {
   "display_name": "Python 3 (ipykernel)",
   "language": "python",
   "name": "python3"
  },
  "language_info": {
   "codemirror_mode": {
    "name": "ipython",
    "version": 3
   },
   "file_extension": ".py",
   "mimetype": "text/x-python",
   "name": "python",
   "nbconvert_exporter": "python",
   "pygments_lexer": "ipython3",
   "version": "3.11.6"
  }
 },
 "nbformat": 4,
 "nbformat_minor": 5
}
