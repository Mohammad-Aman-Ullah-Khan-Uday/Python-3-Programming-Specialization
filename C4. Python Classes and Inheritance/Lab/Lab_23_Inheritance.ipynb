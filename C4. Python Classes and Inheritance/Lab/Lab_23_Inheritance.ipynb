{
 "cells": [
  {
   "cell_type": "markdown",
   "metadata": {},
   "source": [
    "# Group 1"
   ]
  },
  {
   "cell_type": "markdown",
   "metadata": {},
   "source": [
    "1. What attributes can a class inherit from its parent class?"
   ]
  },
  {
   "cell_type": "markdown",
   "metadata": {},
   "source": [
    "2. Suppose `Labrador` is a subclass of `Dog`, which is a subclass of `Pet`. And suppose that variable `fido` is bound to an instance of `Dog`. When the python interpreter encounters the expression `fido.hunger`, in what order will it look to determine the value of the expression? (i.e., reorder the four things below).\n",
    "    - a) look for the value of the class variable `hunger` in the class `Pet`.\n",
    "    - b) look for the value of the class variable `hunger` in the class `Dog`.\n",
    "    - c) look for the value of the class variable `hunger` in the class `Labrador`.\n",
    "    - d) look for the value of the instance variable `hunger` in the instance that `fido` is bound to.\n"
   ]
  },
  {
   "cell_type": "markdown",
   "metadata": {},
   "source": [
    "3. Describe the purpose of class inheritance"
   ]
  },
  {
   "cell_type": "markdown",
   "metadata": {},
   "source": [
    "# Subclasses of Pet\n",
    "We will work through the Tamagotchi code from the textbook to make sure we understand it all."
   ]
  },
  {
   "cell_type": "code",
   "execution_count": null,
   "metadata": {},
   "outputs": [],
   "source": [
    "# This code is the same as we had last week.\n",
    "from random import randrange\n",
    "\n",
    "class Pet():\n",
    "    boredom_decrement = 4\n",
    "    hunger_decrement = 6\n",
    "    boredom_threshold = 5\n",
    "    hunger_threshold = 10\n",
    "    sounds = ['Woof']\n",
    "    def __init__(self, name = \"Kitty\"):\n",
    "        self.name = name\n",
    "        self.hunger = randrange(self.hunger_threshold)\n",
    "        self.boredom = randrange(self.boredom_threshold)\n",
    "        self.sounds = self.sounds[:]\n",
    "\n",
    "    def clock_tick(self):\n",
    "        self.boredom += 1\n",
    "        self.hunger += 1\n",
    "\n",
    "    def mood(self):\n",
    "        if self.hunger <= self.hunger_threshold and \\\n",
    "           self.boredom <= self.boredom_threshold:\n",
    "            return \"happy\"\n",
    "        elif self.hunger > self.hunger_threshold:\n",
    "            return \"hungry\"\n",
    "        else:\n",
    "            return \"bored\"\n",
    "\n",
    "    def __str__(self):\n",
    "        state = \"\\tI'm {} the {}. I feel {}.\".format(self.name, type(self).__name__, self.mood())\n",
    "        return state\n",
    "\n",
    "    def hi(self):\n",
    "        random_sound = self.sounds[randrange(len(self.sounds))]\n",
    "        print('\\t\\t{} says {}'.format(self.name, \n",
    "                                      random_sound))\n",
    "        self.reduce_boredom()\n",
    "\n",
    "    def teach(self, word):\n",
    "        self.sounds.append(word)\n",
    "        self.reduce_boredom()\n",
    "\n",
    "    def feed(self):\n",
    "        self.reduce_hunger()\n",
    "\n",
    "    def reduce_hunger(self):\n",
    "        self.hunger = max(0, self.hunger - self.hunger_decrement)\n",
    "\n",
    "    def reduce_boredom(self):\n",
    "        self.boredom = max(0, self.boredom - self.boredom_decrement)"
   ]
  },
  {
   "cell_type": "markdown",
   "metadata": {},
   "source": [
    "# the Cat subclass\n",
    "4. Explain what the following code does."
   ]
  },
  {
   "cell_type": "code",
   "execution_count": null,
   "metadata": {},
   "outputs": [],
   "source": [
    "class Cat(Pet):\n",
    "    sounds = ['Meow']\n",
    "    def mood(self):\n",
    "        if self.hunger > self.hunger_threshold:\n",
    "            return \"hungry\"\n",
    "        if self.boredom < 2:\n",
    "            return \"grumpy; leave me alone\"\n",
    "        elif self.boredom > self.boredom_threshold:\n",
    "            return \"bored\"\n",
    "        elif randrange(2) == 0:\n",
    "            return \"randomly annoyed\"\n",
    "        else:\n",
    "            return \"happy\""
   ]
  },
  {
   "cell_type": "markdown",
   "metadata": {},
   "source": [
    "# the Bird subclass"
   ]
  },
  {
   "cell_type": "markdown",
   "metadata": {},
   "source": [
    "Explain what the following code does. In particular:\n",
    "5. What does line 4 do?\n",
    "6. What do lines 8 and 9 do?"
   ]
  },
  {
   "cell_type": "code",
   "execution_count": null,
   "metadata": {},
   "outputs": [],
   "source": [
    "class Bird(Pet):\n",
    "    sounds = [\"chirp\"]\n",
    "    def __init__(self, name=\"Kitty\", chirp_number=2):\n",
    "        super().__init__(name)\n",
    "        self.chirp_number = chirp_number\n",
    "\n",
    "    def hi(self):\n",
    "        for i in range(self.chirp_number):\n",
    "            print(self.sounds[randrange(len(self.sounds))])\n",
    "        self.reduce_boredom()"
   ]
  },
  {
   "cell_type": "markdown",
   "metadata": {},
   "source": [
    "7. What will `t.chirp_number` be after the following code executes?"
   ]
  },
  {
   "cell_type": "code",
   "execution_count": null,
   "metadata": {},
   "outputs": [],
   "source": [
    "t = Bird(\"tweety\")\n",
    "print(t.chirp_number)"
   ]
  },
  {
   "cell_type": "markdown",
   "metadata": {},
   "source": [
    "8. will this be a runtime ERROR?"
   ]
  },
  {
   "cell_type": "code",
   "execution_count": null,
   "metadata": {},
   "outputs": [],
   "source": [
    "print(t.hunger)"
   ]
  },
  {
   "cell_type": "markdown",
   "metadata": {},
   "source": [
    "9. What will print out?"
   ]
  },
  {
   "cell_type": "code",
   "execution_count": null,
   "metadata": {
    "scrolled": true
   },
   "outputs": [],
   "source": [
    "t.hi()"
   ]
  },
  {
   "cell_type": "markdown",
   "metadata": {},
   "source": [
    "10. Will the two sounds the print always be the same as each other?"
   ]
  },
  {
   "cell_type": "code",
   "execution_count": null,
   "metadata": {},
   "outputs": [],
   "source": [
    "t.teach(\"cracker\")\n",
    "t.hi()"
   ]
  },
  {
   "cell_type": "markdown",
   "metadata": {},
   "source": [
    "# Group 4: Dog, Poodle, and Lab"
   ]
  },
  {
   "cell_type": "markdown",
   "metadata": {},
   "source": [
    "11. Explain what the following code does."
   ]
  },
  {
   "cell_type": "code",
   "execution_count": null,
   "metadata": {},
   "outputs": [],
   "source": [
    "class Dog(Pet):\n",
    "    sounds = ['Woof', 'Ruff']\n",
    "    def mood(self):\n",
    "        if (self.hunger > self.hunger_threshold) and \\\n",
    "           (self.boredom > self.boredom_threshold):\n",
    "            return \"bored and hungry\"\n",
    "        elif self.hunger > self.hunger_threshold:\n",
    "            return \"hungry\"\n",
    "        elif self.boredom > self.boredom_threshold:\n",
    "            return \"bored\" \n",
    "        else:\n",
    "            return \"happy\"\n",
    "    def feed(self):\n",
    "        Pet.feed(self)\n",
    "        print(\"Arf! Thanks!\")"
   ]
  },
  {
   "cell_type": "markdown",
   "metadata": {},
   "source": [
    "12. Explain what the following code does."
   ]
  },
  {
   "cell_type": "code",
   "execution_count": null,
   "metadata": {},
   "outputs": [],
   "source": [
    "class Lab(Dog):\n",
    "    def fetch(self):\n",
    "        return \"I found the tennis ball!\"\n",
    "\n",
    "    def hi(self):\n",
    "        print(self.fetch())\n",
    "        print(self.sounds[randrange(len(self.sounds))])"
   ]
  },
  {
   "cell_type": "markdown",
   "metadata": {},
   "source": [
    "13. Explain what the following code does."
   ]
  },
  {
   "cell_type": "code",
   "execution_count": null,
   "metadata": {},
   "outputs": [],
   "source": [
    "class Poodle(Dog):\n",
    "    def dance(self):\n",
    "        return \"Dancin' in circles like poodles do.\"\n",
    "\n",
    "    def hi(self):\n",
    "        print(self.dance())\n",
    "        super().hi()"
   ]
  },
  {
   "cell_type": "markdown",
   "metadata": {},
   "source": [
    "14. Trace through the code below. Will `d.sounds` be `['Woof']` as defined in class Pet? or `['Woof', 'Ruff']` as defined in class Dog, or something else??"
   ]
  },
  {
   "cell_type": "code",
   "execution_count": null,
   "metadata": {},
   "outputs": [],
   "source": [
    "d = Lab(\"Friendly\")\n",
    "d.sounds"
   ]
  },
  {
   "cell_type": "markdown",
   "metadata": {},
   "source": [
    "15. After the following code executes, will \"Friendly\" be bored? How about \"Astro\"?"
   ]
  },
  {
   "cell_type": "code",
   "execution_count": null,
   "metadata": {},
   "outputs": [],
   "source": [
    "d = Lab(\"Friendly\")\n",
    "p = Poodle(\"Astro\")\n",
    "for x in [d, p]:\n",
    "    for _ in range(20):\n",
    "        x.clock_tick()\n",
    "    for _ in range(5):\n",
    "        x.hi()\n",
    "print(d)\n",
    "print(p)"
   ]
  },
  {
   "cell_type": "markdown",
   "metadata": {},
   "source": [
    "# Group 5: the play() function\n",
    "Now we'll work through the code for the revised `play` function. The only change here from last week's code is in the prompt and the handling of the Adopt command, where the user has to specify a type of pet."
   ]
  },
  {
   "cell_type": "code",
   "execution_count": null,
   "metadata": {},
   "outputs": [],
   "source": [
    "pet_types = {'dog': Dog, 'lab': Lab, 'poodle': Poodle, 'cat': Cat, 'bird': Bird}\n",
    "def play():\n",
    "    animals = {}\n",
    "    option = \"\"\n",
    "    base_prompt = \\\n",
    "        \"\"\"Quit\n",
    "        Adopt <petname_with_no_spaces> <pet_type - choose dog, cat, lab, poodle, bird, or another unknown pet type>\n",
    "        Greet <petname>\n",
    "        Teach <petname> <word>\n",
    "        Feed <petname>\n",
    "\n",
    "        Choice: \"\"\"\n",
    "    feedback = \"\"\n",
    "    while True:\n",
    "        print(feedback)\n",
    "        feedback = \"\"\n",
    "        action = input(base_prompt)\n",
    "        words = action.split()\n",
    "        if len(words) > 0:\n",
    "            command = words[0]\n",
    "        else:\n",
    "            command = None\n",
    "        if command == \"Quit\":\n",
    "            print(\"Exiting...\")\n",
    "            return\n",
    "        elif command == \"Adopt\" and len(words) > 1:\n",
    "            name = words[1]\n",
    "            if name in animals:\n",
    "                feedback += \"You already have a pet with that name\\n\"\n",
    "            else:\n",
    "                pet_type_name = words[2].lower().strip()\n",
    "                if pet_type_name in pet_types:\n",
    "                    pet_class = pet_types[pet_type_name]\n",
    "                else:\n",
    "                    pet_class = Pet\n",
    "                animals[name] = pet_class(name)\n",
    "        elif command == \"Greet\" and len(words) > 1:\n",
    "            name = words[1]\n",
    "            if name in animals:\n",
    "                animals[name].hi()\n",
    "            else:\n",
    "                feedback += \"I didn't recognize that pet name. Please try again.\\n\"\n",
    "        elif command == \"Teach\" and len(words) > 2:\n",
    "            name = words[1]\n",
    "            word = words[2]\n",
    "            if name not in animals:\n",
    "                feedback += \"I didn't recognize that pet name. Please try again.\"\n",
    "            else:\n",
    "                pet = animals[name]\n",
    "                pet.teach(word)\n",
    "        elif command == \"Feed\" and len(words) > 1:\n",
    "            name = words[1]\n",
    "            if name in animals:\n",
    "                animals[name].feed()\n",
    "            else:\n",
    "                feedback += \"I didn't recognize that pet name. Please try again.\"\n",
    "        else:\n",
    "            feedback+= \"I didn't understand that. Please try again.\"\n",
    "\n",
    "        for pet in animals.values():\n",
    "            pet.clock_tick()\n",
    "            feedback += \"\\n\" + pet.__str__()"
   ]
  },
  {
   "cell_type": "markdown",
   "metadata": {},
   "source": [
    "16. Suppose the user enters the following command:\n",
    "`Adopt Fluffy poodle`.\n",
    "    - What will be the value of the variable `pet_class` when line 36 executes?\n"
   ]
  },
  {
   "cell_type": "markdown",
   "metadata": {},
   "source": [
    "17. Suppose the user enters the following command:\n",
    "`Adopt Muffy rabbit`.\n",
    "What will be the value of the variable `pet_class` when line 36 executes?"
   ]
  },
  {
   "cell_type": "markdown",
   "metadata": {},
   "source": [
    "19. So, what does line 36 do?"
   ]
  },
  {
   "cell_type": "markdown",
   "metadata": {},
   "source": [
    "# Let's play the game!"
   ]
  },
  {
   "cell_type": "code",
   "execution_count": null,
   "metadata": {},
   "outputs": [],
   "source": [
    "play()"
   ]
  }
 ],
 "metadata": {
  "kernelspec": {
   "display_name": "Python 3 (ipykernel)",
   "language": "python",
   "name": "python3"
  },
  "language_info": {
   "codemirror_mode": {
    "name": "ipython",
    "version": 3
   },
   "file_extension": ".py",
   "mimetype": "text/x-python",
   "name": "python",
   "nbconvert_exporter": "python",
   "pygments_lexer": "ipython3",
   "version": "3.11.6"
  }
 },
 "nbformat": 4,
 "nbformat_minor": 4
}
