{
 "cells": [
  {
   "cell_type": "markdown",
   "id": "1602109f",
   "metadata": {
    "deletable": false,
    "editable": false,
    "nbgrader": {
     "cell_type": "markdown",
     "checksum": "8d37b1b61864418aa69585f91219e4e5",
     "grade": false,
     "grade_id": "cell-870ae08fd78b5843",
     "locked": true,
     "schema_version": 3,
     "solution": false,
     "task": false
    }
   },
   "source": [
    "# Final Project for Course 4 - Wheel of Python"
   ]
  },
  {
   "cell_type": "markdown",
   "id": "064d9fc5",
   "metadata": {
    "deletable": false,
    "editable": false,
    "nbgrader": {
     "cell_type": "markdown",
     "checksum": "caebcce2d3e4b5f2a5c90b0327dbcae6",
     "grade": false,
     "grade_id": "cell-c6a097a39d15c49c",
     "locked": true,
     "schema_version": 3,
     "solution": false,
     "task": false
    }
   },
   "source": [
    "This project will take you through the process of implementing a simplified version of the game **Wheel of Fortune**. Here are the rules of our game:\n",
    "\n",
    "- There are `num_human` human players and `num_computer` computer players.\n",
    "    * Every player has *some* amount of money (\\$0 at the start of the game)\n",
    "    * Every player has a set of prizes (none at the start of the game)\n",
    "    * The goal is to accumulate money and prizes. \n",
    "- In each round of the game, the players try to **guess a phrase**. For example, suppose the phrase is \"Whitney Houston's I Will Always Love You\".\n",
    "    - Players see the category and an obscured version of the phrase where every alphanumeric character in the phrase starts out as hidden (using underscores: ``_``). For example:\n",
    "        - Category: **Artist & Song**\n",
    "        - Phrase: ``_______ _______'_ _ ____ ______ ____ ___``\n",
    "    - Note that case (capitalization) does not matter\n",
    "    - During their turn, a player spins the wheel to determine a prize amount and:\n",
    "        * If the wheel lands on a cash square, players may do one of three actions:\n",
    "            1. **Guess any letter** that hasn't been guessed by typing a letter (a-z)\n",
    "                * Vowels (a, e, i, o, u) cost \\$250 to guess and can't be guessed if the player doesn't have enough money. All other letters are \"free\" to guess\n",
    "                * The player can guess any letter that hasn't been guessed and gets that cash amount for *every time* that letter appears in the phrase\n",
    "                * If there is a prize, the user also gets that prize (in addition to any prizes they already had)\n",
    "                * **Example: The user lands on \\$500 and guesses 'W'**\n",
    "                    * There are three W's in the phrase, so the player wins \\$1500\n",
    "            2. **Guess the complete phrase** by typing a phrase (anything over one character that isn't *'pass'*)\n",
    "                * If they are correct, they win the game\n",
    "                * If they are incorrect, it is the next player's turn\n",
    "            3. **Pass** their turn by entering `'pass'`\n",
    "        - If the wheel lands on **\"lose a turn\"**, the player loses their turn and the game moves on to the next player\n",
    "        - If the wheel lands on **\"bankrupt\"**, the player loses their turn *and* loses their money. However, they keep all of the prizes they have won so far.\n",
    "    - The round continues until the entire phrase is revealed (or one player guesses the complete phrase)\n"
   ]
  },
  {
   "cell_type": "markdown",
   "id": "ff0bbcde",
   "metadata": {},
   "source": [
    "First, let's learn about a few functions and methods that we'll use along the way to do this project. There are no questions to answer in these next few cells. They are just here to introduce or reintroduce you to some functions and methods that you may not be aware of. The cell that starts with \"Part A\" is where you are first asked to complete code.\n",
    "\n",
    "\n",
    "The `time.sleep(s)` function (from the `time` module) delays execution of the next line of code for `s` seconds. You'll find that we can build a little suspense during gameplay with some well-placed delays. The game can also be easier for users to understand if not everything happens instantly.\n"
   ]
  },
  {
   "cell_type": "code",
   "execution_count": 11,
   "id": "e4aaca66",
   "metadata": {
    "deletable": false,
    "editable": false,
    "nbgrader": {
     "cell_type": "code",
     "checksum": "aaa3786466d64aa793c7ce2e4003ec85",
     "grade": false,
     "grade_id": "cell-9d778f2c3638cf24",
     "locked": true,
     "schema_version": 3,
     "solution": false,
     "task": false
    }
   },
   "outputs": [
    {
     "name": "stdout",
     "output_type": "stream",
     "text": [
      "Sleep 2 seconds..\n",
      "Sleep 3 seconds..\n",
      "Sleep 4 seconds..\n",
      "Sleep 5 seconds..\n",
      "Done!\n"
     ]
    }
   ],
   "source": [
    "import time\n",
    "\n",
    "for x in range(2, 6):\n",
    "    print('Sleep {} seconds..'.format(x))\n",
    "    time.sleep(x) # \"Sleep\" for x seconds\n",
    "print('Done!')"
   ]
  },
  {
   "cell_type": "markdown",
   "id": "e61008b0",
   "metadata": {
    "deletable": false,
    "editable": false,
    "nbgrader": {
     "cell_type": "markdown",
     "checksum": "39b763415964a84e0b919176999b04ad",
     "grade": false,
     "grade_id": "cell-0000293f51d8c47d",
     "locked": true,
     "schema_version": 3,
     "solution": false,
     "task": false
    }
   },
   "source": [
    "The `random` module includes several useful methods for generating and using random numbers, including:\n",
    "\n",
    "- `random.randint(min, max)` generates a random number between `min` and `max` (inclusive)<br><br>\n",
    "- `random.choice(L)` selects a random item from the list `L`"
   ]
  },
  {
   "cell_type": "code",
   "execution_count": 12,
   "id": "eaa8e580",
   "metadata": {
    "deletable": false,
    "editable": false,
    "nbgrader": {
     "cell_type": "code",
     "checksum": "edf13d9058cd7311045863a29abb05ee",
     "grade": false,
     "grade_id": "cell-4aa88fd831db2b07",
     "locked": true,
     "schema_version": 3,
     "solution": false,
     "task": false
    }
   },
   "outputs": [
    {
     "name": "stdout",
     "output_type": "stream",
     "text": [
      "Random number between 1 and 10: 6\n",
      "Random letter: G\n"
     ]
    }
   ],
   "source": [
    "import random\n",
    "\n",
    "rand_number = random.randint(1, 10)\n",
    "print('Random number between 1 and 10: {}'.format(rand_number))\n",
    "\n",
    "letters = [letter for letter in 'ABCDEFGHIJKLMNOPQRSTUVWXYZ']\n",
    "rand_letter = random.choice(letters)\n",
    "print('Random letter: {}'.format(rand_letter))"
   ]
  },
  {
   "cell_type": "markdown",
   "id": "fbca5332",
   "metadata": {
    "deletable": false,
    "editable": false,
    "nbgrader": {
     "cell_type": "markdown",
     "checksum": "f7ba255efebbf44bf37f4b4743f36f9c",
     "grade": false,
     "grade_id": "cell-2a88ecbfafc5f7cd",
     "locked": true,
     "schema_version": 3,
     "solution": false,
     "task": false
    }
   },
   "source": [
    "There are also several string methods that we haven’t gone over in detail but will use for this project:\n",
    "\n",
    "- `.upper()` converts a string to uppercase (the opposite is `.lower()`)<br><br>\n",
    "- `.count(s)` counts how many times the string `s` occurs inside of a larger string"
   ]
  },
  {
   "cell_type": "code",
   "execution_count": 13,
   "id": "f41eec90",
   "metadata": {
    "deletable": false,
    "editable": false,
    "nbgrader": {
     "cell_type": "code",
     "checksum": "22ab96b10b0caf14a52cd5899be4a1b6",
     "grade": false,
     "grade_id": "cell-df97c33a7a5ef818",
     "locked": true,
     "schema_version": 3,
     "solution": false,
     "task": false
    }
   },
   "outputs": [
    {
     "name": "stdout",
     "output_type": "stream",
     "text": [
      "HELLO, WORLD! 123\n",
      "hello, world! 123\n",
      "3\n",
      "2\n"
     ]
    }
   ],
   "source": [
    "myString = 'Hello, World! 123'\n",
    "\n",
    "print(myString.upper()) # HELLO, WORLD! 123\n",
    "print(myString.lower()) # hello, world! 123\n",
    "print(myString.count('l')) # 3\n",
    "\n",
    "s = 'python is pythonic'\n",
    "print(s.count('python')) # 2"
   ]
  },
  {
   "cell_type": "markdown",
   "id": "233d9020",
   "metadata": {
    "deletable": false,
    "editable": false,
    "nbgrader": {
     "cell_type": "markdown",
     "checksum": "6eae01b1477bded886aef7af8f46b74d",
     "grade": false,
     "grade_id": "cell-ecfca9eee4516885",
     "locked": true,
     "schema_version": 3,
     "solution": false,
     "task": false
    }
   },
   "source": [
    "We’re going to define a few useful functions for you:\n",
    "\n",
    "- `getNumberBetween(prompt, min, max)` repeatedly asks the user for a number between `min` and `max` with the prompt `prompt`\n",
    "- `spinWheel()` simulates spinning the wheel and returns a dictionary with a random prize\n",
    "- `getRandomCategoryAndPhrase()` returns a tuple with a random category and phrase for players to guess\n",
    "- `obscurePhrase(phrase, guessed)` returns a tuple with a random category and phrase for players to guess\n",
    "\n",
    "Take some time to read their implementations below."
   ]
  },
  {
   "cell_type": "code",
   "execution_count": 14,
   "id": "d154b706",
   "metadata": {
    "deletable": false,
    "editable": false,
    "nbgrader": {
     "cell_type": "code",
     "checksum": "5978ede466b429d4f6981f39d954abc8",
     "grade": false,
     "grade_id": "cell-c898340592b70425",
     "locked": true,
     "schema_version": 3,
     "solution": false,
     "task": false
    }
   },
   "outputs": [
    {
     "name": "stdout",
     "output_type": "stream",
     "text": [
      "getRandomCategoryAndPhrase()\n",
      " -> ('The Sixties', 'SOVIETS ERECT BERLIN WALL')\n",
      "\n",
      "-----\n",
      "\n",
      "obscurePhrase('SOVIETS ERECT BERLIN WALL', ['U', 'X', 'Z', 'N', 'Y', 'S', 'M', 'A', 'V', 'R', 'O', 'Q', 'I'])\n",
      " -> SOVI__S _R___ __R_IN _A__\n",
      "\n",
      "-----\n",
      "\n",
      "showBoard('SOVIETS ERECT BERLIN WALL', 'SOVI__S _R___ __R_IN _A__', ['U','X','Z','N','Y','S','M','A','V','R','O','Q','I'])\n",
      " -> \n",
      "Category: SOVIETS ERECT BERLIN WALL\n",
      "Phrase:   SOVI__S _R___ __R_IN _A__\n",
      "Guessed:  A, I, M, N, O, Q, R, S, U, V, X, Y, Z\n",
      "\n",
      "-----\n",
      "\n",
      "Spinning the wheel 3 times (normally this would just be done once per turn)\n",
      "\n",
      "--\n",
      "\n",
      "spinWheel()\n",
      "{'type': 'cash', 'text': '$950', 'value': 950, 'prize': 'A trip to Ann Arbor!'}\n",
      "\n",
      "--\n",
      "\n",
      "spinWheel()\n",
      "{'type': 'cash', 'text': '$900', 'value': 900, 'prize': False}\n",
      "\n",
      "--\n",
      "\n",
      "spinWheel()\n",
      "{'type': 'bankrupt', 'text': 'Bankrupt', 'prize': False}\n",
      "\n",
      "-----\n",
      "\n",
      "In 2 seconds, will run getNumberBetween('Testing getNumberBetween(). Enter a number between 1 and 10', 1, 10)\n"
     ]
    }
   ],
   "source": [
    "import json\n",
    "import random\n",
    "import time\n",
    "\n",
    "LETTERS = 'ABCDEFGHIJKLMNOPQRSTUVWXYZ'\n",
    "\n",
    "# Repeatedly asks the user for a number between min & max (inclusive)\n",
    "def getNumberBetween(prompt, min, max):\n",
    "    userinp = input(prompt) # ask the first time\n",
    "\n",
    "    while True:\n",
    "        try:\n",
    "            n = int(userinp) # try casting to an integer\n",
    "            if n < min:\n",
    "                errmessage = 'Must be at least {}'.format(min)\n",
    "            elif n > max:\n",
    "                errmessage = 'Must be at most {}'.format(max)\n",
    "            else:\n",
    "                return n\n",
    "        except ValueError: # The user didn't enter a number\n",
    "            errmessage = '{} is not a number.'.format(userinp)\n",
    "\n",
    "        # If we haven't gotten a number yet, add the error message\n",
    "        # and ask again\n",
    "        userinp = input('{}\\n{}'.format(errmessage, prompt))\n",
    "\n",
    "# Spins the wheel of fortune wheel to give a random prize\n",
    "# Examples:\n",
    "#    { \"type\": \"cash\", \"text\": \"$950\", \"value\": 950, \"prize\": \"A trip to Ann Arbor!\" },\n",
    "#    { \"type\": \"bankrupt\", \"text\": \"Bankrupt\", \"prize\": false },\n",
    "#    { \"type\": \"loseturn\", \"text\": \"Lose a turn\", \"prize\": false }\n",
    "def spinWheel():\n",
    "    with open(\"assets/wheel.json\", 'r') as f:\n",
    "        wheel = json.loads(f.read())\n",
    "        return random.choice(wheel)\n",
    "\n",
    "# Returns a category & phrase (as a tuple) to guess\n",
    "# Example:\n",
    "#     (\"Artist & Song\", \"Whitney Houston's I Will Always Love You\")\n",
    "def getRandomCategoryAndPhrase():\n",
    "    with open(\"assets/phrases.json\", 'r') as f:\n",
    "        phrases = json.loads(f.read())\n",
    "\n",
    "        category = random.choice(list(phrases.keys()))\n",
    "        phrase   = random.choice(phrases[category])\n",
    "        return (category, phrase.upper())\n",
    "\n",
    "\n",
    "def obscurePhrase(phrase, guessed):\n",
    "    \"\"\"\n",
    "    Given a phrase and a list of guessed letters, returns an obscured version\n",
    "    Example:\n",
    "        guessed: ['L', 'B', 'E', 'R', 'N', 'P', 'K', 'X', 'Z']\n",
    "        phrase:  \"GLACIER NATIONAL PARK\"\n",
    "        returns> \"_L___ER N____N_L P_RK\"\n",
    "    \"\"\"\n",
    "    rv = ''\n",
    "    for s in phrase:\n",
    "        if (s in LETTERS) and (s not in guessed):\n",
    "            rv = rv+'_'\n",
    "        else:\n",
    "            rv = rv+s\n",
    "    return rv\n",
    "\n",
    "\n",
    "def showBoard(category, obscuredPhrase, guessed):\n",
    "    \"\"\"Returns a string representing the current state of the game\"\"\"\n",
    "    return \"\"\"\n",
    "Category: {}\n",
    "Phrase:   {}\n",
    "Guessed:  {}\"\"\".format(category, obscuredPhrase, ', '.join(sorted(guessed)))\n",
    "\n",
    "category, phrase = getRandomCategoryAndPhrase()\n",
    "\n",
    "guessed = []\n",
    "for x in range(random.randint(10, 20)):\n",
    "    randomLetter = random.choice(LETTERS)\n",
    "    if randomLetter not in guessed:\n",
    "        guessed.append(randomLetter)\n",
    "\n",
    "print(\"getRandomCategoryAndPhrase()\\n -> ('{}', '{}')\".format(category, phrase))\n",
    "\n",
    "print(\"\\n{}\\n\".format(\"-\"*5))\n",
    "\n",
    "print(\"obscurePhrase('{}', [{}])\\n -> {}\".format(phrase, ', '.join([\"'{}'\".format(c) for c in guessed]), obscurePhrase(phrase, guessed)))\n",
    "\n",
    "print(\"\\n{}\\n\".format(\"-\"*5))\n",
    "\n",
    "obscured_phrase = obscurePhrase(phrase, guessed)\n",
    "print(\"showBoard('{}', '{}', [{}])\\n -> {}\".format(phrase, obscured_phrase, ','.join([\"'{}'\".format(c) for c in guessed]), showBoard(phrase, obscured_phrase, guessed)))\n",
    "\n",
    "print(\"\\n{}\\n\".format(\"-\"*5))\n",
    "\n",
    "num_times_to_spin = random.randint(2, 5)\n",
    "print('Spinning the wheel {} times (normally this would just be done once per turn)'.format(num_times_to_spin))\n",
    "\n",
    "for x in range(num_times_to_spin):\n",
    "    print(\"\\n{}\\n\".format(\"-\"*2))\n",
    "    print(\"spinWheel()\")\n",
    "    print(spinWheel())\n",
    "\n",
    "\n",
    "print(\"\\n{}\\n\".format(\"-\"*5))\n",
    "\n",
    "print(\"In 2 seconds, will run getNumberBetween('Testing getNumberBetween(). Enter a number between 1 and 10', 1, 10)\")\n",
    "\n",
    "time.sleep(2)\n",
    "\n",
    "# Uncomment the next line to test getNumberBetween()\n",
    "# print(getNumberBetween('Testing getNumberBetween(). Enter a number between 1 and 10', 1, 10))\n"
   ]
  },
  {
   "cell_type": "markdown",
   "id": "0ec5ce07",
   "metadata": {
    "deletable": false,
    "editable": false,
    "nbgrader": {
     "cell_type": "markdown",
     "checksum": "a3dcca21bb893ae02912e22747e82060",
     "grade": false,
     "grade_id": "cell-fd659adc820c61c0",
     "locked": true,
     "schema_version": 3,
     "solution": false,
     "task": false
    }
   },
   "source": [
    "# Part A: WOFPlayer\n",
    "## YOUR TASKS BEGIN HERE\n",
    "\n",
    "Start by defining a class to represent a Wheel of Fortune player, called `WOFPlayer`. Every instance of `WOFPlayer` has three instance variables:\n",
    "\n",
    "- `.name`: The name of the player (should be passed into the constructor)\n",
    "- `.prizeMoney`: The amount of prize money for this player (an integer, initially `0`)\n",
    "- `.prizes`: The prizes this player has won so far (a list, initially empty)\n",
    "\n",
    "Of these instance variables, only `name` should be passed into the constructor.\n",
    "\n",
    "The class should also have the following methods (note: we will exclude `self` in our descriptions):\n",
    "\n",
    "- `.addMoney(amt)`: increases ``self.prizeMoney`` by `amtt\n",
    "- `.goBankrupt()`: sets `self.prizeMoney` to `0`\n",
    "- `.addPrize(prize)`: appends `prize` to `self.prizes`\n",
    "- `.__str__()`: returns the player’s name and prize money in the following format:\n",
    "    - `Steve ($1800)` (for a player with instance variables `.name == 'Steve'` and `.prizeMoney == 1800`)"
   ]
  },
  {
   "cell_type": "code",
   "execution_count": 15,
   "id": "da007799",
   "metadata": {
    "deletable": false,
    "nbgrader": {
     "cell_type": "code",
     "checksum": "8a4d2686aba814c04b20a55eecb92204",
     "grade": false,
     "grade_id": "cell-25c3eecca3bf5cb0",
     "locked": false,
     "schema_version": 3,
     "solution": true,
     "task": false
    },
    "tags": []
   },
   "outputs": [],
   "source": [
    "class WOFPlayer:\n",
    "    def __init__(self, name):\n",
    "        self.name = name\n",
    "        self.prizeMoney = 0\n",
    "        self.prizes = []\n",
    "\n",
    "    def addMoney(self, amt):\n",
    "        \"\"\"Increases self.prizeMoney by amt.\"\"\"\n",
    "        self.prizeMoney += amt\n",
    "\n",
    "    def goBankrupt(self):\n",
    "        \"\"\"Sets self.prizeMoney to 0.\"\"\"\n",
    "        self.prizeMoney = 0\n",
    "\n",
    "    def addPrize(self, prize):\n",
    "        \"\"\"Appends prize to self.prizes.\"\"\"\n",
    "        self.prizes.append(prize)\n",
    "\n",
    "    def __str__(self):\n",
    "        \"\"\"Returns the player’s name and prize money.\"\"\"\n",
    "        return f\"{self.name} (${self.prizeMoney})\"\n"
   ]
  },
  {
   "cell_type": "code",
   "execution_count": null,
   "id": "a377bd19",
   "metadata": {
    "deletable": false,
    "editable": false,
    "nbgrader": {
     "cell_type": "code",
     "checksum": "0bb63830d17d704c0833634fb086f5c2",
     "grade": true,
     "grade_id": "cell-09c5579af362d263",
     "locked": true,
     "points": 1,
     "schema_version": 3,
     "solution": false,
     "task": false
    }
   },
   "outputs": [],
   "source": []
  },
  {
   "cell_type": "markdown",
   "id": "06995737",
   "metadata": {
    "deletable": false,
    "editable": false,
    "nbgrader": {
     "cell_type": "markdown",
     "checksum": "682b53a95aa3847604c550f1c3d73ce5",
     "grade": false,
     "grade_id": "cell-3c5c0659ebbe068e",
     "locked": true,
     "schema_version": 3,
     "solution": false,
     "task": false
    }
   },
   "source": [
    "# Part B: WOFHumanPlayer\n",
    "\n",
    "Next, you'll define a class named `WOFHumanPlayer`, which should inherit from `WOFPlayer` (part A). Each intance of this class will represent a human player. In addition to having all of the instance variables and methods that `WOFPlayer` has, `WOFHumanPlayer` should have an additional method:\n",
    "\n",
    "- `.getMove(category, obscuredPhrase, guessed)`: asks the user to enter a move (using `input()`) and **returns whatever string they entered**.\n",
    "    - `.getMove()’s` prompt should be:\n",
    "        <pre class=\"alert alert-block alert-info\">\n",
    "        {name} has ${prizeMoney}\n",
    "        \n",
    "        Category: {category}\n",
    "        Phrase:   {obscured_phrase}\n",
    "        Guessed:  {guessed}\n",
    "        \n",
    "        Guess a letter, phrase, or type 'exit' or 'pass':\n",
    "        </pre>\n",
    "        \n",
    "        For example:\n",
    "        <pre class=\"alert alert-block alert-info\">\n",
    "        Steve has $200\n",
    "        \n",
    "        Category: Places\n",
    "        Phrase:   _L___ER N____N_L P_RK\n",
    "        Guessed:  B, E, K, L, N, P, R, X, Z\n",
    "        \n",
    "        Guess a letter, phrase, or type 'exit' or 'pass':\n",
    "        </pre>\n",
    "    \n",
    "    - The user can then enter one of the following:\n",
    "        - `'exit'` to exit the game\n",
    "        - `'pass'` to skip their turn\n",
    "        - a single character to guess that letter\n",
    "        - a complete phrase (a multi-character phrase other than 'exit' or 'pass') to guess that phrase\n",
    "\n",
    "Note that `.getMove()` **does not** need to enforce anything about the user’s input; that will be done via the game logic that we define later."
   ]
  },
  {
   "cell_type": "code",
   "execution_count": 16,
   "id": "23230258",
   "metadata": {
    "deletable": false,
    "nbgrader": {
     "cell_type": "code",
     "checksum": "d1bee27b13d8b0609773b447ae378b17",
     "grade": false,
     "grade_id": "cell-3dd20b64a83fa67d",
     "locked": false,
     "schema_version": 3,
     "solution": true,
     "task": false
    },
    "tags": []
   },
   "outputs": [],
   "source": [
    "class WOFHumanPlayer(WOFPlayer):\n",
    "    def getMove(self, category, obscuredPhrase, guessed):\n",
    "        prompt = f\"\"\"\n",
    "{self.name} has ${self.prizeMoney}\n",
    "  \n",
    "Category: {category}\n",
    "Phrase:   {obscuredPhrase}\n",
    "Guessed:  {', '.join(sorted(guessed))}\n",
    "  \n",
    "Guess a letter, phrase, or type 'exit' or 'pass':\n",
    "\"\"\"\n",
    "        move = input(prompt).strip()\n",
    "        return move\n"
   ]
  },
  {
   "cell_type": "code",
   "execution_count": null,
   "id": "eb7d34d7",
   "metadata": {
    "deletable": false,
    "editable": false,
    "nbgrader": {
     "cell_type": "code",
     "checksum": "a0af23d208ff87020bfcfb6e7b0337c8",
     "grade": true,
     "grade_id": "cell-24cf12f0b4ff56cb",
     "locked": true,
     "points": 1,
     "schema_version": 3,
     "solution": false,
     "task": false
    }
   },
   "outputs": [],
   "source": []
  },
  {
   "cell_type": "markdown",
   "id": "51626ea4",
   "metadata": {
    "deletable": false,
    "editable": false,
    "nbgrader": {
     "cell_type": "markdown",
     "checksum": "3a728d58984a31c1e8288a14d0a7cbf2",
     "grade": false,
     "grade_id": "cell-1f807e7ec9eee6d5",
     "locked": true,
     "schema_version": 3,
     "solution": false,
     "task": false
    }
   },
   "source": [
    "# Part C: WOFComputerPlayer\n",
    "\n",
    "Finally, you'll define a class named `WOFComputerPlayer`, which should inherit from `WOFPlayer` (part A). An instance of this class will represent a computer player.\n",
    "\n",
    "Every computer player will have a `level` instance variable. Players with a higher `level` generally play “better”. There are many ways to implement this. We’ll do the following:\n",
    "\n",
    "- If there aren’t any possible letters to choose (for example: if the last character is a vowel but this player doesn’t have enough money to guess a vowel), the player will `'pass'`.\n",
    "- Otherwise, semi-randomly decide whether to make a “good” move or a “bad” move on a given turn (a higher level should make it more likely for the player to make a “good” move)\n",
    "    - To make a “bad” move, we’ll randomly decide on a possible letter.\n",
    "    - To make a “good” move, we’ll choose a letter according to their overall frequency in the English language.\n",
    "\n",
    "In addition to having all of the instance variables and methods that `WOFPlayer` has, `WOFComputerPlayer` should have:\n",
    "\n",
    "**Class variable**\n",
    "\n",
    "- `.SORTED_FREQUENCIES`: Should be set to `'ZQXJKVBPYGFWMUCLDRHSNIOATE'`, which is a list of English characters sorted from least frequent (`'Z'`) to most frequent (`'E'`). We’ll use this when trying to make a “good” move.\n",
    "\n",
    "**Additional Instance variable**\n",
    "\n",
    "- `.level`: The level of skill for this bot player (should be passed as the second argument into the constructor after `.name`)\n",
    "\n",
    "**Methods**\n",
    "\n",
    "- `.smartCoinFlip()`: This method will help the player decide semi-randomly whether to make a “good” or “bad” move. A higher level should make the player more likely to make a “good” move. Implement this by choosing a random number between `1` and `10` using `random.randint(1, 10)` (see above) and returning `False` if that random number is greater than `self.level`. If the random number is less than or equal to `self.level`, return `True`.\n",
    "- `.getPossibleLetters(guessed)`: **This method should return a list of letters that can be guessed.**\n",
    "    - These should be characters that are in `LETTERS` (`'ABCDEFGHIJKLMNOPQRSTUVWXYZ'`) but not in the `guessed` parameter.\n",
    "    - Additionally, if this player doesn’t have enough prize money to guess a vowel (variable `VOWEL_COST` set to `250`), then vowels (variable `VOWELS` set to `'AEIOU'`) should not be included\n",
    "- `.getMove(category, obscuredPhrase, guessed)`: **Should return a valid move.**\n",
    "    - Use the `.getPossibleLetters(guessed)` method described above.\n",
    "    - If there aren’t any letters that can be guessed (this can happen if the only letters left to guess are vowels and the player doesn’t have enough for vowels), return `'pass'`\n",
    "    - **Use the `.smartCoinFlip()` method to decide whether to make a “good” or a “bad” move**\n",
    "        - If making a “good” move (`.smartCoinFlip()` returns `True`), then return the most frequent (highest index in `.SORTED_FREQUENCIES`) possible character\n",
    "        - If making a “bad” move (`.smartCoinFlip()` returns `False`), then return a random character from the set of possible characters (use `random.choice()`)"
   ]
  },
  {
   "cell_type": "code",
   "execution_count": 17,
   "id": "21a6bf77",
   "metadata": {
    "deletable": false,
    "nbgrader": {
     "cell_type": "code",
     "checksum": "bc4898bdf3dc243e2f1064c283720220",
     "grade": false,
     "grade_id": "cell-a55f734013bea5e8",
     "locked": false,
     "schema_version": 3,
     "solution": true,
     "task": false
    },
    "tags": []
   },
   "outputs": [],
   "source": [
    "import random\n",
    "\n",
    "VOWEL_COST = 250\n",
    "LETTERS = 'ABCDEFGHIJKLMNOPQRSTUVWXYZ'\n",
    "VOWELS = 'AEIOU'\n",
    "\n",
    "class WOFComputerPlayer(WOFPlayer):\n",
    "    SORTED_FREQUENCIES = 'ZQXJKVBPYGFWMUCLDRHSNIOATE'\n",
    "    \n",
    "    def __init__(self, name, level):\n",
    "        super().__init__(name)\n",
    "        self.level = level\n",
    "\n",
    "    def smartCoinFlip(self):\n",
    "        \"\"\"Decides whether to make a good move or a bad move based on skill level.\"\"\"\n",
    "        return random.randint(1, 10) <= self.level\n",
    "\n",
    "    def getPossibleLetters(self, guessed):\n",
    "        \"\"\"Returns a list of possible letters that can be guessed.\"\"\"\n",
    "        possible_letters = [letter for letter in LETTERS if letter not in guessed]\n",
    "        if self.prizeMoney < VOWEL_COST:\n",
    "            possible_letters = [letter for letter in possible_letters if letter not in VOWELS]\n",
    "        return possible_letters\n",
    "\n",
    "    def getMove(self, category, obscuredPhrase, guessed):\n",
    "        \"\"\"Returns a move for the computer player based on its skill level.\"\"\"\n",
    "        possible_letters = self.getPossibleLetters(guessed)\n",
    "        \n",
    "        if not possible_letters:\n",
    "            return 'pass'\n",
    "        \n",
    "        if self.smartCoinFlip():\n",
    "            # Make a good move: choose the most frequent letter\n",
    "            for letter in reversed(self.SORTED_FREQUENCIES):\n",
    "                if letter in possible_letters:\n",
    "                    return letter\n",
    "        else:\n",
    "            # Make a bad move: choose a random letter\n",
    "            return random.choice(possible_letters)"
   ]
  },
  {
   "cell_type": "code",
   "execution_count": null,
   "id": "5e55678e",
   "metadata": {
    "deletable": false,
    "editable": false,
    "nbgrader": {
     "cell_type": "code",
     "checksum": "9570929f7dad40bae6a81d6a3f8ae520",
     "grade": true,
     "grade_id": "cell-901bc921e8a4cc1e",
     "locked": true,
     "points": 1,
     "schema_version": 3,
     "solution": false,
     "task": false
    }
   },
   "outputs": [],
   "source": []
  },
  {
   "cell_type": "markdown",
   "id": "a6c575a4",
   "metadata": {
    "deletable": false,
    "editable": false,
    "nbgrader": {
     "cell_type": "markdown",
     "checksum": "56b479b2f530b75cdec4cc6eaf47ac45",
     "grade": false,
     "grade_id": "cell-c10b7940a4cc0f9e",
     "locked": true,
     "schema_version": 3,
     "solution": false,
     "task": false
    }
   },
   "source": [
    "# Putting it together: Wheel of Python\n",
    "\n",
    "Below is the game logic for the rest of the “Wheel of Python” game. We have implemented most of the game logic. **Start by carefully reading this code and double checking that it all makes sense**.\n",
    "\n",
    "**Note**: As you play, you will need to keep scrolling down to follow the game."
   ]
  },
  {
   "cell_type": "markdown",
   "id": "19fc48d1",
   "metadata": {},
   "source": [
    "#### Set up the game\n",
    "Create the players..."
   ]
  },
  {
   "cell_type": "code",
   "execution_count": null,
   "id": "7ad86532",
   "metadata": {
    "tags": []
   },
   "outputs": [],
   "source": [
    "num_human = getNumberBetween('How many human players?', 0, 10)\n",
    "\n",
    "# Create the human player instances\n",
    "human_players = [WOFHumanPlayer(input('Enter the name for human player #{}'.format(i+1))) for i in range(num_human)]\n",
    "\n",
    "num_computer = getNumberBetween('How many computer players?', 0, 10)\n",
    "\n",
    "# If there are computer players, ask what level they should be\n",
    "if num_computer >= 1:\n",
    "    level = getNumberBetween('What level for the computers? (1-10)', 1, 10)\n",
    "\n",
    "# Create the computer player instances\n",
    "computer_players = [WOFComputerPlayer('Computer {}'.format(i+1), level) for i in range(num_computer)]\n",
    "\n",
    "players = human_players + computer_players\n",
    "\n",
    "if len(players) == 0: # No players, no game :(\n",
    "    print('We need players to play!')\n",
    "    raise Exception('Not enough players')"
   ]
  },
  {
   "cell_type": "code",
   "execution_count": null,
   "id": "a0a6e0d4",
   "metadata": {
    "tags": []
   },
   "outputs": [],
   "source": [
    "def requestPlayerMove(player, category, guessed):\n",
    "    while True: # we're going to keep asking the player for a move until they give a valid one\n",
    "        time.sleep(0.1) # added so that any feedback is printed out before the next prompt\n",
    "\n",
    "        move = player.getMove(category, obscurePhrase(phrase, guessed), guessed)\n",
    "        move = move.upper() # convert whatever the player entered to UPPERCASE\n",
    "        if move == 'EXIT' or move == 'PASS':\n",
    "            return move\n",
    "        elif len(move) == 1: # they guessed a character\n",
    "            if move not in LETTERS: # the user entered an invalid letter (such as @, #, or $)\n",
    "                print('Guesses should be letters. Try again.')\n",
    "                continue\n",
    "            elif move in guessed: # this letter has already been guessed\n",
    "                print('{} has already been guessed. Try again.'.format(move))\n",
    "                continue\n",
    "            elif move in VOWELS and player.prizeMoney < VOWEL_COST: # if it's a vowel, we need to be sure the player has enough\n",
    "                    print('Need ${} to guess a vowel. Try again.'.format(VOWEL_COST))\n",
    "                    continue\n",
    "            else:\n",
    "                return move\n",
    "        else: # they guessed the phrase\n",
    "            return move"
   ]
  },
  {
   "cell_type": "markdown",
   "id": "a63643d1",
   "metadata": {},
   "source": [
    "#### play a round of the game"
   ]
  },
  {
   "cell_type": "code",
   "execution_count": null,
   "id": "cee3996a",
   "metadata": {
    "tags": []
   },
   "outputs": [],
   "source": [
    "# GAME LOGIC CODE\n",
    "print('='*15)\n",
    "print('WHEEL OF PYTHON')\n",
    "print('='*15)\n",
    "print('')\n",
    "\n",
    "# category and phrase are strings.\n",
    "category, phrase = getRandomCategoryAndPhrase()\n",
    "# guessed is a list of the letters that have been guessed\n",
    "guessed = []\n",
    "\n",
    "# playerIndex keeps track of the index (0 to len(players)-1) of the player whose turn it is\n",
    "playerIndex = 0\n",
    "\n",
    "# will be set to the player instance when/if someone wins\n",
    "winner = False\n",
    "\n",
    "while True:\n",
    "    player = players[playerIndex]\n",
    "    wheelPrize = spinWheel()\n",
    "\n",
    "    print('')\n",
    "    print('-'*15)\n",
    "    print(showBoard(category, obscurePhrase(phrase, guessed), guessed))\n",
    "    print('')\n",
    "    print('{} spins...'.format(player.name))\n",
    "    time.sleep(2) # pause for dramatic effect!\n",
    "    print('{}!'.format(wheelPrize['text']))\n",
    "    time.sleep(1) # pause again for more dramatic effect!\n",
    "\n",
    "    if wheelPrize['type'] == 'bankrupt':\n",
    "        player.goBankrupt()\n",
    "    elif wheelPrize['type'] == 'loseturn':\n",
    "        pass # do nothing; just move on to the next player\n",
    "    elif wheelPrize['type'] == 'cash':\n",
    "        move = requestPlayerMove(player, category, guessed)\n",
    "        if move == 'EXIT': # leave the game\n",
    "            print('Until next time!')\n",
    "            break\n",
    "        elif move == 'PASS': # will just move on to next player\n",
    "            print('{} passes'.format(player.name))\n",
    "        elif len(move) == 1: # they guessed a letter\n",
    "            guessed.append(move)\n",
    "\n",
    "            print('{} guesses \"{}\"'.format(player.name, move))\n",
    "\n",
    "            count = phrase.count(move) # returns an integer with how many times this letter appears\n",
    "            if count > 0:\n",
    "                if count == 1:\n",
    "                    print(\"There is one {}\".format(move))\n",
    "                else:\n",
    "                    print(\"There are {} {}'s\".format(count, move))\n",
    "\n",
    "                # Give them the money and the prizes\n",
    "\n",
    "                if move in VOWELS:\n",
    "                    player.prizeMoney -= VOWEL_COST\n",
    "\n",
    "                else:  \n",
    "                    player.addMoney(count * wheelPrize['value'])\n",
    "                    if wheelPrize['prize']:\n",
    "                        player.addPrize(wheelPrize['prize'])\n",
    "\n",
    "                # check if all of the letters have been guessed\n",
    "                if obscurePhrase(phrase, guessed) == phrase:\n",
    "                    winner = player\n",
    "                    break\n",
    "\n",
    "                continue # this player gets to go again\n",
    "\n",
    "            else: # count == 0\n",
    "                print(\"There is no {}\".format(move))\n",
    "\n",
    "        else: # they guessed the whole phrase\n",
    "            if move == phrase: # they guessed the full phrase correctly\n",
    "                winner = player\n",
    "\n",
    "                # Give them the money and the prizes\n",
    "                player.addMoney(wheelPrize['value'])\n",
    "                if wheelPrize['prize']:\n",
    "                    player.addPrize(wheelPrize['prize'])\n",
    "\n",
    "                break\n",
    "            else:\n",
    "                print('{} was not the phrase'.format(move))\n",
    "\n",
    "    # Move on to the next player (or go back to player[0] if we reached the end)\n",
    "    playerIndex = (playerIndex + 1) % len(players)\n",
    "\n",
    "if winner:\n",
    "    # In your head, you should hear this as being announced by a game show host\n",
    "    print('{} wins! The phrase was {}'.format(winner.name, phrase))\n",
    "    print('{} won ${}'.format(winner.name, winner.prizeMoney))\n",
    "    if len(winner.prizes) > 0:\n",
    "        print('{} also won:'.format(winner.name))\n",
    "        for prize in winner.prizes:\n",
    "            print('    - {}'.format(prize))\n",
    "else:\n",
    "    print('Nobody won. The phrase was {}'.format(phrase))\n"
   ]
  },
  {
   "cell_type": "code",
   "execution_count": null,
   "id": "59a517b2",
   "metadata": {},
   "outputs": [],
   "source": []
  },
  {
   "cell_type": "code",
   "execution_count": null,
   "id": "9731b7fb-f862-40c9-9b9a-282828aae426",
   "metadata": {},
   "outputs": [],
   "source": []
  }
 ],
 "metadata": {
  "kernelspec": {
   "display_name": "Python 3 (ipykernel)",
   "language": "python",
   "name": "python3"
  },
  "language_info": {
   "codemirror_mode": {
    "name": "ipython",
    "version": 3
   },
   "file_extension": ".py",
   "mimetype": "text/x-python",
   "name": "python",
   "nbconvert_exporter": "python",
   "pygments_lexer": "ipython3",
   "version": "3.11.6"
  }
 },
 "nbformat": 4,
 "nbformat_minor": 5
}
